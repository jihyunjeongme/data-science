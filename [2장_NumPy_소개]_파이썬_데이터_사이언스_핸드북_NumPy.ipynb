{
  "nbformat": 4,
  "nbformat_minor": 0,
  "metadata": {
    "colab": {
      "name": "[2장-NumPy 소개] 파이썬 데이터 사이언스 핸드북 - NumPy.ipynb",
      "version": "0.3.2",
      "provenance": [],
      "collapsed_sections": [],
      "include_colab_link": true
    },
    "kernelspec": {
      "name": "python3",
      "display_name": "Python 3"
    }
  },
  "cells": [
    {
      "cell_type": "markdown",
      "metadata": {
        "id": "view-in-github",
        "colab_type": "text"
      },
      "source": [
        "<a href=\"https://colab.research.google.com/github/jihyunjeongme/data-science/blob/master/%5B2%EC%9E%A5_NumPy_%EC%86%8C%EA%B0%9C%5D_%ED%8C%8C%EC%9D%B4%EC%8D%AC_%EB%8D%B0%EC%9D%B4%ED%84%B0_%EC%82%AC%EC%9D%B4%EC%96%B8%EC%8A%A4_%ED%95%B8%EB%93%9C%EB%B6%81_NumPy.ipynb\" target=\"_parent\"><img src=\"https://colab.research.google.com/assets/colab-badge.svg\" alt=\"Open In Colab\"/></a>"
      ]
    },
    {
      "cell_type": "markdown",
      "metadata": {
        "id": "1fHibr0pMHYu",
        "colab_type": "text"
      },
      "source": [
        "## 파이썬 데이터 사이언스 핸드북 \n",
        "##### IPython, Jupyter, NumPy, Pandas, Matplotlib, Scikit-Learn 라이브러리를 활용한 데이터 과학과 머신러닝 (Ing)\n",
        "\n",
        "<img src = \"http://image.yes24.com/Goods/50330345/800x0\" width=\"200\" height=\"300\"></img> \n",
        "\n",
        "\n",
        "- Github: https://github.com/jakevdp/PythonDataScienceHandbook\n",
        "- Contactpoint: https://wikibook.co.kr/python-ds-handbook/\n"
      ]
    },
    {
      "cell_type": "code",
      "metadata": {
        "id": "uLFmA3W_LH-A",
        "colab_type": "code",
        "outputId": "077e0957-e03b-4adb-c5c1-a1f600da0e88",
        "colab": {
          "base_uri": "https://localhost:8080/",
          "height": 51
        }
      },
      "source": [
        "import random\n",
        "L = [random.random() for i in range(100000)]\n",
        "%time L.sort()"
      ],
      "execution_count": 1,
      "outputs": [
        {
          "output_type": "stream",
          "text": [
            "CPU times: user 38.4 ms, sys: 0 ns, total: 38.4 ms\n",
            "Wall time: 40.5 ms\n"
          ],
          "name": "stdout"
        }
      ]
    },
    {
      "cell_type": "code",
      "metadata": {
        "id": "q1JjeuwjLskl",
        "colab_type": "code",
        "outputId": "7a0a9007-bf8b-40d5-d8ec-0f77bde56213",
        "colab": {
          "base_uri": "https://localhost:8080/",
          "height": 51
        }
      },
      "source": [
        "%%time\n",
        "\n",
        "import random\n",
        "L = [random.random() for i in range(100000)]\n",
        "L.sort()"
      ],
      "execution_count": 2,
      "outputs": [
        {
          "output_type": "stream",
          "text": [
            "CPU times: user 53.8 ms, sys: 4.18 ms, total: 58 ms\n",
            "Wall time: 64.8 ms\n"
          ],
          "name": "stdout"
        }
      ]
    },
    {
      "cell_type": "code",
      "metadata": {
        "id": "gINknibKQJnx",
        "colab_type": "code",
        "outputId": "46be3e4a-2626-403c-be13-d46ddc5724ee",
        "colab": {
          "base_uri": "https://localhost:8080/",
          "height": 34
        }
      },
      "source": [
        "import numpy\n",
        "numpy.__version__"
      ],
      "execution_count": 3,
      "outputs": [
        {
          "output_type": "execute_result",
          "data": {
            "text/plain": [
              "'1.16.5'"
            ]
          },
          "metadata": {
            "tags": []
          },
          "execution_count": 3
        }
      ]
    },
    {
      "cell_type": "code",
      "metadata": {
        "id": "wMgnzGIJRCwJ",
        "colab_type": "code",
        "colab": {}
      },
      "source": [
        "import numpy as np"
      ],
      "execution_count": 0,
      "outputs": []
    },
    {
      "cell_type": "markdown",
      "metadata": {
        "id": "cBouQQtVidOM",
        "colab_type": "text"
      },
      "source": [
        "## 예제: 미국 대통령의 평균 신장은 얼마일까?\n"
      ]
    },
    {
      "cell_type": "code",
      "metadata": {
        "id": "E5xRFN7ORS9y",
        "colab_type": "code",
        "outputId": "97ce4d17-a264-4311-dd34-04364462efb6",
        "colab": {
          "base_uri": "https://localhost:8080/",
          "height": 122
        }
      },
      "source": [
        "from google.colab import drive\n",
        "\n",
        "drive.mount('/content/gdrive')"
      ],
      "execution_count": 5,
      "outputs": [
        {
          "output_type": "stream",
          "text": [
            "Go to this URL in a browser: https://accounts.google.com/o/oauth2/auth?client_id=947318989803-6bn6qk8qdgf4n4g3pfee6491hc0brc4i.apps.googleusercontent.com&redirect_uri=urn%3Aietf%3Awg%3Aoauth%3A2.0%3Aoob&scope=email%20https%3A%2F%2Fwww.googleapis.com%2Fauth%2Fdocs.test%20https%3A%2F%2Fwww.googleapis.com%2Fauth%2Fdrive%20https%3A%2F%2Fwww.googleapis.com%2Fauth%2Fdrive.photos.readonly%20https%3A%2F%2Fwww.googleapis.com%2Fauth%2Fpeopleapi.readonly&response_type=code\n",
            "\n",
            "Enter your authorization code:\n",
            "··········\n",
            "Mounted at /content/gdrive\n"
          ],
          "name": "stdout"
        }
      ]
    },
    {
      "cell_type": "code",
      "metadata": {
        "id": "DTUtBt-sRZuS",
        "colab_type": "code",
        "outputId": "46c6775f-7fd5-487e-9b67-b42ca734b28d",
        "colab": {
          "base_uri": "https://localhost:8080/",
          "height": 34
        }
      },
      "source": [
        "cd /content/gdrive/My Drive/Colab Notebooks/python_datascience_cookbook/ch_2_numpy"
      ],
      "execution_count": 11,
      "outputs": [
        {
          "output_type": "stream",
          "text": [
            "/content/gdrive/My Drive/Colab Notebooks/python_datascience_cookbook/ch_2_numpy\n"
          ],
          "name": "stdout"
        }
      ]
    },
    {
      "cell_type": "code",
      "metadata": {
        "id": "Ci65rKnikFUl",
        "colab_type": "code",
        "outputId": "a2c74244-2c9e-4cd5-a43b-ab600622db64",
        "colab": {
          "base_uri": "https://localhost:8080/",
          "height": 255
        }
      },
      "source": [
        "import numpy as np\n",
        "import pandas as pd\n",
        "\n",
        "data = pd.read_csv('president_heights.csv')\n",
        "heights = np.array(data['height(cm)'])\n",
        "print(heights)\n",
        "data.head()"
      ],
      "execution_count": 12,
      "outputs": [
        {
          "output_type": "stream",
          "text": [
            "[189 170 189 163 183 171 185 168 173 183 173 173 175 178 183 193 178 173\n",
            " 174 183 183 168 170 178 182 180 183 178 182 188 175 179 183 193 182 183\n",
            " 177 185 188 188 182 185]\n"
          ],
          "name": "stdout"
        },
        {
          "output_type": "execute_result",
          "data": {
            "text/html": [
              "<div>\n",
              "<style scoped>\n",
              "    .dataframe tbody tr th:only-of-type {\n",
              "        vertical-align: middle;\n",
              "    }\n",
              "\n",
              "    .dataframe tbody tr th {\n",
              "        vertical-align: top;\n",
              "    }\n",
              "\n",
              "    .dataframe thead th {\n",
              "        text-align: right;\n",
              "    }\n",
              "</style>\n",
              "<table border=\"1\" class=\"dataframe\">\n",
              "  <thead>\n",
              "    <tr style=\"text-align: right;\">\n",
              "      <th></th>\n",
              "      <th>order</th>\n",
              "      <th>name</th>\n",
              "      <th>height(cm)</th>\n",
              "    </tr>\n",
              "  </thead>\n",
              "  <tbody>\n",
              "    <tr>\n",
              "      <th>0</th>\n",
              "      <td>1</td>\n",
              "      <td>George Washington</td>\n",
              "      <td>189</td>\n",
              "    </tr>\n",
              "    <tr>\n",
              "      <th>1</th>\n",
              "      <td>2</td>\n",
              "      <td>John Adams</td>\n",
              "      <td>170</td>\n",
              "    </tr>\n",
              "    <tr>\n",
              "      <th>2</th>\n",
              "      <td>3</td>\n",
              "      <td>Thomas Jefferson</td>\n",
              "      <td>189</td>\n",
              "    </tr>\n",
              "    <tr>\n",
              "      <th>3</th>\n",
              "      <td>4</td>\n",
              "      <td>James Madison</td>\n",
              "      <td>163</td>\n",
              "    </tr>\n",
              "    <tr>\n",
              "      <th>4</th>\n",
              "      <td>5</td>\n",
              "      <td>James Monroe</td>\n",
              "      <td>183</td>\n",
              "    </tr>\n",
              "  </tbody>\n",
              "</table>\n",
              "</div>"
            ],
            "text/plain": [
              "   order               name  height(cm)\n",
              "0      1  George Washington         189\n",
              "1      2         John Adams         170\n",
              "2      3   Thomas Jefferson         189\n",
              "3      4      James Madison         163\n",
              "4      5       James Monroe         183"
            ]
          },
          "metadata": {
            "tags": []
          },
          "execution_count": 12
        }
      ]
    },
    {
      "cell_type": "code",
      "metadata": {
        "id": "6T8n1g7TkRiA",
        "colab_type": "code",
        "colab": {
          "base_uri": "https://localhost:8080/",
          "height": 85
        },
        "outputId": "7c45de92-c6ae-4d11-8921-300dad4aec1d"
      },
      "source": [
        "# 이 데이터 배열이 있으니 이제 다양한 요약 통계를 계산 할 수 있다.\n",
        "\n",
        "print(\"Mean height: \", heights.mean())\n",
        "print(\"Standard deviation:\", heights.std())\n",
        "print(\"Minimum height:\", heights.min())\n",
        "print(\"Maximum height:\", heights.max())"
      ],
      "execution_count": 13,
      "outputs": [
        {
          "output_type": "stream",
          "text": [
            "Mean height:  179.73809523809524\n",
            "Standard deviation: 6.931843442745892\n",
            "Minimum height: 163\n",
            "Maximum height: 193\n"
          ],
          "name": "stdout"
        }
      ]
    },
    {
      "cell_type": "code",
      "metadata": {
        "id": "3VjYQjA3lOAA",
        "colab_type": "code",
        "colab": {
          "base_uri": "https://localhost:8080/",
          "height": 68
        },
        "outputId": "904cdd8e-6fcc-41c4-b897-7235d5af64d0"
      },
      "source": [
        "print(\"25th percentile:\", np.percentile(heights,25))\n",
        "print(\"Medial:\", np.median(heights))\n",
        "print(\"75th percentile:\", np.percentile(heights, 75))"
      ],
      "execution_count": 14,
      "outputs": [
        {
          "output_type": "stream",
          "text": [
            "25th percentile: 174.25\n",
            "Medial: 182.0\n",
            "75th percentile: 183.0\n"
          ],
          "name": "stdout"
        }
      ]
    },
    {
      "cell_type": "code",
      "metadata": {
        "id": "0PFvUzo_lwph",
        "colab_type": "code",
        "colab": {}
      },
      "source": [
        "# 미국 대통령 신장의 중앙값은 182 cm"
      ],
      "execution_count": 0,
      "outputs": []
    },
    {
      "cell_type": "code",
      "metadata": {
        "id": "MAV2rQ0-l7JV",
        "colab_type": "code",
        "colab": {
          "base_uri": "https://localhost:8080/",
          "height": 318
        },
        "outputId": "fff24d95-1ee9-4290-9246-eb8e214a0c8c"
      },
      "source": [
        "# Matplotlib의 도구를 이용해 시각적으로 표현하는게 유용할 때도 있다.\n",
        "\n",
        "%matplotlib inline\n",
        "import matplotlib.pyplot as plt\n",
        "import seaborn; seaborn.set()\n",
        "\n",
        "plt.hist(heights)\n",
        "plt.title('Height Distribution of US presidents')\n",
        "plt.xlabel('height (cm)')\n",
        "plt.ylabel('number')"
      ],
      "execution_count": 16,
      "outputs": [
        {
          "output_type": "execute_result",
          "data": {
            "text/plain": [
              "Text(0, 0.5, 'number')"
            ]
          },
          "metadata": {
            "tags": []
          },
          "execution_count": 16
        },
        {
          "output_type": "display_data",
          "data": {
            "image/png": "[encoded data removed]",
            "text/plain": [
              "<Figure size 432x288 with 1 Axes>"
            ]
          },
          "metadata": {
            "tags": []
          }
        }
      ]
    },
    {
      "cell_type": "markdown",
      "metadata": {
        "id": "n-Qxqi4An1LM",
        "colab_type": "text"
      },
      "source": [
        "## 예제: 비온 날 세기\n",
        "- 어느 도시의 일 년간 일일 강수량을 표시한 일련의 데이터"
      ]
    },
    {
      "cell_type": "code",
      "metadata": {
        "id": "wiyAkFizmFq2",
        "colab_type": "code",
        "colab": {
          "base_uri": "https://localhost:8080/",
          "height": 391
        },
        "outputId": "a5b5d519-8cf1-45b5-dd32-7480b98a8bbb"
      },
      "source": [
        "import numpy as np\n",
        "import pandas as pd\n",
        "\n",
        "# Pandas를 이용해 인치 단위의 강수량 데이터를 Numpy 배열로 추출\n",
        "\n",
        "rainfall = pd.read_csv('Seattle2014.csv')['PRCP'].values\n",
        "print(rainfall)\n",
        "inches = rainfall / 254 # 1/10mm -> inches\n",
        "inches.shape"
      ],
      "execution_count": 17,
      "outputs": [
        {
          "output_type": "stream",
          "text": [
            "[  0  41  15   0   0   3 122  97  58  43 213  15   0   0   0   0   0   0\n",
            "   0   0   0   5   0   0   0   0   0  89 216   0  23  20   0   0   0   0\n",
            "   0   0  51   5 183 170  46  18  94 117 264 145 152  10  30  28  25  61\n",
            " 130   3   0   0   0   5 191 107 165 467  30   0 323  43 188   0   0   5\n",
            "  69  81 277   3   0   5   0   0   0   0   0  41  36   3 221 140   0   0\n",
            "   0   0  25   0  46   0   0  46   0   0   0   0   0   0   5 109 185   0\n",
            " 137   0  51 142  89 124   0  33  69   0   0   0   0   0 333 160  51   0\n",
            "   0 137  20   5   0   0   0   0   0   0   0   0   0   0   0   0  38   0\n",
            "  56   0   0   0   0   0   0   0   0   0   0   0   0   0   0   0   0   0\n",
            "  18  64   0   5  36  13   0   8   3   0   0   0   0   0   0  18  23   0\n",
            "   0   0   0   0   0   0   0   0   0   0   0   0   0   0   0   0   0   0\n",
            "   0   0   0   0   3 193   0   0   0   0   0   0   0   0   0   5   0   0\n",
            "   0   0   0   0   0   0   5 127 216   0  10   0   0   0   0   0   0   0\n",
            "   0   0   0   0   0   0   0  84  13   0  30   0   0   0   0   0   0   0\n",
            "   0   0   0   0   0   0   0   5   3   0   0   0   3 183 203  43  89   0\n",
            "   0   8   0   0   0   0   0   0   0   0   0   0   3  74   0  76  71  86\n",
            "   0  33 150   0 117  10 320  94  41  61  15   8 127   5 254 170   0  18\n",
            " 109  41  48  41   0   0  51   0   0   0   0   0   0   0   0   0   0  36\n",
            " 152   5 119  13 183   3  33 343  36   0   0   0   0   8  30  74   0  91\n",
            "  99 130  69   0   0   0   0   0  28 130  30 196   0   0 206  53   0   0\n",
            "  33  41   0   0   0]\n"
          ],
          "name": "stdout"
        },
        {
          "output_type": "execute_result",
          "data": {
            "text/plain": [
              "(365,)"
            ]
          },
          "metadata": {
            "tags": []
          },
          "execution_count": 17
        }
      ]
    },
    {
      "cell_type": "code",
      "metadata": {
        "id": "WfwTGeWuoWtf",
        "colab_type": "code",
        "colab": {}
      },
      "source": [
        "# 배열에는 2014년 1월 1일부터 12월 31일까지 인치 단위의 일일 강수량을 나타내는 365개의 값이 들어 있다."
      ],
      "execution_count": 0,
      "outputs": []
    },
    {
      "cell_type": "code",
      "metadata": {
        "id": "uPtG8xyaoxlq",
        "colab_type": "code",
        "colab": {
          "base_uri": "https://localhost:8080/",
          "height": 512
        },
        "outputId": "c83a15a0-f595-45f0-b4ee-13375ac4daff"
      },
      "source": [
        "%matplotlib inline\n",
        "import matplotlib.pyplot as plt\n",
        "import seaborn\n",
        "seaborn.set() # 플롯 형식 설정\n",
        "plt.hist(inches, 40)"
      ],
      "execution_count": 19,
      "outputs": [
        {
          "output_type": "execute_result",
          "data": {
            "text/plain": [
              "(array([245.,  14.,  13.,  17.,   8.,   6.,   5.,   6.,   4.,   3.,   7.,\n",
              "          6.,   3.,   3.,   3.,   4.,   4.,   2.,   4.,   0.,   0.,   1.,\n",
              "          1.,   1.,   0.,   0.,   0.,   2.,   1.,   1.,   0.,   0.,   0.,\n",
              "          0.,   0.,   0.,   0.,   0.,   0.,   1.]),\n",
              " array([0.        , 0.04596457, 0.09192913, 0.1378937 , 0.18385827,\n",
              "        0.22982283, 0.2757874 , 0.32175197, 0.36771654, 0.4136811 ,\n",
              "        0.45964567, 0.50561024, 0.5515748 , 0.59753937, 0.64350394,\n",
              "        0.6894685 , 0.73543307, 0.78139764, 0.8273622 , 0.87332677,\n",
              "        0.91929134, 0.96525591, 1.01122047, 1.05718504, 1.10314961,\n",
              "        1.14911417, 1.19507874, 1.24104331, 1.28700787, 1.33297244,\n",
              "        1.37893701, 1.42490157, 1.47086614, 1.51683071, 1.56279528,\n",
              "        1.60875984, 1.65472441, 1.70068898, 1.74665354, 1.79261811,\n",
              "        1.83858268]),\n",
              " <a list of 40 Patch objects>)"
            ]
          },
          "metadata": {
            "tags": []
          },
          "execution_count": 19
        },
        {
          "output_type": "display_data",
          "data": {
            "image/png": "[encoded data removed]",
            "text/plain": [
              "<Figure size 432x288 with 1 Axes>"
            ]
          },
          "metadata": {
            "tags": []
          }
        }
      ]
    },
    {
      "cell_type": "code",
      "metadata": {
        "id": "yr0X_U5go56b",
        "colab_type": "code",
        "colab": {}
      },
      "source": [
        "# 대다수 날에 강수량이 0에 가까운 모습을 볼 수 있다.\n",
        "\n",
        "# 그렇지만 이 그래프는 '그해 비가 온날은 몇일까?','비 오는 날의 평균 강수량은 얼마인가'\n",
        "# '0.5인치 이상 비가 온날은 며칠이나 될까?' 등 우리가 알고자 하는 정보를 전달하기에는 적합하지 않다."
      ],
      "execution_count": 0,
      "outputs": []
    },
    {
      "cell_type": "markdown",
      "metadata": {
        "id": "YeyQ5B3cBKwZ",
        "colab_type": "text"
      },
      "source": [
        "## 예제: 임의의 점 선택하기\n",
        "- 팬시 인덱싱의 보편적인 용도는 행령에서 행의 부분집합을 선택하는 것\n",
        "- 예를 들어, 2차원 정규분포에서 뽑아낸 다음 점들처럼 D차원에 N개의 점을 표시하는 NxD 행렬이 있다고 해보자."
      ]
    },
    {
      "cell_type": "code",
      "metadata": {
        "id": "6mmQfGzCpRAU",
        "colab_type": "code",
        "colab": {
          "base_uri": "https://localhost:8080/",
          "height": 34
        },
        "outputId": "d7f37772-3a0e-4ca2-cfdf-d3d01729149a"
      },
      "source": [
        "mean = [0, 0]\n",
        "cov = [[1,2],\n",
        "       [2,5]]\n",
        "X = np.random.multivariate_normal(mean, cov, 100)\n",
        "X.shape[0]\n",
        "# print(X) "
      ],
      "execution_count": 21,
      "outputs": [
        {
          "output_type": "execute_result",
          "data": {
            "text/plain": [
              "100"
            ]
          },
          "metadata": {
            "tags": []
          },
          "execution_count": 21
        }
      ]
    },
    {
      "cell_type": "code",
      "metadata": {
        "id": "js0ydMMPAe4A",
        "colab_type": "code",
        "colab": {
          "base_uri": "https://localhost:8080/",
          "height": 291
        },
        "outputId": "a2876c5c-4efe-4847-883a-a8b52e8c7c22"
      },
      "source": [
        "%matplotlib inline\n",
        "import matplotlib.pyplot as plt\n",
        "import seaborn\n",
        "seaborn.set()\n",
        "plt.scatter(X[:,0], X[:, 1])"
      ],
      "execution_count": 22,
      "outputs": [
        {
          "output_type": "execute_result",
          "data": {
            "text/plain": [
              "<matplotlib.collections.PathCollection at 0x7f3b64b439b0>"
            ]
          },
          "metadata": {
            "tags": []
          },
          "execution_count": 22
        },
        {
          "output_type": "display_data",
          "data": {
            "image/png": "[encoded data removed]",
            "text/plain": [
              "<Figure size 432x288 with 1 Axes>"
            ]
          },
          "metadata": {
            "tags": []
          }
        }
      ]
    },
    {
      "cell_type": "code",
      "metadata": {
        "id": "zZGLKXDgC_Y7",
        "colab_type": "code",
        "colab": {
          "base_uri": "https://localhost:8080/",
          "height": 51
        },
        "outputId": "5c797617-9419-4f2d-be18-0e209faa1310"
      },
      "source": [
        "# 팬싱 인덱싱을 이용해 임의의 점 20개를 선택하자.\n",
        "# 우선 반복 없이 임의로 인덱스를 20개 선택하고 그 인덱스를 사용해 원본 배열의 일부를 선택한다.\n",
        "\n",
        "indices = np.random.choice(X.shape[0], 20, replace=False)\n",
        "indices\n"
      ],
      "execution_count": 23,
      "outputs": [
        {
          "output_type": "execute_result",
          "data": {
            "text/plain": [
              "array([22, 44, 81, 18, 71, 73, 94, 96, 60, 70, 17, 86, 93, 48, 59, 77, 62,\n",
              "        5, 97, 16])"
            ]
          },
          "metadata": {
            "tags": []
          },
          "execution_count": 23
        }
      ]
    },
    {
      "cell_type": "code",
      "metadata": {
        "id": "Nb6QEog_MXR9",
        "colab_type": "code",
        "colab": {
          "base_uri": "https://localhost:8080/",
          "height": 34
        },
        "outputId": "03105bc0-8827-415c-c302-ada843653a21"
      },
      "source": [
        "selection = X[indices] # 여기에 팬시 인덱싱 사용\n",
        "selection.shape"
      ],
      "execution_count": 24,
      "outputs": [
        {
          "output_type": "execute_result",
          "data": {
            "text/plain": [
              "(20, 2)"
            ]
          },
          "metadata": {
            "tags": []
          },
          "execution_count": 24
        }
      ]
    },
    {
      "cell_type": "code",
      "metadata": {
        "id": "exX84aUzQmYu",
        "colab_type": "code",
        "colab": {
          "base_uri": "https://localhost:8080/",
          "height": 291
        },
        "outputId": "de76c15c-9b47-4426-9512-a45b8a884922"
      },
      "source": [
        "# 이제 어느 점시 선택 됐는지 보기 위해 선택된점 위에 큰 동그라미를 표시하자\n",
        "# 원래\n",
        "# plt.scatter(X[:,0], X[:, 1], alpha=0.3)\n",
        "# plt.scatter(selection[:,0], selection[:,1],\n",
        "#            facecolor='none', s=200)\n",
        "\n",
        "# 내가 수정\n",
        "# 이제 어느 점시 선택 됐는지 보기 위해 선택된점 위에 큰 동그라미를 표시하자\n",
        "plt.scatter(X[:,0], X[:, 1], alpha=0.3)\n",
        "plt.scatter(selection[:,0], selection[:,1],\n",
        "           facecolor='blue', s=50)\n"
      ],
      "execution_count": 36,
      "outputs": [
        {
          "output_type": "execute_result",
          "data": {
            "text/plain": [
              "<matplotlib.collections.PathCollection at 0x7f3b6470a6d8>"
            ]
          },
          "metadata": {
            "tags": []
          },
          "execution_count": 36
        },
        {
          "output_type": "display_data",
          "data": {
            "image/png": "[encoded data removed]",
            "text/plain": [
              "<Figure size 432x288 with 1 Axes>"
            ]
          },
          "metadata": {
            "tags": []
          }
        }
      ]
    },
    {
      "cell_type": "code",
      "metadata": {
        "id": "aWat9WySQ7bc",
        "colab_type": "code",
        "colab": {
          "base_uri": "https://localhost:8080/",
          "height": 51
        },
        "outputId": "4cbda95b-3d1b-4bd7-f43f-4bc9eb4d1508"
      },
      "source": [
        "x = np.arange(10)\n",
        "print(x)\n",
        "i = np.array([2,1,8,4])\n",
        "print(i)"
      ],
      "execution_count": 40,
      "outputs": [
        {
          "output_type": "stream",
          "text": [
            "[0 1 2 3 4 5 6 7 8 9]\n",
            "[2 1 8 4]\n"
          ],
          "name": "stdout"
        }
      ]
    },
    {
      "cell_type": "code",
      "metadata": {
        "id": "ZqgbFBefRw_W",
        "colab_type": "code",
        "colab": {
          "base_uri": "https://localhost:8080/",
          "height": 51
        },
        "outputId": "2904bc0e-47cc-4eef-936c-6e068185524d"
      },
      "source": [
        "print(x[i])\n",
        "x[i] = 99\n",
        "print(x)"
      ],
      "execution_count": 42,
      "outputs": [
        {
          "output_type": "stream",
          "text": [
            "[2 1 8 4]\n",
            "[ 0 99 99  3 99  5  6  7 99  9]\n"
          ],
          "name": "stdout"
        }
      ]
    },
    {
      "cell_type": "markdown",
      "metadata": {
        "id": "z4VLpJ9HSlr0",
        "colab_type": "text"
      },
      "source": [
        "## 예제: 데이터 구간화\n",
        "- 이 아이디어를 이용하면 데이터를 효율적으로 구간화(binning)해서 직접 히스토그램을 생성할 수 있다.\n",
        "- 1000개의 값이 있고 그 값들을 구간 배열에서 어디에 속하는지 빠르게 찾고 싶다고 하자. 다음과 같이 ufunc.at을 이용해 그것을 계산할 수 있다."
      ]
    },
    {
      "cell_type": "code",
      "metadata": {
        "id": "47NXV7fwR6Ko",
        "colab_type": "code",
        "colab": {
          "base_uri": "https://localhost:8080/",
          "height": 476
        },
        "outputId": "e30ee26c-ba83-40a0-e139-5631e2da4a02"
      },
      "source": [
        "np.random.seed(42)\n",
        "x = np.random.randn(100)\n",
        "\n",
        "print(\"x:\", x)\n",
        "\n",
        "# 직접 히스토그램 계산하기\n",
        "bins = np.linspace(-5, 5, 20)\n",
        "print(\"bins:\", bins)\n",
        "counts = np.zeros_like(bins)\n",
        "print(\"counts:\", counts)\n",
        "\n",
        "# 각 x에 대한 적절한 구간 찾기\n",
        "i = np.searchsorted(bins, x)\n",
        "print(\"i:\", i)\n",
        "\n",
        "# 각 구간에 1 더하기\n",
        "np.add.at(counts,i,1)"
      ],
      "execution_count": 49,
      "outputs": [
        {
          "output_type": "stream",
          "text": [
            "x: [ 0.49671415 -0.1382643   0.64768854  1.52302986 -0.23415337 -0.23413696\n",
            "  1.57921282  0.76743473 -0.46947439  0.54256004 -0.46341769 -0.46572975\n",
            "  0.24196227 -1.91328024 -1.72491783 -0.56228753 -1.01283112  0.31424733\n",
            " -0.90802408 -1.4123037   1.46564877 -0.2257763   0.0675282  -1.42474819\n",
            " -0.54438272  0.11092259 -1.15099358  0.37569802 -0.60063869 -0.29169375\n",
            " -0.60170661  1.85227818 -0.01349722 -1.05771093  0.82254491 -1.22084365\n",
            "  0.2088636  -1.95967012 -1.32818605  0.19686124  0.73846658  0.17136828\n",
            " -0.11564828 -0.3011037  -1.47852199 -0.71984421 -0.46063877  1.05712223\n",
            "  0.34361829 -1.76304016  0.32408397 -0.38508228 -0.676922    0.61167629\n",
            "  1.03099952  0.93128012 -0.83921752 -0.30921238  0.33126343  0.97554513\n",
            " -0.47917424 -0.18565898 -1.10633497 -1.19620662  0.81252582  1.35624003\n",
            " -0.07201012  1.0035329   0.36163603 -0.64511975  0.36139561  1.53803657\n",
            " -0.03582604  1.56464366 -2.6197451   0.8219025   0.08704707 -0.29900735\n",
            "  0.09176078 -1.98756891 -0.21967189  0.35711257  1.47789404 -0.51827022\n",
            " -0.8084936  -0.50175704  0.91540212  0.32875111 -0.5297602   0.51326743\n",
            "  0.09707755  0.96864499 -0.70205309 -0.32766215 -0.39210815 -1.46351495\n",
            "  0.29612028  0.26105527  0.00511346 -0.23458713]\n",
            "bins: [-5.         -4.47368421 -3.94736842 -3.42105263 -2.89473684 -2.36842105\n",
            " -1.84210526 -1.31578947 -0.78947368 -0.26315789  0.26315789  0.78947368\n",
            "  1.31578947  1.84210526  2.36842105  2.89473684  3.42105263  3.94736842\n",
            "  4.47368421  5.        ]\n",
            "counts: [0. 0. 0. 0. 0. 0. 0. 0. 0. 0. 0. 0. 0. 0. 0. 0. 0. 0. 0. 0.]\n",
            "i: [11 10 11 13 10 10 13 11  9 11  9  9 10  6  7  9  8 11  8  7 13 10 10  7\n",
            "  9 10  8 11  9  9  9 14 10  8 12  8 10  6  7 10 11 10 10  9  7  9  9 12\n",
            " 11  7 11  9  9 11 12 12  8  9 11 12  9 10  8  8 12 13 10 12 11  9 11 13\n",
            " 10 13  5 12 10  9 10  6 10 11 13  9  8  9 12 11  9 11 10 12  9  9  9  7\n",
            " 11 10 10 10]\n"
          ],
          "name": "stdout"
        }
      ]
    },
    {
      "cell_type": "code",
      "metadata": {
        "id": "c9qo8tHaTFs-",
        "colab_type": "code",
        "colab": {
          "base_uri": "https://localhost:8080/",
          "height": 291
        },
        "outputId": "85b79932-b7ad-457c-86cd-9ae80ffdce70"
      },
      "source": [
        "# 이제 집계값인 counts는 각 구간 내에 포함된 점의 개수, 즉 히스토그램을 나타낸다.\n",
        "\n",
        "# 결과 플로팅하기\n",
        "plt.plot(bins, counts, linestyle='steps')"
      ],
      "execution_count": 50,
      "outputs": [
        {
          "output_type": "execute_result",
          "data": {
            "text/plain": [
              "[<matplotlib.lines.Line2D at 0x7f3b6460f9b0>]"
            ]
          },
          "metadata": {
            "tags": []
          },
          "execution_count": 50
        },
        {
          "output_type": "display_data",
          "data": {
            "image/png": "[encoded data removed]",
            "text/plain": [
              "<Figure size 432x288 with 1 Axes>"
            ]
          },
          "metadata": {
            "tags": []
          }
        }
      ]
    },
    {
      "cell_type": "code",
      "metadata": {
        "id": "8ZtXLaJbT8pb",
        "colab_type": "code",
        "colab": {
          "base_uri": "https://localhost:8080/",
          "height": 393
        },
        "outputId": "9ec1d080-57be-416d-9ed0-7fbf697da6e6"
      },
      "source": [
        "# Matplotlib이 한줄로 동일한 결과를 내는 plt.hist() 루틴을 제공\n",
        "\n",
        "plt.hist(x, bins, histtype='step')"
      ],
      "execution_count": 52,
      "outputs": [
        {
          "output_type": "execute_result",
          "data": {
            "text/plain": [
              "(array([ 0.,  0.,  0.,  0.,  1.,  3.,  7.,  9., 23., 22., 17., 10.,  7.,\n",
              "         1.,  0.,  0.,  0.,  0.,  0.]),\n",
              " array([-5.        , -4.47368421, -3.94736842, -3.42105263, -2.89473684,\n",
              "        -2.36842105, -1.84210526, -1.31578947, -0.78947368, -0.26315789,\n",
              "         0.26315789,  0.78947368,  1.31578947,  1.84210526,  2.36842105,\n",
              "         2.89473684,  3.42105263,  3.94736842,  4.47368421,  5.        ]),\n",
              " <a list of 1 Patch objects>)"
            ]
          },
          "metadata": {
            "tags": []
          },
          "execution_count": 52
        },
        {
          "output_type": "display_data",
          "data": {
            "image/png": "[encoded data removed]",
            "text/plain": [
              "<Figure size 432x288 with 1 Axes>"
            ]
          },
          "metadata": {
            "tags": []
          }
        }
      ]
    },
    {
      "cell_type": "markdown",
      "metadata": {
        "id": "V9gUQSVPWthd",
        "colab_type": "text"
      },
      "source": [
        "## 예제: k 최근접 이웃 알고리즘\n",
        "- 집합에서 각 점의 가장 가까운 이웃들을 찾기 위해 여러 축을 따라 argsort 함수를 어떻게 사용하는지 간단히 배워보자\n",
        "- 우선 2차원 평면에 임의의점 10개를 가지는 집합을 만들다.\n",
        "- 표준 규악에 따라 이것들을 10x2배열에 배치 할 것이다."
      ]
    },
    {
      "cell_type": "code",
      "metadata": {
        "id": "nsfy1P5CUjKi",
        "colab_type": "code",
        "colab": {}
      },
      "source": [
        "X = np.random.rand(10,2)"
      ],
      "execution_count": 0,
      "outputs": []
    },
    {
      "cell_type": "code",
      "metadata": {
        "id": "l3ZKWG1cXH5G",
        "colab_type": "code",
        "colab": {
          "base_uri": "https://localhost:8080/",
          "height": 187
        },
        "outputId": "7ebfec38-7805-4883-f427-8cbb3976235f"
      },
      "source": [
        "print(X)"
      ],
      "execution_count": 57,
      "outputs": [
        {
          "output_type": "stream",
          "text": [
            "[[0.417411   0.22210781]\n",
            " [0.11986537 0.33761517]\n",
            " [0.9429097  0.32320293]\n",
            " [0.51879062 0.70301896]\n",
            " [0.3636296  0.97178208]\n",
            " [0.96244729 0.2517823 ]\n",
            " [0.49724851 0.30087831]\n",
            " [0.28484049 0.03688695]\n",
            " [0.60956433 0.50267902]\n",
            " [0.05147875 0.27864646]]\n"
          ],
          "name": "stdout"
        }
      ]
    },
    {
      "cell_type": "code",
      "metadata": {
        "id": "QPvl3cGBXQBf",
        "colab_type": "code",
        "colab": {
          "base_uri": "https://localhost:8080/",
          "height": 291
        },
        "outputId": "50b76760-a2d4-4533-ce90-1118ed22c2a4"
      },
      "source": [
        "%matplotlib inline\n",
        "import matplotlib.pyplot as plt\n",
        "import seaborn\n",
        "seaborn.set() # 플롯 스타일링\n",
        "plt.scatter(X[:, 0], X[:,1], s=100)"
      ],
      "execution_count": 58,
      "outputs": [
        {
          "output_type": "execute_result",
          "data": {
            "text/plain": [
              "<matplotlib.collections.PathCollection at 0x7f3b643d0550>"
            ]
          },
          "metadata": {
            "tags": []
          },
          "execution_count": 58
        },
        {
          "output_type": "display_data",
          "data": {
            "image/png": "[encoded data removed]",
            "text/plain": [
              "<Figure size 432x288 with 1 Axes>"
            ]
          },
          "metadata": {
            "tags": []
          }
        }
      ]
    },
    {
      "cell_type": "code",
      "metadata": {
        "id": "xf722je4Xf7x",
        "colab_type": "code",
        "colab": {}
      },
      "source": [
        "# 이제 각 쌍의 점 사이의 거리를 계산\n",
        "# 두 점 사이의 거리 제곱은 각 차원 간의 차이를 제곱해서 더한 값과 같다.\n",
        "# 브로드캐스팅과 집계 루틴을 사용해 코드 한줄로 제곱 거리 행렬을 계산.\n",
        "\n",
        "dist_sq = np.sum((X[:,np.newaxis,:] - X[np.newaxis,:,:]) ** 2, axis=-1)"
      ],
      "execution_count": 0,
      "outputs": []
    },
    {
      "cell_type": "code",
      "metadata": {
        "id": "cexFmoatYSG6",
        "colab_type": "code",
        "colab": {
          "base_uri": "https://localhost:8080/",
          "height": 34
        },
        "outputId": "a3324f53-acd1-4f83-b219-514384633e0b"
      },
      "source": [
        "# 작업한 내용을 확인하는 차원에서 이 행렬의 대각선(즉, 각 점과 그 점 자신 사이의 거리 집합)이 모두 0인지 확인해야함.\n",
        "dist_sq.diagonal()"
      ],
      "execution_count": 60,
      "outputs": [
        {
          "output_type": "execute_result",
          "data": {
            "text/plain": [
              "array([0., 0., 0., 0., 0., 0., 0., 0., 0., 0.])"
            ]
          },
          "metadata": {
            "tags": []
          },
          "execution_count": 60
        }
      ]
    },
    {
      "cell_type": "code",
      "metadata": {
        "id": "RgHMkkWpYfQp",
        "colab_type": "code",
        "colab": {
          "base_uri": "https://localhost:8080/",
          "height": 187
        },
        "outputId": "7d6c2d42-14c8-4134-b0b2-3ed71774ecbf"
      },
      "source": [
        "# 확인 끝.\n",
        "# 이 제곱 거리를 변환하면 이제 np.argsort를 이용해 행별로 정렬 할 수 있다.\n",
        "# 그러면 가장 왼쪽 열이 가장 가까운 이웃의 인덱스를 제공\n",
        "\n",
        "nearest = np.argsort(dist_sq, axis=1)\n",
        "print(nearest)"
      ],
      "execution_count": 62,
      "outputs": [
        {
          "output_type": "stream",
          "text": [
            "[[0 6 7 1 8 9 3 2 5 4]\n",
            " [1 9 0 7 6 8 3 4 2 5]\n",
            " [2 5 8 6 0 3 7 1 4 9]\n",
            " [3 8 4 6 0 1 2 9 5 7]\n",
            " [4 3 8 1 6 0 9 2 5 7]\n",
            " [5 2 8 6 0 3 7 1 9 4]\n",
            " [6 0 8 7 1 3 2 9 5 4]\n",
            " [7 0 9 6 1 8 3 5 2 4]\n",
            " [8 3 6 0 2 5 1 4 7 9]\n",
            " [9 1 7 0 6 8 3 4 2 5]]\n"
          ],
          "name": "stdout"
        }
      ]
    },
    {
      "cell_type": "code",
      "metadata": {
        "id": "UmhSfRtzYtYu",
        "colab_type": "code",
        "colab": {}
      },
      "source": [
        "# 첫번째 열은 숫자 0부터 9까지 순서대로 나타나는 것을 알 수 있다.\n",
        "# 각 점의 가장 가까운 이웃은 자기 자신이기 때문."
      ],
      "execution_count": 0,
      "outputs": []
    },
    {
      "cell_type": "code",
      "metadata": {
        "id": "kr7xP5aDZWTw",
        "colab_type": "code",
        "colab": {}
      },
      "source": [
        "# 가장 가까운 k 이웃을 구하기만 하면 된다면 각 행을 파티션으로 나눠 가장 작은 k + 1 개의 제곱 거리가 먼저오고 그 보다 큰 거리의 요소를 배열의 나머지 위치에 채워지게만 하면 된다.\n",
        "# 이 작업은 np.argpartition 함수로 할 수 있다.\n",
        "\n",
        "K = 2\n",
        "nearest_partition = np.argpartition(dist_sq, K+1, axis=1)"
      ],
      "execution_count": 0,
      "outputs": []
    },
    {
      "cell_type": "code",
      "metadata": {
        "id": "CKIH3w_KZlRq",
        "colab_type": "code",
        "colab": {
          "base_uri": "https://localhost:8080/",
          "height": 274
        },
        "outputId": "25278e8b-d901-4ee8-eea5-823446e9fb48"
      },
      "source": [
        "plt.scatter(X[:, 0], X[:, 1], s=100)\n",
        "\n",
        "# 각 점을 두 개의 가장 가까운 이웃과 선으로 이음\n",
        "K=2\n",
        "for i in range(X.shape[0]):\n",
        "  for j in nearest_partition[i, :K+1]:\n",
        "    # X[i]부터 X[j]까지 선으로 이음\n",
        "    # zip 매직 함수를 이용함\n",
        "    plt.plot(*zip(X[j], X[i]), color='black')"
      ],
      "execution_count": 66,
      "outputs": [
        {
          "output_type": "display_data",
          "data": {
            "image/png": "[encoded data removed]",
            "text/plain": [
              "<Figure size 432x288 with 1 Axes>"
            ]
          },
          "metadata": {
            "tags": []
          }
        }
      ]
    },
    {
      "cell_type": "code",
      "metadata": {
        "id": "C8ajEEWxaAPo",
        "colab_type": "code",
        "colab": {}
      },
      "source": [
        "# 도쿄의 각 점은 두개의 가장 가까운 이웃과 선으로 연결돼 있다."
      ],
      "execution_count": 0,
      "outputs": []
    }
  ]
}