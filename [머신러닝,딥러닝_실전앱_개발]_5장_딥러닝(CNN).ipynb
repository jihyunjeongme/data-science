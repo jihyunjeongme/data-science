{
  "nbformat": 4,
  "nbformat_minor": 0,
  "metadata": {
    "colab": {
      "name": "[머신러닝,딥러닝 실전앱 개발] 5장_딥러닝(CNN).ipynb",
      "version": "0.3.2",
      "provenance": [],
      "collapsed_sections": [],
      "include_colab_link": true
    },
    "kernelspec": {
      "name": "python3",
      "display_name": "Python 3"
    },
    "accelerator": "GPU"
  },
  "cells": [
    {
      "cell_type": "markdown",
      "metadata": {
        "id": "view-in-github",
        "colab_type": "text"
      },
      "source": [
        "<a href=\"https://colab.research.google.com/github/jihyunjeongme/data-science/blob/master/%5B%EB%A8%B8%EC%8B%A0%EB%9F%AC%EB%8B%9D%2C%EB%94%A5%EB%9F%AC%EB%8B%9D_%EC%8B%A4%EC%A0%84%EC%95%B1_%EA%B0%9C%EB%B0%9C%5D_5%EC%9E%A5_%EB%94%A5%EB%9F%AC%EB%8B%9D(CNN).ipynb\" target=\"_parent\"><img src=\"https://colab.research.google.com/assets/colab-badge.svg\" alt=\"Open In Colab\"/></a>"
      ]
    },
    {
      "cell_type": "markdown",
      "metadata": {
        "id": "fInSXy0BsUWo",
        "colab_type": "text"
      },
      "source": [
        ""
      ]
    },
    {
      "cell_type": "code",
      "metadata": {
        "id": "7hSx5kkvr_jE",
        "colab_type": "code",
        "colab": {}
      },
      "source": [
        "# CNN으로 MNIST 분류 문제 풀기\n",
        "\n",
        "import keras\n",
        "from keras.models import Sequential\n",
        "from keras.layers import Dense, Dropout, Flatten\n",
        "from keras.layers import Conv2D, MaxPooling2D\n",
        "from keras.optimizers import RMSprop\n",
        "from keras.datasets import mnist\n",
        "import matplotlib.pyplot as plt"
      ],
      "execution_count": 0,
      "outputs": []
    },
    {
      "cell_type": "code",
      "metadata": {
        "id": "2-xCowh2sb31",
        "colab_type": "code",
        "colab": {}
      },
      "source": [
        "# 입력과 출력 지정하기 \n",
        "\n",
        "im_rows = 28 # 이미지의 세로 픽셀 크기\n",
        "im_cols = 28 # 이미지의 가로 픽셀 크기\n",
        "im_color = 1 # 이미지의 색공간 / 그레이스케일\n",
        "in_shape = (im_rows, im_cols, im_color)\n",
        "out_size = 10"
      ],
      "execution_count": 0,
      "outputs": []
    },
    {
      "cell_type": "code",
      "metadata": {
        "id": "7dS8de_htK4X",
        "colab_type": "code",
        "colab": {
          "base_uri": "https://localhost:8080/",
          "height": 51
        },
        "outputId": "e889c657-2074-4d58-fcd3-c8c71722913c"
      },
      "source": [
        "# MNIST 데이터 읽어 들이기\n",
        "\n",
        "(X_train, y_train), (X_test, y_test) = mnist.load_data()\n",
        "\n",
        "# 읽어들인 데이터를 3차원 배열로 변환하기\n",
        "X_train = X_train.reshape(-1, im_rows, im_cols, im_color)\n",
        "X_train = X_\n"
      ],
      "execution_count": 5,
      "outputs": [
        {
          "output_type": "stream",
          "text": [
            "Downloading data from https://s3.amazonaws.com/img-datasets/mnist.npz\n",
            "11493376/11490434 [==============================] - 0s 0us/step\n"
          ],
          "name": "stdout"
        }
      ]
    },
    {
      "cell_type": "code",
      "metadata": {
        "id": "ADKW-6YBtig7",
        "colab_type": "code",
        "colab": {}
      },
      "source": [
        ""
      ],
      "execution_count": 0,
      "outputs": []
    }
  ]
}