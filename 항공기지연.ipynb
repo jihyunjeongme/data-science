{
  "nbformat": 4,
  "nbformat_minor": 0,
  "metadata": {
    "colab": {
      "name": "항공기지연.ipynb",
      "version": "0.3.2",
      "provenance": [],
      "include_colab_link": true
    },
    "kernelspec": {
      "name": "python3",
      "display_name": "Python 3"
    }
  },
  "cells": [
    {
      "cell_type": "markdown",
      "metadata": {
        "id": "view-in-github",
        "colab_type": "text"
      },
      "source": [
        "<a href=\"https://colab.research.google.com/github/jihyunjeongme/data-science/blob/master/%ED%95%AD%EA%B3%B5%EA%B8%B0%EC%A7%80%EC%97%B0.ipynb\" target=\"_parent\"><img src=\"https://colab.research.google.com/assets/colab-badge.svg\" alt=\"Open In Colab\"/></a>"
      ]
    },
    {
      "cell_type": "code",
      "metadata": {
        "id": "xjkI662FOYBU",
        "colab_type": "code",
        "colab": {
          "base_uri": "https://localhost:8080/",
          "height": 122
        },
        "outputId": "f7d4e385-b4ed-4559-8cdf-197f2aba1a52"
      },
      "source": [
        "from google.colab import drive\n",
        "\n",
        "drive.mount('/content/gdrive')"
      ],
      "execution_count": 1,
      "outputs": [
        {
          "output_type": "stream",
          "text": [
            "Go to this URL in a browser: https://accounts.google.com/o/oauth2/auth?client_id=947318989803-6bn6qk8qdgf4n4g3pfee6491hc0brc4i.apps.googleusercontent.com&redirect_uri=urn%3Aietf%3Awg%3Aoauth%3A2.0%3Aoob&scope=email%20https%3A%2F%2Fwww.googleapis.com%2Fauth%2Fdocs.test%20https%3A%2F%2Fwww.googleapis.com%2Fauth%2Fdrive%20https%3A%2F%2Fwww.googleapis.com%2Fauth%2Fdrive.photos.readonly%20https%3A%2F%2Fwww.googleapis.com%2Fauth%2Fpeopleapi.readonly&response_type=code\n",
            "\n",
            "Enter your authorization code:\n",
            "··········\n",
            "Mounted at /content/gdrive\n"
          ],
          "name": "stdout"
        }
      ]
    },
    {
      "cell_type": "code",
      "metadata": {
        "id": "P_RciUu4OknX",
        "colab_type": "code",
        "colab": {
          "base_uri": "https://localhost:8080/",
          "height": 34
        },
        "outputId": "5e5ba1a0-45fd-403a-a756-2a3022c63ca8"
      },
      "source": [
        "cd /content/gdrive/My Drive/Colab Notebooks/dataanalysis/빅콘테스트"
      ],
      "execution_count": 4,
      "outputs": [
        {
          "output_type": "stream",
          "text": [
            "/content/gdrive/My Drive/Colab Notebooks/dataanalysis/빅콘테스트\n"
          ],
          "name": "stdout"
        }
      ]
    },
    {
      "cell_type": "code",
      "metadata": {
        "id": "C7pA7BkfPIoh",
        "colab_type": "code",
        "colab": {
          "base_uri": "https://localhost:8080/",
          "height": 34
        },
        "outputId": "a8bee1fe-6d4a-4909-8330-838cf1425119"
      },
      "source": [
        "ls"
      ],
      "execution_count": 5,
      "outputs": [
        {
          "output_type": "stream",
          "text": [
            "AFSNT.csv  AFSNT_DLY.csv  SFSNT.csv\n"
          ],
          "name": "stdout"
        }
      ]
    },
    {
      "cell_type": "code",
      "metadata": {
        "id": "WJpsalogPtTj",
        "colab_type": "code",
        "colab": {}
      },
      "source": [
        "import numpy as np\n",
        "import pandas as pd\n",
        "\n",
        "data_afsnt = pd.read_csv('AFSNT.csv', encoding='CP949')"
      ],
      "execution_count": 0,
      "outputs": []
    },
    {
      "cell_type": "code",
      "metadata": {
        "id": "xeZEFttzPv5f",
        "colab_type": "code",
        "colab": {
          "base_uri": "https://localhost:8080/",
          "height": 204
        },
        "outputId": "89131128-519a-435e-87ef-4235706766ae"
      },
      "source": [
        "data_afsnt.head()"
      ],
      "execution_count": 20,
      "outputs": [
        {
          "output_type": "execute_result",
          "data": {
            "text/html": [
              "<div>\n",
              "<style scoped>\n",
              "    .dataframe tbody tr th:only-of-type {\n",
              "        vertical-align: middle;\n",
              "    }\n",
              "\n",
              "    .dataframe tbody tr th {\n",
              "        vertical-align: top;\n",
              "    }\n",
              "\n",
              "    .dataframe thead th {\n",
              "        text-align: right;\n",
              "    }\n",
              "</style>\n",
              "<table border=\"1\" class=\"dataframe\">\n",
              "  <thead>\n",
              "    <tr style=\"text-align: right;\">\n",
              "      <th></th>\n",
              "      <th>SDT_YY</th>\n",
              "      <th>SDT_MM</th>\n",
              "      <th>SDT_DD</th>\n",
              "      <th>SDT_DY</th>\n",
              "      <th>ARP</th>\n",
              "      <th>ODP</th>\n",
              "      <th>FLO</th>\n",
              "      <th>FLT</th>\n",
              "      <th>REG</th>\n",
              "      <th>AOD</th>\n",
              "      <th>IRR</th>\n",
              "      <th>STT</th>\n",
              "      <th>ATT</th>\n",
              "      <th>DLY</th>\n",
              "      <th>DRR</th>\n",
              "      <th>CNL</th>\n",
              "      <th>CNR</th>\n",
              "    </tr>\n",
              "  </thead>\n",
              "  <tbody>\n",
              "    <tr>\n",
              "      <th>0</th>\n",
              "      <td>2017</td>\n",
              "      <td>1</td>\n",
              "      <td>1</td>\n",
              "      <td>일</td>\n",
              "      <td>ARP3</td>\n",
              "      <td>ARP6</td>\n",
              "      <td>J</td>\n",
              "      <td>J1955</td>\n",
              "      <td>SEw3NzE4</td>\n",
              "      <td>D</td>\n",
              "      <td>N</td>\n",
              "      <td>10:05</td>\n",
              "      <td>10:32</td>\n",
              "      <td>N</td>\n",
              "      <td>NaN</td>\n",
              "      <td>N</td>\n",
              "      <td>NaN</td>\n",
              "    </tr>\n",
              "    <tr>\n",
              "      <th>1</th>\n",
              "      <td>2017</td>\n",
              "      <td>1</td>\n",
              "      <td>1</td>\n",
              "      <td>일</td>\n",
              "      <td>ARP3</td>\n",
              "      <td>ARP6</td>\n",
              "      <td>J</td>\n",
              "      <td>J1954</td>\n",
              "      <td>SEw3NzE4</td>\n",
              "      <td>A</td>\n",
              "      <td>N</td>\n",
              "      <td>9:30</td>\n",
              "      <td>9:31</td>\n",
              "      <td>N</td>\n",
              "      <td>NaN</td>\n",
              "      <td>N</td>\n",
              "      <td>NaN</td>\n",
              "    </tr>\n",
              "    <tr>\n",
              "      <th>2</th>\n",
              "      <td>2017</td>\n",
              "      <td>1</td>\n",
              "      <td>1</td>\n",
              "      <td>일</td>\n",
              "      <td>ARP3</td>\n",
              "      <td>ARP6</td>\n",
              "      <td>J</td>\n",
              "      <td>J1956</td>\n",
              "      <td>SEw3NzE4</td>\n",
              "      <td>A</td>\n",
              "      <td>N</td>\n",
              "      <td>12:45</td>\n",
              "      <td>13:03</td>\n",
              "      <td>N</td>\n",
              "      <td>NaN</td>\n",
              "      <td>N</td>\n",
              "      <td>NaN</td>\n",
              "    </tr>\n",
              "    <tr>\n",
              "      <th>3</th>\n",
              "      <td>2017</td>\n",
              "      <td>1</td>\n",
              "      <td>1</td>\n",
              "      <td>일</td>\n",
              "      <td>ARP3</td>\n",
              "      <td>ARP6</td>\n",
              "      <td>J</td>\n",
              "      <td>J1957</td>\n",
              "      <td>SEw3NzE4</td>\n",
              "      <td>D</td>\n",
              "      <td>N</td>\n",
              "      <td>13:25</td>\n",
              "      <td>14:09</td>\n",
              "      <td>Y</td>\n",
              "      <td>C02</td>\n",
              "      <td>N</td>\n",
              "      <td>NaN</td>\n",
              "    </tr>\n",
              "    <tr>\n",
              "      <th>4</th>\n",
              "      <td>2017</td>\n",
              "      <td>1</td>\n",
              "      <td>1</td>\n",
              "      <td>일</td>\n",
              "      <td>ARP3</td>\n",
              "      <td>ARP6</td>\n",
              "      <td>J</td>\n",
              "      <td>J1958</td>\n",
              "      <td>SEw3NzE4</td>\n",
              "      <td>A</td>\n",
              "      <td>N</td>\n",
              "      <td>16:10</td>\n",
              "      <td>16:31</td>\n",
              "      <td>N</td>\n",
              "      <td>NaN</td>\n",
              "      <td>N</td>\n",
              "      <td>NaN</td>\n",
              "    </tr>\n",
              "  </tbody>\n",
              "</table>\n",
              "</div>"
            ],
            "text/plain": [
              "   SDT_YY  SDT_MM  SDT_DD SDT_DY   ARP   ODP  ...    STT    ATT DLY  DRR CNL  CNR\n",
              "0    2017       1       1      일  ARP3  ARP6  ...  10:05  10:32   N  NaN   N  NaN\n",
              "1    2017       1       1      일  ARP3  ARP6  ...   9:30   9:31   N  NaN   N  NaN\n",
              "2    2017       1       1      일  ARP3  ARP6  ...  12:45  13:03   N  NaN   N  NaN\n",
              "3    2017       1       1      일  ARP3  ARP6  ...  13:25  14:09   Y  C02   N  NaN\n",
              "4    2017       1       1      일  ARP3  ARP6  ...  16:10  16:31   N  NaN   N  NaN\n",
              "\n",
              "[5 rows x 17 columns]"
            ]
          },
          "metadata": {
            "tags": []
          },
          "execution_count": 20
        }
      ]
    },
    {
      "cell_type": "code",
      "metadata": {
        "id": "LkuKT4psQUEC",
        "colab_type": "code",
        "colab": {
          "base_uri": "https://localhost:8080/",
          "height": 297
        },
        "outputId": "cac87bc3-7db3-4bef-dbe6-bd355b674e24"
      },
      "source": [
        "data_afsnt.describe()"
      ],
      "execution_count": 21,
      "outputs": [
        {
          "output_type": "execute_result",
          "data": {
            "text/html": [
              "<div>\n",
              "<style scoped>\n",
              "    .dataframe tbody tr th:only-of-type {\n",
              "        vertical-align: middle;\n",
              "    }\n",
              "\n",
              "    .dataframe tbody tr th {\n",
              "        vertical-align: top;\n",
              "    }\n",
              "\n",
              "    .dataframe thead th {\n",
              "        text-align: right;\n",
              "    }\n",
              "</style>\n",
              "<table border=\"1\" class=\"dataframe\">\n",
              "  <thead>\n",
              "    <tr style=\"text-align: right;\">\n",
              "      <th></th>\n",
              "      <th>SDT_YY</th>\n",
              "      <th>SDT_MM</th>\n",
              "      <th>SDT_DD</th>\n",
              "    </tr>\n",
              "  </thead>\n",
              "  <tbody>\n",
              "    <tr>\n",
              "      <th>count</th>\n",
              "      <td>987709.000000</td>\n",
              "      <td>987709.000000</td>\n",
              "      <td>987709.000000</td>\n",
              "    </tr>\n",
              "    <tr>\n",
              "      <th>mean</th>\n",
              "      <td>2017.794231</td>\n",
              "      <td>5.956420</td>\n",
              "      <td>15.705550</td>\n",
              "    </tr>\n",
              "    <tr>\n",
              "      <th>std</th>\n",
              "      <td>0.746196</td>\n",
              "      <td>3.366872</td>\n",
              "      <td>8.788141</td>\n",
              "    </tr>\n",
              "    <tr>\n",
              "      <th>min</th>\n",
              "      <td>2017.000000</td>\n",
              "      <td>1.000000</td>\n",
              "      <td>1.000000</td>\n",
              "    </tr>\n",
              "    <tr>\n",
              "      <th>25%</th>\n",
              "      <td>2017.000000</td>\n",
              "      <td>3.000000</td>\n",
              "      <td>8.000000</td>\n",
              "    </tr>\n",
              "    <tr>\n",
              "      <th>50%</th>\n",
              "      <td>2018.000000</td>\n",
              "      <td>6.000000</td>\n",
              "      <td>16.000000</td>\n",
              "    </tr>\n",
              "    <tr>\n",
              "      <th>75%</th>\n",
              "      <td>2018.000000</td>\n",
              "      <td>9.000000</td>\n",
              "      <td>23.000000</td>\n",
              "    </tr>\n",
              "    <tr>\n",
              "      <th>max</th>\n",
              "      <td>2019.000000</td>\n",
              "      <td>12.000000</td>\n",
              "      <td>31.000000</td>\n",
              "    </tr>\n",
              "  </tbody>\n",
              "</table>\n",
              "</div>"
            ],
            "text/plain": [
              "              SDT_YY         SDT_MM         SDT_DD\n",
              "count  987709.000000  987709.000000  987709.000000\n",
              "mean     2017.794231       5.956420      15.705550\n",
              "std         0.746196       3.366872       8.788141\n",
              "min      2017.000000       1.000000       1.000000\n",
              "25%      2017.000000       3.000000       8.000000\n",
              "50%      2018.000000       6.000000      16.000000\n",
              "75%      2018.000000       9.000000      23.000000\n",
              "max      2019.000000      12.000000      31.000000"
            ]
          },
          "metadata": {
            "tags": []
          },
          "execution_count": 21
        }
      ]
    },
    {
      "cell_type": "code",
      "metadata": {
        "id": "ICWCPJpXQe-g",
        "colab_type": "code",
        "colab": {
          "base_uri": "https://localhost:8080/",
          "height": 323
        },
        "outputId": "cffbd77d-de00-42c8-970e-db86d88a58d9"
      },
      "source": [
        "data_afsnt.count()"
      ],
      "execution_count": 22,
      "outputs": [
        {
          "output_type": "execute_result",
          "data": {
            "text/plain": [
              "SDT_YY    987709\n",
              "SDT_MM    987709\n",
              "SDT_DD    987709\n",
              "SDT_DY    987709\n",
              "ARP       987709\n",
              "ODP       987709\n",
              "FLO       987709\n",
              "FLT       987709\n",
              "REG       979446\n",
              "AOD       987709\n",
              "IRR       987709\n",
              "STT       987709\n",
              "ATT       987709\n",
              "DLY       987709\n",
              "DRR       118937\n",
              "CNL       987709\n",
              "CNR         8259\n",
              "dtype: int64"
            ]
          },
          "metadata": {
            "tags": []
          },
          "execution_count": 22
        }
      ]
    },
    {
      "cell_type": "code",
      "metadata": {
        "id": "No23IEBwQliq",
        "colab_type": "code",
        "colab": {}
      },
      "source": [
        ""
      ],
      "execution_count": 0,
      "outputs": []
    }
  ]
}