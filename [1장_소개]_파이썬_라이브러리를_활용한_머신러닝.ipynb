{
  "nbformat": 4,
  "nbformat_minor": 0,
  "metadata": {
    "colab": {
      "name": "[1장-소개] 파이썬 라이브러리를 활용한 머신러닝.ipynb",
      "version": "0.3.2",
      "provenance": [],
      "collapsed_sections": [],
      "include_colab_link": true
    },
    "kernelspec": {
      "name": "python3",
      "display_name": "Python 3"
    }
  },
  "cells": [
    {
      "cell_type": "markdown",
      "metadata": {
        "id": "view-in-github",
        "colab_type": "text"
      },
      "source": [
        "<a href=\"https://colab.research.google.com/github/jihyunjeongme/data-science/blob/master/%5B1%EC%9E%A5_%EC%86%8C%EA%B0%9C%5D_%ED%8C%8C%EC%9D%B4%EC%8D%AC_%EB%9D%BC%EC%9D%B4%EB%B8%8C%EB%9F%AC%EB%A6%AC%EB%A5%BC_%ED%99%9C%EC%9A%A9%ED%95%9C_%EB%A8%B8%EC%8B%A0%EB%9F%AC%EB%8B%9D.ipynb\" target=\"_parent\"><img src=\"https://colab.research.google.com/assets/colab-badge.svg\" alt=\"Open In Colab\"/></a>"
      ]
    },
    {
      "cell_type": "markdown",
      "metadata": {
        "id": "hdL2ZEHGpafS",
        "colab_type": "text"
      },
      "source": [
        "<img src=\"http://image.yes24.com/Goods/72219991/800x0\" width=300 height=400>\n",
        "\n",
        "## (개정판)파이썬 라이브러리를 활용한 머신러닝\n"
      ]
    },
    {
      "cell_type": "code",
      "metadata": {
        "id": "QFseq9J_pSPt",
        "colab_type": "code",
        "colab": {}
      },
      "source": [
        "# 첫 번쨰 애플리케이션: 붓꽃의 품종 분류\n",
        "\n",
        "# 분류 문제\n",
        "# 클래스: 출력될 수 있는 값(붓꽃의 종류) \n",
        "# 레이블(Label): 출력 Y, 품종"
      ],
      "execution_count": 0,
      "outputs": []
    },
    {
      "cell_type": "code",
      "metadata": {
        "id": "0IYeL5YZp6Ha",
        "colab_type": "code",
        "colab": {}
      },
      "source": [
        "# 데이터 적재\n",
        "from sklearn.datasets import load_iris\n",
        "iris_dataset = load_iris()"
      ],
      "execution_count": 0,
      "outputs": []
    },
    {
      "cell_type": "code",
      "metadata": {
        "id": "io91Yb5pqY_P",
        "colab_type": "code",
        "outputId": "9f72c474-0e4c-476c-b268-4d30101fc23e",
        "colab": {
          "base_uri": "https://localhost:8080/",
          "height": 71
        }
      },
      "source": [
        "# Bunch 클래스의 객체, iris_dataset\n",
        "# 키와 값으로 구성\n",
        "\n",
        "print(\"iris_dataset의 키:\\n\", iris_dataset.keys())"
      ],
      "execution_count": 0,
      "outputs": [
        {
          "output_type": "stream",
          "text": [
            "iris_dataset의 키:\n",
            " dict_keys(['data', 'target', 'target_names', 'DESCR', 'feature_names', 'filename'])\n"
          ],
          "name": "stdout"
        }
      ]
    },
    {
      "cell_type": "code",
      "metadata": {
        "id": "yTe7MW8kqpsN",
        "colab_type": "code",
        "outputId": "be487cc5-3297-4bf7-a8b0-5d75db9e7a00",
        "colab": {
          "base_uri": "https://localhost:8080/",
          "height": 187
        }
      },
      "source": [
        "# DESCR 키에는 데이터셋에 대한 간략한 설명이 들어 있습니다.\n",
        "\n",
        "print(iris_dataset['DESCR'][:193]+\"\\n..\")"
      ],
      "execution_count": 0,
      "outputs": [
        {
          "output_type": "stream",
          "text": [
            ".. _iris_dataset:\n",
            "\n",
            "Iris plants dataset\n",
            "--------------------\n",
            "\n",
            "**Data Set Characteristics:**\n",
            "\n",
            "    :Number of Instances: 150 (50 in each of three classes)\n",
            "    :Number of Attributes: 4 numeric, pre\n",
            "..\n"
          ],
          "name": "stdout"
        }
      ]
    },
    {
      "cell_type": "code",
      "metadata": {
        "id": "F4_0Wwdsq0-s",
        "colab_type": "code",
        "outputId": "7e3b54b4-6583-4cad-c5df-365a0256c08d",
        "colab": {
          "base_uri": "https://localhost:8080/",
          "height": 34
        }
      },
      "source": [
        "# traget_names의 값은 우리가 예측하려는 붓꽃 품종의 이름을 문자열 배열로 가지고 있습니다.\n",
        "\n",
        "print('타깃의 이름', iris_dataset['target_names'])"
      ],
      "execution_count": 0,
      "outputs": [
        {
          "output_type": "stream",
          "text": [
            "타깃의 이름 ['setosa' 'versicolor' 'virginica']\n"
          ],
          "name": "stdout"
        }
      ]
    },
    {
      "cell_type": "code",
      "metadata": {
        "id": "xOm2N7WnrEZk",
        "colab_type": "code",
        "outputId": "52320240-df22-4118-e892-69a9e4d9084f",
        "colab": {
          "base_uri": "https://localhost:8080/",
          "height": 51
        }
      },
      "source": [
        "# feater_names의 값은 각 특성을 설명하는 문자열 리스트 입니다.\n",
        "\n",
        "print(\"특성의 이름:\\n\", iris_dataset['feature_names'])"
      ],
      "execution_count": 0,
      "outputs": [
        {
          "output_type": "stream",
          "text": [
            "특성의 이름:\n",
            " ['sepal length (cm)', 'sepal width (cm)', 'petal length (cm)', 'petal width (cm)']\n"
          ],
          "name": "stdout"
        }
      ]
    },
    {
      "cell_type": "code",
      "metadata": {
        "id": "llTv58KIrOU0",
        "colab_type": "code",
        "outputId": "47c8f137-b8f7-48a4-f7b6-e0c6403674d3",
        "colab": {
          "base_uri": "https://localhost:8080/",
          "height": 34
        }
      },
      "source": [
        "# 실제 데이터는 target과 data 필드에 들어 있습니다.\n",
        "# data는 꽃잎의 길이와 폭, 꽃받침의 길이와 폭을 수치고 값을 가지고 있는 NumPy배열\n",
        "\n",
        "print(\"data의 타입:\", type(iris_dataset['data']))"
      ],
      "execution_count": 0,
      "outputs": [
        {
          "output_type": "stream",
          "text": [
            "data의 타입: <class 'numpy.ndarray'>\n"
          ],
          "name": "stdout"
        }
      ]
    },
    {
      "cell_type": "code",
      "metadata": {
        "id": "OEFdYDwCrcC2",
        "colab_type": "code",
        "outputId": "629aecb4-33ba-4a13-9fc9-b53e53b7fe5a",
        "colab": {
          "base_uri": "https://localhost:8080/",
          "height": 34
        }
      },
      "source": [
        "# data배열의 행은 개개의 꽃이 되며 열은 각 꽃에서 구한 네 개의 측정치 입니다.\n",
        "\n",
        "print(\"data의 크기:\", iris_dataset['data'].shape)"
      ],
      "execution_count": 0,
      "outputs": [
        {
          "output_type": "stream",
          "text": [
            "data의 크기: (150, 4)\n"
          ],
          "name": "stdout"
        }
      ]
    },
    {
      "cell_type": "code",
      "metadata": {
        "id": "KQyl7xrosDD4",
        "colab_type": "code",
        "outputId": "6e83bfee-52d4-41d8-e306-ff23464c2967",
        "colab": {
          "base_uri": "https://localhost:8080/",
          "height": 1000
        }
      },
      "source": [
        "# 이 배열은 150개의 붓꽃 데이터를 가지고 있습니다.\n",
        "\n",
        "iris_dataset['data']"
      ],
      "execution_count": 0,
      "outputs": [
        {
          "output_type": "execute_result",
          "data": {
            "text/plain": [
              "array([[5.1, 3.5, 1.4, 0.2],\n",
              "       [4.9, 3. , 1.4, 0.2],\n",
              "       [4.7, 3.2, 1.3, 0.2],\n",
              "       [4.6, 3.1, 1.5, 0.2],\n",
              "       [5. , 3.6, 1.4, 0.2],\n",
              "       [5.4, 3.9, 1.7, 0.4],\n",
              "       [4.6, 3.4, 1.4, 0.3],\n",
              "       [5. , 3.4, 1.5, 0.2],\n",
              "       [4.4, 2.9, 1.4, 0.2],\n",
              "       [4.9, 3.1, 1.5, 0.1],\n",
              "       [5.4, 3.7, 1.5, 0.2],\n",
              "       [4.8, 3.4, 1.6, 0.2],\n",
              "       [4.8, 3. , 1.4, 0.1],\n",
              "       [4.3, 3. , 1.1, 0.1],\n",
              "       [5.8, 4. , 1.2, 0.2],\n",
              "       [5.7, 4.4, 1.5, 0.4],\n",
              "       [5.4, 3.9, 1.3, 0.4],\n",
              "       [5.1, 3.5, 1.4, 0.3],\n",
              "       [5.7, 3.8, 1.7, 0.3],\n",
              "       [5.1, 3.8, 1.5, 0.3],\n",
              "       [5.4, 3.4, 1.7, 0.2],\n",
              "       [5.1, 3.7, 1.5, 0.4],\n",
              "       [4.6, 3.6, 1. , 0.2],\n",
              "       [5.1, 3.3, 1.7, 0.5],\n",
              "       [4.8, 3.4, 1.9, 0.2],\n",
              "       [5. , 3. , 1.6, 0.2],\n",
              "       [5. , 3.4, 1.6, 0.4],\n",
              "       [5.2, 3.5, 1.5, 0.2],\n",
              "       [5.2, 3.4, 1.4, 0.2],\n",
              "       [4.7, 3.2, 1.6, 0.2],\n",
              "       [4.8, 3.1, 1.6, 0.2],\n",
              "       [5.4, 3.4, 1.5, 0.4],\n",
              "       [5.2, 4.1, 1.5, 0.1],\n",
              "       [5.5, 4.2, 1.4, 0.2],\n",
              "       [4.9, 3.1, 1.5, 0.2],\n",
              "       [5. , 3.2, 1.2, 0.2],\n",
              "       [5.5, 3.5, 1.3, 0.2],\n",
              "       [4.9, 3.6, 1.4, 0.1],\n",
              "       [4.4, 3. , 1.3, 0.2],\n",
              "       [5.1, 3.4, 1.5, 0.2],\n",
              "       [5. , 3.5, 1.3, 0.3],\n",
              "       [4.5, 2.3, 1.3, 0.3],\n",
              "       [4.4, 3.2, 1.3, 0.2],\n",
              "       [5. , 3.5, 1.6, 0.6],\n",
              "       [5.1, 3.8, 1.9, 0.4],\n",
              "       [4.8, 3. , 1.4, 0.3],\n",
              "       [5.1, 3.8, 1.6, 0.2],\n",
              "       [4.6, 3.2, 1.4, 0.2],\n",
              "       [5.3, 3.7, 1.5, 0.2],\n",
              "       [5. , 3.3, 1.4, 0.2],\n",
              "       [7. , 3.2, 4.7, 1.4],\n",
              "       [6.4, 3.2, 4.5, 1.5],\n",
              "       [6.9, 3.1, 4.9, 1.5],\n",
              "       [5.5, 2.3, 4. , 1.3],\n",
              "       [6.5, 2.8, 4.6, 1.5],\n",
              "       [5.7, 2.8, 4.5, 1.3],\n",
              "       [6.3, 3.3, 4.7, 1.6],\n",
              "       [4.9, 2.4, 3.3, 1. ],\n",
              "       [6.6, 2.9, 4.6, 1.3],\n",
              "       [5.2, 2.7, 3.9, 1.4],\n",
              "       [5. , 2. , 3.5, 1. ],\n",
              "       [5.9, 3. , 4.2, 1.5],\n",
              "       [6. , 2.2, 4. , 1. ],\n",
              "       [6.1, 2.9, 4.7, 1.4],\n",
              "       [5.6, 2.9, 3.6, 1.3],\n",
              "       [6.7, 3.1, 4.4, 1.4],\n",
              "       [5.6, 3. , 4.5, 1.5],\n",
              "       [5.8, 2.7, 4.1, 1. ],\n",
              "       [6.2, 2.2, 4.5, 1.5],\n",
              "       [5.6, 2.5, 3.9, 1.1],\n",
              "       [5.9, 3.2, 4.8, 1.8],\n",
              "       [6.1, 2.8, 4. , 1.3],\n",
              "       [6.3, 2.5, 4.9, 1.5],\n",
              "       [6.1, 2.8, 4.7, 1.2],\n",
              "       [6.4, 2.9, 4.3, 1.3],\n",
              "       [6.6, 3. , 4.4, 1.4],\n",
              "       [6.8, 2.8, 4.8, 1.4],\n",
              "       [6.7, 3. , 5. , 1.7],\n",
              "       [6. , 2.9, 4.5, 1.5],\n",
              "       [5.7, 2.6, 3.5, 1. ],\n",
              "       [5.5, 2.4, 3.8, 1.1],\n",
              "       [5.5, 2.4, 3.7, 1. ],\n",
              "       [5.8, 2.7, 3.9, 1.2],\n",
              "       [6. , 2.7, 5.1, 1.6],\n",
              "       [5.4, 3. , 4.5, 1.5],\n",
              "       [6. , 3.4, 4.5, 1.6],\n",
              "       [6.7, 3.1, 4.7, 1.5],\n",
              "       [6.3, 2.3, 4.4, 1.3],\n",
              "       [5.6, 3. , 4.1, 1.3],\n",
              "       [5.5, 2.5, 4. , 1.3],\n",
              "       [5.5, 2.6, 4.4, 1.2],\n",
              "       [6.1, 3. , 4.6, 1.4],\n",
              "       [5.8, 2.6, 4. , 1.2],\n",
              "       [5. , 2.3, 3.3, 1. ],\n",
              "       [5.6, 2.7, 4.2, 1.3],\n",
              "       [5.7, 3. , 4.2, 1.2],\n",
              "       [5.7, 2.9, 4.2, 1.3],\n",
              "       [6.2, 2.9, 4.3, 1.3],\n",
              "       [5.1, 2.5, 3. , 1.1],\n",
              "       [5.7, 2.8, 4.1, 1.3],\n",
              "       [6.3, 3.3, 6. , 2.5],\n",
              "       [5.8, 2.7, 5.1, 1.9],\n",
              "       [7.1, 3. , 5.9, 2.1],\n",
              "       [6.3, 2.9, 5.6, 1.8],\n",
              "       [6.5, 3. , 5.8, 2.2],\n",
              "       [7.6, 3. , 6.6, 2.1],\n",
              "       [4.9, 2.5, 4.5, 1.7],\n",
              "       [7.3, 2.9, 6.3, 1.8],\n",
              "       [6.7, 2.5, 5.8, 1.8],\n",
              "       [7.2, 3.6, 6.1, 2.5],\n",
              "       [6.5, 3.2, 5.1, 2. ],\n",
              "       [6.4, 2.7, 5.3, 1.9],\n",
              "       [6.8, 3. , 5.5, 2.1],\n",
              "       [5.7, 2.5, 5. , 2. ],\n",
              "       [5.8, 2.8, 5.1, 2.4],\n",
              "       [6.4, 3.2, 5.3, 2.3],\n",
              "       [6.5, 3. , 5.5, 1.8],\n",
              "       [7.7, 3.8, 6.7, 2.2],\n",
              "       [7.7, 2.6, 6.9, 2.3],\n",
              "       [6. , 2.2, 5. , 1.5],\n",
              "       [6.9, 3.2, 5.7, 2.3],\n",
              "       [5.6, 2.8, 4.9, 2. ],\n",
              "       [7.7, 2.8, 6.7, 2. ],\n",
              "       [6.3, 2.7, 4.9, 1.8],\n",
              "       [6.7, 3.3, 5.7, 2.1],\n",
              "       [7.2, 3.2, 6. , 1.8],\n",
              "       [6.2, 2.8, 4.8, 1.8],\n",
              "       [6.1, 3. , 4.9, 1.8],\n",
              "       [6.4, 2.8, 5.6, 2.1],\n",
              "       [7.2, 3. , 5.8, 1.6],\n",
              "       [7.4, 2.8, 6.1, 1.9],\n",
              "       [7.9, 3.8, 6.4, 2. ],\n",
              "       [6.4, 2.8, 5.6, 2.2],\n",
              "       [6.3, 2.8, 5.1, 1.5],\n",
              "       [6.1, 2.6, 5.6, 1.4],\n",
              "       [7.7, 3. , 6.1, 2.3],\n",
              "       [6.3, 3.4, 5.6, 2.4],\n",
              "       [6.4, 3.1, 5.5, 1.8],\n",
              "       [6. , 3. , 4.8, 1.8],\n",
              "       [6.9, 3.1, 5.4, 2.1],\n",
              "       [6.7, 3.1, 5.6, 2.4],\n",
              "       [6.9, 3.1, 5.1, 2.3],\n",
              "       [5.8, 2.7, 5.1, 1.9],\n",
              "       [6.8, 3.2, 5.9, 2.3],\n",
              "       [6.7, 3.3, 5.7, 2.5],\n",
              "       [6.7, 3. , 5.2, 2.3],\n",
              "       [6.3, 2.5, 5. , 1.9],\n",
              "       [6.5, 3. , 5.2, 2. ],\n",
              "       [6.2, 3.4, 5.4, 2.3],\n",
              "       [5.9, 3. , 5.1, 1.8]])"
            ]
          },
          "metadata": {
            "tags": []
          },
          "execution_count": 50
        }
      ]
    },
    {
      "cell_type": "code",
      "metadata": {
        "id": "HQH77Va3sKrT",
        "colab_type": "code",
        "outputId": "db359411-c6d0-404e-ae11-940136c1576f",
        "colab": {
          "base_uri": "https://localhost:8080/",
          "height": 119
        }
      },
      "source": [
        "# 머신러닝에서 각 아이템은 '샘플', 속성은 '특성' 이라고 부름\n",
        "# data 배열의 크기는 샘플의 수에 특성의 수를 곱한 값\n",
        "\n",
        "print(\"data의 처음 다섯 행:\\n\", iris_dataset['data'][:5])"
      ],
      "execution_count": 0,
      "outputs": [
        {
          "output_type": "stream",
          "text": [
            "data의 처음 다섯 행:\n",
            " [[5.1 3.5 1.4 0.2]\n",
            " [4.9 3.  1.4 0.2]\n",
            " [4.7 3.2 1.3 0.2]\n",
            " [4.6 3.1 1.5 0.2]\n",
            " [5.  3.6 1.4 0.2]]\n"
          ],
          "name": "stdout"
        }
      ]
    },
    {
      "cell_type": "code",
      "metadata": {
        "id": "h18gYRLmsq8y",
        "colab_type": "code",
        "colab": {}
      },
      "source": [
        "# 다섯 붓꽃의 꽃잎 폭은 모두 0.2cm 이고, 첫 번쨰 꽃이 가장 긴 5.1cm의 꽃받침을 가졌음."
      ],
      "execution_count": 0,
      "outputs": []
    },
    {
      "cell_type": "code",
      "metadata": {
        "id": "SL8jn9XRsyrj",
        "colab_type": "code",
        "outputId": "efb7a247-362d-45be-f4aa-62013ece003f",
        "colab": {
          "base_uri": "https://localhost:8080/",
          "height": 34
        }
      },
      "source": [
        "# target 배열도 샘플 붓꽃의 품종을 담은 NumPy배열입니다.\n",
        "\n",
        "print(\"target의 타입:\", type(iris_dataset['target']))"
      ],
      "execution_count": 0,
      "outputs": [
        {
          "output_type": "stream",
          "text": [
            "target의 타입: <class 'numpy.ndarray'>\n"
          ],
          "name": "stdout"
        }
      ]
    },
    {
      "cell_type": "code",
      "metadata": {
        "id": "ofq5GW--s9La",
        "colab_type": "code",
        "outputId": "37d1e97e-9a07-4cd5-d522-2369d7bf2515",
        "colab": {
          "base_uri": "https://localhost:8080/",
          "height": 34
        }
      },
      "source": [
        "# target은 각 원소가 붓꽃 하나에 해당하는 1차원 배열\n",
        "\n",
        "print(\"target의 크기:\", iris_dataset['target'].shape)"
      ],
      "execution_count": 0,
      "outputs": [
        {
          "output_type": "stream",
          "text": [
            "target의 크기: (150,)\n"
          ],
          "name": "stdout"
        }
      ]
    },
    {
      "cell_type": "code",
      "metadata": {
        "id": "qTuUwNnstLPK",
        "colab_type": "code",
        "outputId": "bd9dac29-d9fc-46e8-84c9-ea2678c3b574",
        "colab": {
          "base_uri": "https://localhost:8080/",
          "height": 119
        }
      },
      "source": [
        "# 붗꽃의 종류는 0에서 2까지의 정수로 기록\n",
        "\n",
        "print(\"타깃:\\n\", iris_dataset['target'])"
      ],
      "execution_count": 0,
      "outputs": [
        {
          "output_type": "stream",
          "text": [
            "타깃:\n",
            " [0 0 0 0 0 0 0 0 0 0 0 0 0 0 0 0 0 0 0 0 0 0 0 0 0 0 0 0 0 0 0 0 0 0 0 0 0\n",
            " 0 0 0 0 0 0 0 0 0 0 0 0 0 1 1 1 1 1 1 1 1 1 1 1 1 1 1 1 1 1 1 1 1 1 1 1 1\n",
            " 1 1 1 1 1 1 1 1 1 1 1 1 1 1 1 1 1 1 1 1 1 1 1 1 1 1 2 2 2 2 2 2 2 2 2 2 2\n",
            " 2 2 2 2 2 2 2 2 2 2 2 2 2 2 2 2 2 2 2 2 2 2 2 2 2 2 2 2 2 2 2 2 2 2 2 2 2\n",
            " 2 2]\n"
          ],
          "name": "stdout"
        }
      ]
    },
    {
      "cell_type": "code",
      "metadata": {
        "id": "WFDaRGyHtc0_",
        "colab_type": "code",
        "colab": {}
      },
      "source": [
        "# 숫자의 의미는 iris_dataset[target_names] 배열에서 확인 할 수 있음.\n",
        "\n",
        "# 0은 setosa\n",
        "# 1은 versicolor\n",
        "# 2는 virginica"
      ],
      "execution_count": 0,
      "outputs": []
    },
    {
      "cell_type": "code",
      "metadata": {
        "id": "IazP7XDFt1ec",
        "colab_type": "code",
        "colab": {}
      },
      "source": [
        "# 성과 측정: 훈련 데이터와 테스트 데이터\n",
        "\n",
        "# 레이블된 데이터(150개의 붓꽃 데이터)를 두 그룹으로 나눔.\n",
        "# 하나는 머신러닝 모델을 만들 떄 사용, 훈련데이터 혹은 훈련 세트\n",
        "# 나머지는 모델이 얼마나 잘 작동하는지 측정하는 데 사용, 이를 테스트 데이터, 테스트 세트 or 홀드아웃 세트\n",
        "\n",
        "# 사이킷런은 데이터를 섞어서 나눠주는 train_test_split 함수를 제공\n",
        "# 이 함수는 전체 행중 75%를 레이블 데이터와 함께 훈련 세트로 뽑음\n",
        "# 나머지 25%는 레이블 데이터와 함께 테스트 세트\n",
        "\n",
        "# 훈련/테스트 세트 나누는건 다 다르지만, 전체의 25%를 테스트 세트로 사용하는 것은 일반적으로 좋은 선택"
      ],
      "execution_count": 0,
      "outputs": []
    },
    {
      "cell_type": "code",
      "metadata": {
        "id": "djUQBc6zuyyS",
        "colab_type": "code",
        "colab": {}
      },
      "source": [
        "# X: 데이터\n",
        "# y: 레이블\n",
        "\n",
        "from sklearn.model_selection import train_test_split\n",
        "X_train, X_test, y_train, y_test = train_test_split(\n",
        "  iris_dataset['data'], iris_dataset['target'], random_state=0)"
      ],
      "execution_count": 0,
      "outputs": []
    },
    {
      "cell_type": "code",
      "metadata": {
        "id": "YJY_LZXwzRKy",
        "colab_type": "code",
        "outputId": "0ca0374f-c3cb-4e9b-d895-9d30e78924cf",
        "colab": {
          "base_uri": "https://localhost:8080/",
          "height": 51
        }
      },
      "source": [
        "# train_test_split 함수로 데이터를 나누기 전에 유사 난수 생성기를 사용해\n",
        "# 데이터셋을 무작위로 섞어야 함.\n",
        "\n",
        "# 이 함수르 여러 번 실행해도 결과가 똑같이 나오도록 유사 난수 생성기에 넣을 난수\n",
        "# 초깃값을 random_state에 매개변수로 전달합니다. 이렇게 하면 항상 같은 결과를 출력합니다.\n",
        "\n",
        "# 난수를 사용할 때는 항상 이렇게 random_state를 고정할 것\n",
        "\n",
        "# train_test_split 함수의 반환값은 X_train, X_test, y_train, y_test 이며 모두\n",
        "# NumPy 배열 입니다.\n",
        "\n",
        "# 전체 데이터셋의 75%를, X_test는 나머지 25%를 담고 있습니다.\n",
        "\n",
        "print(\"X_train 크기:\", X_train.shape)\n",
        "print(\"y_train 크기:\", y_train.shape)"
      ],
      "execution_count": 0,
      "outputs": [
        {
          "output_type": "stream",
          "text": [
            "X_train 크기: (112, 4)\n",
            "y_train 크기: (112,)\n"
          ],
          "name": "stdout"
        }
      ]
    },
    {
      "cell_type": "code",
      "metadata": {
        "id": "CHCpxGUr0WfP",
        "colab_type": "code",
        "outputId": "596ef813-e434-438f-e4ef-be8a9a822c69",
        "colab": {
          "base_uri": "https://localhost:8080/",
          "height": 51
        }
      },
      "source": [
        "print(\"X_test 크기:\", X_test.shape)\n",
        "print(\"y_test 크기:\", y_test.shape)"
      ],
      "execution_count": 0,
      "outputs": [
        {
          "output_type": "stream",
          "text": [
            "X_test 크기: (38, 4)\n",
            "y_test 크기: (38,)\n"
          ],
          "name": "stdout"
        }
      ]
    },
    {
      "cell_type": "code",
      "metadata": {
        "id": "TVgvOZLW0hy3",
        "colab_type": "code",
        "colab": {}
      },
      "source": [
        "# 가장 먼 저 할 일: 데이터 살펴보기\n",
        "\n",
        "# 시각화는 데이터를 조사하는 아주 좋은 방법, 산점도가 그중 하나."
      ],
      "execution_count": 0,
      "outputs": []
    },
    {
      "cell_type": "code",
      "metadata": {
        "id": "s3d7rGa203OC",
        "colab_type": "code",
        "outputId": "52bbd4c4-442a-4971-aaa1-3de58fdd5afc",
        "colab": {
          "base_uri": "https://localhost:8080/",
          "height": 1000
        }
      },
      "source": [
        "\n",
        "# X_train 데이터를 사용해서 데이터프레임을 만듭니다.\n",
        "# 열의 이름은 iris_dataset.feture_names에 있는 문자열을 사용합니다.\n",
        "\n",
        "!pip install mglearn\n",
        "\n",
        "import pandas as pd\n",
        "import mglearn\n",
        "iris_dataframe = pd.DataFrame(X_train, columns=iris_dataset.feature_names)\n",
        "\n",
        "# 데이터 프레임을 사용해 y_train에 따라 색으로 구분된 산점도 행렬을 만듭니다.\n",
        "\n",
        "pd.plotting.scatter_matrix(iris_dataframe, c=y_train, figsize=(12,12), marker='o',\n",
        "                           hist_kwds={'bins':20}, s=60, alpha=.8, cmap=mglearn.cm3)"
      ],
      "execution_count": 0,
      "outputs": [
        {
          "output_type": "stream",
          "text": [
            "Requirement already satisfied: mglearn in /usr/local/lib/python3.6/dist-packages (0.1.7)\n",
            "Requirement already satisfied: scikit-learn in /usr/local/lib/python3.6/dist-packages (from mglearn) (0.21.3)\n",
            "Requirement already satisfied: imageio in /usr/local/lib/python3.6/dist-packages (from mglearn) (2.4.1)\n",
            "Requirement already satisfied: pandas in /usr/local/lib/python3.6/dist-packages (from mglearn) (0.24.2)\n",
            "Requirement already satisfied: pillow in /usr/local/lib/python3.6/dist-packages (from mglearn) (4.3.0)\n",
            "Requirement already satisfied: cycler in /usr/local/lib/python3.6/dist-packages (from mglearn) (0.10.0)\n",
            "Requirement already satisfied: numpy in /usr/local/lib/python3.6/dist-packages (from mglearn) (1.16.5)\n",
            "Requirement already satisfied: matplotlib in /usr/local/lib/python3.6/dist-packages (from mglearn) (3.0.3)\n",
            "Requirement already satisfied: scipy>=0.17.0 in /usr/local/lib/python3.6/dist-packages (from scikit-learn->mglearn) (1.3.1)\n",
            "Requirement already satisfied: joblib>=0.11 in /usr/local/lib/python3.6/dist-packages (from scikit-learn->mglearn) (0.13.2)\n",
            "Requirement already satisfied: pytz>=2011k in /usr/local/lib/python3.6/dist-packages (from pandas->mglearn) (2018.9)\n",
            "Requirement already satisfied: python-dateutil>=2.5.0 in /usr/local/lib/python3.6/dist-packages (from pandas->mglearn) (2.5.3)\n",
            "Requirement already satisfied: olefile in /usr/local/lib/python3.6/dist-packages (from pillow->mglearn) (0.46)\n",
            "Requirement already satisfied: six in /usr/local/lib/python3.6/dist-packages (from cycler->mglearn) (1.12.0)\n",
            "Requirement already satisfied: pyparsing!=2.0.4,!=2.1.2,!=2.1.6,>=2.0.1 in /usr/local/lib/python3.6/dist-packages (from matplotlib->mglearn) (2.4.2)\n",
            "Requirement already satisfied: kiwisolver>=1.0.1 in /usr/local/lib/python3.6/dist-packages (from matplotlib->mglearn) (1.1.0)\n",
            "Requirement already satisfied: setuptools in /usr/local/lib/python3.6/dist-packages (from kiwisolver>=1.0.1->matplotlib->mglearn) (41.2.0)\n"
          ],
          "name": "stdout"
        },
        {
          "output_type": "execute_result",
          "data": {
            "text/plain": [
              "array([[<matplotlib.axes._subplots.AxesSubplot object at 0x7f32ec9c5be0>,\n",
              "        <matplotlib.axes._subplots.AxesSubplot object at 0x7f32ec8f82b0>,\n",
              "        <matplotlib.axes._subplots.AxesSubplot object at 0x7f32ec89e828>,\n",
              "        <matplotlib.axes._subplots.AxesSubplot object at 0x7f32ec8c7da0>],\n",
              "       [<matplotlib.axes._subplots.AxesSubplot object at 0x7f32ec876358>,\n",
              "        <matplotlib.axes._subplots.AxesSubplot object at 0x7f32ec81c8d0>,\n",
              "        <matplotlib.axes._subplots.AxesSubplot object at 0x7f32ec844e48>,\n",
              "        <matplotlib.axes._subplots.AxesSubplot object at 0x7f32ec7f5438>],\n",
              "       [<matplotlib.axes._subplots.AxesSubplot object at 0x7f32ec7f5470>,\n",
              "        <matplotlib.axes._subplots.AxesSubplot object at 0x7f32ec7c5ef0>,\n",
              "        <matplotlib.axes._subplots.AxesSubplot object at 0x7f32ec7754a8>,\n",
              "        <matplotlib.axes._subplots.AxesSubplot object at 0x7f32ec71da20>],\n",
              "       [<matplotlib.axes._subplots.AxesSubplot object at 0x7f32ec742f98>,\n",
              "        <matplotlib.axes._subplots.AxesSubplot object at 0x7f32ec6f2550>,\n",
              "        <matplotlib.axes._subplots.AxesSubplot object at 0x7f32ec71aac8>,\n",
              "        <matplotlib.axes._subplots.AxesSubplot object at 0x7f32ec6cd080>]],\n",
              "      dtype=object)"
            ]
          },
          "metadata": {
            "tags": []
          },
          "execution_count": 62
        },
        {
          "output_type": "display_data",
          "data": {
            "image/png": "[encoded data removed]",
            "text/plain": [
              "<Figure size 864x864 with 16 Axes>"
            ]
          },
          "metadata": {
            "tags": []
          }
        }
      ]
    },
    {
      "cell_type": "code",
      "metadata": {
        "id": "vCEVTv3m1ePb",
        "colab_type": "code",
        "colab": {}
      },
      "source": [
        "# 그래프를 보면 세 클래스가 꽃잎과 꽃받침의 측정값에 따라 비교적 잘 구분되는 것을 알 수 있음.\n",
        "# 이것으로 보아 클래스를 잘 구분하도록 머신런닝 모델을 학습시킬 수 있을 것"
      ],
      "execution_count": 0,
      "outputs": []
    },
    {
      "cell_type": "code",
      "metadata": {
        "id": "-DDlLali3uhg",
        "colab_type": "code",
        "colab": {}
      },
      "source": [
        "# 첫 번째 머신러닝 모델: k-최근접 이웃 알고리즘\n",
        "\n",
        "# k-최근접 이웃 분류기 사용\n",
        "# 이 모델은 단순히 훈련 데이터를 저장하여 만들어짐. \n",
        "# k-최근접 이웃 알고리즘에서 k는 가장 가까운 이웃 '하나'가 아니라 훈련 데이터에서 새로운 데이터 포인트에\n",
        "# 가장 가까운 'k개'의 이웃을 찾는다는 뜻(예를 들면 가장 가까운 세 개 혹은 다섯 개의 이웃)\n",
        "# 그런 다음 이 이웃들의 클래스 중 빈도가 가장 높은 클래스를 예측값으로 사용합니다.\n",
        "\n",
        "# 지금은 하나의 이웃만 사용하겠습니다.\n",
        "# scikit-learn의 모든 머신러닝 모델은 Estimator라는 파이썬 클래스로 각각 구현 되어 있습니다.\n",
        "# k-최근접 이웃 분류 알고리즘은 neighbors 모듈 아래 KNeighborsClassifier 클래스에 구현 되어 있습니다.\n",
        "\n",
        "# 모델을 사용하려면 클래스로부터 객체를 만들어야 합니다.\n",
        "# 이때 모델에 필요한 매개변수를 넣습니다. KNeighborsClassifier에서 가장 중요한 매개변수는 이웃의 개수 입니다.\n",
        "# 우리는 1로 지정하겠습니다.\n",
        "\n",
        "from sklearn.neighbors import KNeighborsClassifier\n",
        "knn = KNeighborsClassifier(n_neighbors=1)"
      ],
      "execution_count": 0,
      "outputs": []
    },
    {
      "cell_type": "code",
      "metadata": {
        "id": "FxsoKEfY7okA",
        "colab_type": "code",
        "colab": {}
      },
      "source": [
        "# knn 객체는 훈련 데이터로 모델을 만들고 새로운 데이터 포인트에 대해 예측하는 알고리즘을 캡슐화한것\n",
        "# 또한 알고리즘이 훈련 데이터로부터 추출한 정보를 담고 있음.\n",
        "# KNeighborsClassifier의 경우는 훈련 데이터 자체를 저장하고 있음."
      ],
      "execution_count": 0,
      "outputs": []
    },
    {
      "cell_type": "code",
      "metadata": {
        "id": "RWMDC3ro77HH",
        "colab_type": "code",
        "outputId": "63589d96-3f08-4f9f-85ba-6fcb70c8b5de",
        "colab": {
          "base_uri": "https://localhost:8080/",
          "height": 68
        }
      },
      "source": [
        "# 훈련 데이터셋으로부터 모델을 만들려면 knn 객체의 fit 메서를 사용\n",
        "# 이 메서드는 훈련 데이터인 NumPy 배열 X_train과 훈련 데이터의 레이블을 담고 있는 y_train을 매개변수로 받음\n",
        "\n",
        "knn.fit(X_train, y_train)"
      ],
      "execution_count": 0,
      "outputs": [
        {
          "output_type": "execute_result",
          "data": {
            "text/plain": [
              "KNeighborsClassifier(algorithm='auto', leaf_size=30, metric='minkowski',\n",
              "                     metric_params=None, n_jobs=None, n_neighbors=1, p=2,\n",
              "                     weights='uniform')"
            ]
          },
          "metadata": {
            "tags": []
          },
          "execution_count": 66
        }
      ]
    },
    {
      "cell_type": "code",
      "metadata": {
        "id": "EpbtRc5p8I1s",
        "colab_type": "code",
        "colab": {}
      },
      "source": [
        "# fit 메서드는 knn 객체 자체를 반환 합니다.(그리고 knn 객체 자체를 변경 시킵니다)\n",
        "# 그래서 knn객체가 문자열 행태로 출력됩니다."
      ],
      "execution_count": 0,
      "outputs": []
    },
    {
      "cell_type": "code",
      "metadata": {
        "id": "eDF8UkXc8VNA",
        "colab_type": "code",
        "outputId": "f4d3fe50-ca41-41be-ea44-2b477e0142a2",
        "colab": {
          "base_uri": "https://localhost:8080/",
          "height": 34
        }
      },
      "source": [
        "# 1.7.5 예측하기\n",
        "\n",
        "# 이제 이 모델을 사용해서 정확한 레이블을 모르는 새 데이터에 대해 예측을 만들 수 있습니다.\n",
        "# 꽃받침의 길이가 5cm, 폭이 2.9cm, 꽃임의 길이 1cm, 폭이 0.2cm 인 붓꽃을 보았다고 합시다.\n",
        "# 이 붓꽃의 품종은 무엇일까요?\n",
        "\n",
        "import numpy as np\n",
        "\n",
        "X_new = np.array([[5, 2.9, 1, 0.2]])\n",
        "print(\"X_nex.shape:\", X_new.shape)"
      ],
      "execution_count": 0,
      "outputs": [
        {
          "output_type": "stream",
          "text": [
            "X_nex.shape: (1, 4)\n"
          ],
          "name": "stdout"
        }
      ]
    },
    {
      "cell_type": "code",
      "metadata": {
        "id": "RU6xfa9D802p",
        "colab_type": "code",
        "outputId": "200f7918-3d07-4695-c5bc-b401d95e0976",
        "colab": {
          "base_uri": "https://localhost:8080/",
          "height": 51
        }
      },
      "source": [
        "# 붓꽃 하나의 측정값은 2차원 NumPy배열에 행으로 들어갑니다. \n",
        "# scikit-learn은 항상 데이터가 2차원 배열일 것으로 예상합니다.\n",
        "\n",
        "# 예측에는 knn 객체의 predict 메서드를 사용합니다.\n",
        "\n",
        "prediction = knn.predict(X_new)\n",
        "print(\"예측:\", prediction)\n",
        "print(\"예측한 타깃의 이름:\",\n",
        "      iris_dataset['target_names'][prediction])"
      ],
      "execution_count": 0,
      "outputs": [
        {
          "output_type": "stream",
          "text": [
            "예측: [0]\n",
            "예측한 타깃의 이름: ['setosa']\n"
          ],
          "name": "stdout"
        }
      ]
    },
    {
      "cell_type": "code",
      "metadata": {
        "id": "a4-szQR49bOX",
        "colab_type": "code",
        "colab": {}
      },
      "source": [
        "# 우리가 만든 모델이 새로운 붓꽃을 setosa 품종을 의미하는 클래스 0으로 예측함.\n",
        "# 그런데 어떻게 이 모델의 결과를 신뢰할 수 있을까요?\n",
        "# 이 샘플의 정확한 품종을 모른다는 사실이 모델을 구축하는 데 있어서 중요한 의미를 가집니다."
      ],
      "execution_count": 0,
      "outputs": []
    },
    {
      "cell_type": "code",
      "metadata": {
        "id": "zaOIi5Ef9njH",
        "colab_type": "code",
        "outputId": "1807b388-7bbb-4ab1-cb63-b6d7276dd244",
        "colab": {
          "base_uri": "https://localhost:8080/",
          "height": 68
        }
      },
      "source": [
        "# 1.7.6 모델 평가하기\n",
        "# 앞서 만든 테스트 세트를 사용할 떄 가 왔음.\n",
        "# 테스트 데이터 있는 붓꽃의 품종을 예측하고 실제 레이블(품종)과 비교할 수 있습니다.\n",
        "# 얼마나 많은 붓꽃 품종이 정확히 맞았는지 '정확도'를 계산하여 모델의 성능을 평가합니다.\n",
        "\n",
        "y_pred = knn.predict(X_test)\n",
        "print(\"테스트 세트에 대한 예측값:\\n\", y_pred)\n"
      ],
      "execution_count": 0,
      "outputs": [
        {
          "output_type": "stream",
          "text": [
            "테스트 세트에 대한 예측값:\n",
            " [2 1 0 2 0 2 0 1 1 1 2 1 1 1 1 0 1 1 0 0 2 1 0 0 2 0 0 1 1 0 2 1 0 2 2 1 0\n",
            " 2]\n"
          ],
          "name": "stdout"
        }
      ]
    },
    {
      "cell_type": "code",
      "metadata": {
        "id": "hQUSqp4G-Cga",
        "colab_type": "code",
        "outputId": "1835ff87-1604-4118-ce31-158b70d92d62",
        "colab": {
          "base_uri": "https://localhost:8080/",
          "height": 34
        }
      },
      "source": [
        "print(\"테스트 세트의 정확도: {:.2f}\".format(np.mean(y_pred == y_test)))"
      ],
      "execution_count": 0,
      "outputs": [
        {
          "output_type": "stream",
          "text": [
            "테스트 세트의 정확도: 0.97\n"
          ],
          "name": "stdout"
        }
      ]
    },
    {
      "cell_type": "code",
      "metadata": {
        "id": "7B19wWmm-OC5",
        "colab_type": "code",
        "outputId": "285d1354-fca8-4186-bfd6-f9c8433ffbc6",
        "colab": {
          "base_uri": "https://localhost:8080/",
          "height": 85
        }
      },
      "source": [
        "print(y_pred)\n",
        "print(y_test)"
      ],
      "execution_count": 0,
      "outputs": [
        {
          "output_type": "stream",
          "text": [
            "[2 1 0 2 0 2 0 1 1 1 2 1 1 1 1 0 1 1 0 0 2 1 0 0 2 0 0 1 1 0 2 1 0 2 2 1 0\n",
            " 2]\n",
            "[2 1 0 2 0 2 0 1 1 1 2 1 1 1 1 0 1 1 0 0 2 1 0 0 2 0 0 1 1 0 2 1 0 2 2 1 0\n",
            " 1]\n"
          ],
          "name": "stdout"
        }
      ]
    },
    {
      "cell_type": "code",
      "metadata": {
        "id": "gHZLtK1n-h1n",
        "colab_type": "code",
        "outputId": "e011b2e7-9c3c-4259-81ba-971250dea9b0",
        "colab": {
          "base_uri": "https://localhost:8080/",
          "height": 34
        }
      },
      "source": [
        "# 또 knn 객체의 socre 메서드로도 테스트 세트의 정확도를 계산 할 수 있습니다.\n",
        "\n",
        "print(\"테스트 세트의 정확도: {:.2f}\".format(knn.score(X_test, y_test)))"
      ],
      "execution_count": 0,
      "outputs": [
        {
          "output_type": "stream",
          "text": [
            "테스트 세트의 정확도: 0.97\n"
          ],
          "name": "stdout"
        }
      ]
    },
    {
      "cell_type": "code",
      "metadata": {
        "id": "fqQmRHah-3o2",
        "colab_type": "code",
        "colab": {}
      },
      "source": [
        "# 이 모델의 테스트 세트에 대한 정확도는 약 0.97 입니다.\n",
        "# 97%의 품종을 정확히 맞혔다는 뜻."
      ],
      "execution_count": 0,
      "outputs": []
    },
    {
      "cell_type": "code",
      "metadata": {
        "id": "OdWwqr4X_AAe",
        "colab_type": "code",
        "colab": {}
      },
      "source": [
        "# 1.8 요약 및 정리\n",
        "\n",
        "# 품종을 구분해놓은 데이터셋을 사용 -> 지도학습\n",
        "# 품종이 세 개이므로 세개의 클래스를 분류하는 문제\n"
      ],
      "execution_count": 0,
      "outputs": []
    }
  ]
}