{
  "nbformat": 4,
  "nbformat_minor": 0,
  "metadata": {
    "colab": {
      "name": "파이썬 데이터 사이언스 핸드북 - NumPy.ipynb",
      "version": "0.3.2",
      "provenance": [],
      "collapsed_sections": [],
      "toc_visible": true,
      "include_colab_link": true
    },
    "kernelspec": {
      "name": "python3",
      "display_name": "Python 3"
    }
  },
  "cells": [
    {
      "cell_type": "markdown",
      "metadata": {
        "id": "view-in-github",
        "colab_type": "text"
      },
      "source": [
        "<a href=\"https://colab.research.google.com/github/jihyunjeongme/data-science/blob/master/%ED%8C%8C%EC%9D%B4%EC%8D%AC_%EB%8D%B0%EC%9D%B4%ED%84%B0_%EC%82%AC%EC%9D%B4%EC%96%B8%EC%8A%A4_%ED%95%B8%EB%93%9C%EB%B6%81_NumPy.ipynb\" target=\"_parent\"><img src=\"https://colab.research.google.com/assets/colab-badge.svg\" alt=\"Open In Colab\"/></a>"
      ]
    },
    {
      "cell_type": "markdown",
      "metadata": {
        "id": "1fHibr0pMHYu",
        "colab_type": "text"
      },
      "source": [
        "## 파이썬 데이터 사이언스 핸드북 \n",
        "##### IPython, Jupyter, NumPy, Pandas, Matplotlib, Scikit-Learn 라이브러리를 활용한 데이터 과학과 머신러닝 (Ing)\n",
        "\n",
        "<img src = \"http://image.yes24.com/Goods/50330345/800x0\" width=\"200\" height=\"300\"></img> \n",
        "\n",
        "\n",
        "- Github: https://github.com/jakevdp/PythonDataScienceHandbook\n",
        "- Contactpoint: https://wikibook.co.kr/python-ds-handbook/\n"
      ]
    },
    {
      "cell_type": "code",
      "metadata": {
        "id": "uLFmA3W_LH-A",
        "colab_type": "code",
        "outputId": "da7f3965-072a-4617-893d-577192544dae",
        "colab": {
          "base_uri": "https://localhost:8080/",
          "height": 51
        }
      },
      "source": [
        "import random\n",
        "L = [random.random() for i in range(100000)]\n",
        "%time L.sort()"
      ],
      "execution_count": 0,
      "outputs": [
        {
          "output_type": "stream",
          "text": [
            "CPU times: user 32.2 ms, sys: 51 µs, total: 32.3 ms\n",
            "Wall time: 32.8 ms\n"
          ],
          "name": "stdout"
        }
      ]
    },
    {
      "cell_type": "code",
      "metadata": {
        "id": "q1JjeuwjLskl",
        "colab_type": "code",
        "outputId": "fd5a062d-cb12-4889-86e9-149490a0bc69",
        "colab": {
          "base_uri": "https://localhost:8080/",
          "height": 51
        }
      },
      "source": [
        "%%time\n",
        "\n",
        "import random\n",
        "L = [random.random() for i in range(100000)]\n",
        "L.sort()"
      ],
      "execution_count": 0,
      "outputs": [
        {
          "output_type": "stream",
          "text": [
            "CPU times: user 49.5 ms, sys: 1.12 ms, total: 50.6 ms\n",
            "Wall time: 51.2 ms\n"
          ],
          "name": "stdout"
        }
      ]
    },
    {
      "cell_type": "code",
      "metadata": {
        "id": "gINknibKQJnx",
        "colab_type": "code",
        "outputId": "6f6cde79-edb5-49c0-e3c3-7f5ab050b3f4",
        "colab": {
          "base_uri": "https://localhost:8080/",
          "height": 34
        }
      },
      "source": [
        "import numpy\n",
        "numpy.__version__"
      ],
      "execution_count": 0,
      "outputs": [
        {
          "output_type": "execute_result",
          "data": {
            "text/plain": [
              "'1.16.4'"
            ]
          },
          "metadata": {
            "tags": []
          },
          "execution_count": 12
        }
      ]
    },
    {
      "cell_type": "code",
      "metadata": {
        "id": "wMgnzGIJRCwJ",
        "colab_type": "code",
        "colab": {}
      },
      "source": [
        "import numpy as np"
      ],
      "execution_count": 0,
      "outputs": []
    },
    {
      "cell_type": "markdown",
      "metadata": {
        "id": "cBouQQtVidOM",
        "colab_type": "text"
      },
      "source": [
        "## 예제: 미국 대통령의 평균 신장은 얼마일까?\n"
      ]
    },
    {
      "cell_type": "code",
      "metadata": {
        "id": "E5xRFN7ORS9y",
        "colab_type": "code",
        "colab": {
          "base_uri": "https://localhost:8080/",
          "height": 54
        },
        "outputId": "c0d4f18e-733f-429f-999f-d767d255b024"
      },
      "source": [
        "from google.colab import drive\n",
        "\n",
        "drive.mount('/content/gdrive')"
      ],
      "execution_count": 16,
      "outputs": [
        {
          "output_type": "stream",
          "text": [
            "Drive already mounted at /content/gdrive; to attempt to forcibly remount, call drive.mount(\"/content/gdrive\", force_remount=True).\n"
          ],
          "name": "stdout"
        }
      ]
    },
    {
      "cell_type": "code",
      "metadata": {
        "id": "DTUtBt-sRZuS",
        "colab_type": "code",
        "colab": {
          "base_uri": "https://localhost:8080/",
          "height": 34
        },
        "outputId": "e2d5ec1f-64f5-40cd-e7f1-e0506f1e6808"
      },
      "source": [
        "cd /content/gdrive/My Drive/Colab Notebooks/python_datascience_cookbook/ch_2_numpy"
      ],
      "execution_count": 17,
      "outputs": [
        {
          "output_type": "stream",
          "text": [
            "/content/gdrive/My Drive/Colab Notebooks/python_datascience_cookbook/ch_2_numpy\n"
          ],
          "name": "stdout"
        }
      ]
    },
    {
      "cell_type": "code",
      "metadata": {
        "id": "Ci65rKnikFUl",
        "colab_type": "code",
        "colab": {
          "base_uri": "https://localhost:8080/",
          "height": 255
        },
        "outputId": "b1663810-a84c-443b-cad7-de04c65cbd53"
      },
      "source": [
        "\n",
        "import numpy as np\n",
        "import pandas as pd\n",
        "\n",
        "data = pd.read_csv('president_heights.csv')\n",
        "heights = np.array(data['height(cm)'])\n",
        "print(heights)\n",
        "data.head()"
      ],
      "execution_count": 20,
      "outputs": [
        {
          "output_type": "stream",
          "text": [
            "[189 170 189 163 183 171 185 168 173 183 173 173 175 178 183 193 178 173\n",
            " 174 183 183 168 170 178 182 180 183 178 182 188 175 179 183 193 182 183\n",
            " 177 185 188 188 182 185]\n"
          ],
          "name": "stdout"
        },
        {
          "output_type": "execute_result",
          "data": {
            "text/html": [
              "<div>\n",
              "<style scoped>\n",
              "    .dataframe tbody tr th:only-of-type {\n",
              "        vertical-align: middle;\n",
              "    }\n",
              "\n",
              "    .dataframe tbody tr th {\n",
              "        vertical-align: top;\n",
              "    }\n",
              "\n",
              "    .dataframe thead th {\n",
              "        text-align: right;\n",
              "    }\n",
              "</style>\n",
              "<table border=\"1\" class=\"dataframe\">\n",
              "  <thead>\n",
              "    <tr style=\"text-align: right;\">\n",
              "      <th></th>\n",
              "      <th>order</th>\n",
              "      <th>name</th>\n",
              "      <th>height(cm)</th>\n",
              "    </tr>\n",
              "  </thead>\n",
              "  <tbody>\n",
              "    <tr>\n",
              "      <th>0</th>\n",
              "      <td>1</td>\n",
              "      <td>George Washington</td>\n",
              "      <td>189</td>\n",
              "    </tr>\n",
              "    <tr>\n",
              "      <th>1</th>\n",
              "      <td>2</td>\n",
              "      <td>John Adams</td>\n",
              "      <td>170</td>\n",
              "    </tr>\n",
              "    <tr>\n",
              "      <th>2</th>\n",
              "      <td>3</td>\n",
              "      <td>Thomas Jefferson</td>\n",
              "      <td>189</td>\n",
              "    </tr>\n",
              "    <tr>\n",
              "      <th>3</th>\n",
              "      <td>4</td>\n",
              "      <td>James Madison</td>\n",
              "      <td>163</td>\n",
              "    </tr>\n",
              "    <tr>\n",
              "      <th>4</th>\n",
              "      <td>5</td>\n",
              "      <td>James Monroe</td>\n",
              "      <td>183</td>\n",
              "    </tr>\n",
              "  </tbody>\n",
              "</table>\n",
              "</div>"
            ],
            "text/plain": [
              "   order               name  height(cm)\n",
              "0      1  George Washington         189\n",
              "1      2         John Adams         170\n",
              "2      3   Thomas Jefferson         189\n",
              "3      4      James Madison         163\n",
              "4      5       James Monroe         183"
            ]
          },
          "metadata": {
            "tags": []
          },
          "execution_count": 20
        }
      ]
    },
    {
      "cell_type": "code",
      "metadata": {
        "id": "6T8n1g7TkRiA",
        "colab_type": "code",
        "colab": {
          "base_uri": "https://localhost:8080/",
          "height": 85
        },
        "outputId": "989a2252-28c0-4528-9d19-703280713f6f"
      },
      "source": [
        "# 이 데이터 배열이 있으니 이제 다양한 요약 통계를 계산 할 수 있다.\n",
        "\n",
        "print(\"Mean height: \", heights.mean())\n",
        "print(\"Standard deviation:\", heights.std())\n",
        "print(\"Minimum height:\", heights.min())\n",
        "print(\"Maximum height:\", heights.max())"
      ],
      "execution_count": 21,
      "outputs": [
        {
          "output_type": "stream",
          "text": [
            "Mean height:  179.73809523809524\n",
            "Standard deviation: 6.931843442745892\n",
            "Minimum height: 163\n",
            "Maximum height: 193\n"
          ],
          "name": "stdout"
        }
      ]
    },
    {
      "cell_type": "code",
      "metadata": {
        "id": "3VjYQjA3lOAA",
        "colab_type": "code",
        "colab": {
          "base_uri": "https://localhost:8080/",
          "height": 68
        },
        "outputId": "b1e9cbb0-3546-4014-b416-091cf31ed698"
      },
      "source": [
        "print(\"25th percentile:\", np.percentile(heights,25))\n",
        "print(\"Medial:\", np.median(heights))\n",
        "print(\"75th percentile:\", np.percentile(heights, 75))"
      ],
      "execution_count": 22,
      "outputs": [
        {
          "output_type": "stream",
          "text": [
            "25th percentile: 174.25\n",
            "Medial: 182.0\n",
            "75th percentile: 183.0\n"
          ],
          "name": "stdout"
        }
      ]
    },
    {
      "cell_type": "code",
      "metadata": {
        "id": "0PFvUzo_lwph",
        "colab_type": "code",
        "colab": {}
      },
      "source": [
        "# 미국 대통령 신장의 중앙값은 182 cm"
      ],
      "execution_count": 0,
      "outputs": []
    },
    {
      "cell_type": "code",
      "metadata": {
        "id": "MAV2rQ0-l7JV",
        "colab_type": "code",
        "colab": {
          "base_uri": "https://localhost:8080/",
          "height": 318
        },
        "outputId": "659b5833-38e0-4053-f1a9-ec46c3e897ae"
      },
      "source": [
        "# Matplotlib의 도구를 이용해 시각적으로 표현하는게 유용할 때도 있다.\n",
        "\n",
        "%matplotlib inline\n",
        "import matplotlib.pyplot as plt\n",
        "import seaborn; seaborn.set()\n",
        "\n",
        "plt.hist(heights)\n",
        "plt.title('Height Distribution of US presidents')\n",
        "plt.xlabel('height (cm)')\n",
        "plt.ylabel('number')"
      ],
      "execution_count": 25,
      "outputs": [
        {
          "output_type": "execute_result",
          "data": {
            "text/plain": [
              "Text(0, 0.5, 'number')"
            ]
          },
          "metadata": {
            "tags": []
          },
          "execution_count": 25
        },
        {
          "output_type": "display_data",
          "data": {
            "image/png": "[encoded data removed]",
            "text/plain": [
              "<Figure size 432x288 with 1 Axes>"
            ]
          },
          "metadata": {
            "tags": []
          }
        }
      ]
    },
    {
      "cell_type": "markdown",
      "metadata": {
        "id": "n-Qxqi4An1LM",
        "colab_type": "text"
      },
      "source": [
        "## 예제: 비온 날 세기\n",
        "- 어느 도시의 일 년간 일일 강수량을 표시한 일련의 데이터"
      ]
    },
    {
      "cell_type": "code",
      "metadata": {
        "id": "wiyAkFizmFq2",
        "colab_type": "code",
        "colab": {
          "base_uri": "https://localhost:8080/",
          "height": 391
        },
        "outputId": "1d357d62-5110-4660-a1cd-6e284d9e398b"
      },
      "source": [
        "import numpy as np\n",
        "import pandas as pd\n",
        "\n",
        "# Pandas를 이용해 인치 단위의 강수량 데이터를 Numpy 배열로 추출\n",
        "\n",
        "rainfall = pd.read_csv('Seattle2014.csv')['PRCP'].values\n",
        "print(rainfall)\n",
        "inches = rainfall / 254 # 1/10mm -> inches\n",
        "inches.shape"
      ],
      "execution_count": 30,
      "outputs": [
        {
          "output_type": "stream",
          "text": [
            "[  0  41  15   0   0   3 122  97  58  43 213  15   0   0   0   0   0   0\n",
            "   0   0   0   5   0   0   0   0   0  89 216   0  23  20   0   0   0   0\n",
            "   0   0  51   5 183 170  46  18  94 117 264 145 152  10  30  28  25  61\n",
            " 130   3   0   0   0   5 191 107 165 467  30   0 323  43 188   0   0   5\n",
            "  69  81 277   3   0   5   0   0   0   0   0  41  36   3 221 140   0   0\n",
            "   0   0  25   0  46   0   0  46   0   0   0   0   0   0   5 109 185   0\n",
            " 137   0  51 142  89 124   0  33  69   0   0   0   0   0 333 160  51   0\n",
            "   0 137  20   5   0   0   0   0   0   0   0   0   0   0   0   0  38   0\n",
            "  56   0   0   0   0   0   0   0   0   0   0   0   0   0   0   0   0   0\n",
            "  18  64   0   5  36  13   0   8   3   0   0   0   0   0   0  18  23   0\n",
            "   0   0   0   0   0   0   0   0   0   0   0   0   0   0   0   0   0   0\n",
            "   0   0   0   0   3 193   0   0   0   0   0   0   0   0   0   5   0   0\n",
            "   0   0   0   0   0   0   5 127 216   0  10   0   0   0   0   0   0   0\n",
            "   0   0   0   0   0   0   0  84  13   0  30   0   0   0   0   0   0   0\n",
            "   0   0   0   0   0   0   0   5   3   0   0   0   3 183 203  43  89   0\n",
            "   0   8   0   0   0   0   0   0   0   0   0   0   3  74   0  76  71  86\n",
            "   0  33 150   0 117  10 320  94  41  61  15   8 127   5 254 170   0  18\n",
            " 109  41  48  41   0   0  51   0   0   0   0   0   0   0   0   0   0  36\n",
            " 152   5 119  13 183   3  33 343  36   0   0   0   0   8  30  74   0  91\n",
            "  99 130  69   0   0   0   0   0  28 130  30 196   0   0 206  53   0   0\n",
            "  33  41   0   0   0]\n"
          ],
          "name": "stdout"
        },
        {
          "output_type": "execute_result",
          "data": {
            "text/plain": [
              "(365,)"
            ]
          },
          "metadata": {
            "tags": []
          },
          "execution_count": 30
        }
      ]
    },
    {
      "cell_type": "code",
      "metadata": {
        "id": "WfwTGeWuoWtf",
        "colab_type": "code",
        "colab": {}
      },
      "source": [
        "# 배열에는 2014년 1월 1일부터 12월 31일까지 인치 단위의 일일 강수량을 나타내는 365개의 값이 들어 있다."
      ],
      "execution_count": 0,
      "outputs": []
    },
    {
      "cell_type": "code",
      "metadata": {
        "id": "uPtG8xyaoxlq",
        "colab_type": "code",
        "colab": {
          "base_uri": "https://localhost:8080/",
          "height": 512
        },
        "outputId": "ae48cc7b-7c26-4bcd-c182-c79910f3fdca"
      },
      "source": [
        "%matplotlib inline\n",
        "import matplotlib.pyplot as plt\n",
        "import seaborn\n",
        "seaborn.set() # 플롯 형식 설정\n",
        "plt.hist(inches, 40)"
      ],
      "execution_count": 32,
      "outputs": [
        {
          "output_type": "execute_result",
          "data": {
            "text/plain": [
              "(array([245.,  14.,  13.,  17.,   8.,   6.,   5.,   6.,   4.,   3.,   7.,\n",
              "          6.,   3.,   3.,   3.,   4.,   4.,   2.,   4.,   0.,   0.,   1.,\n",
              "          1.,   1.,   0.,   0.,   0.,   2.,   1.,   1.,   0.,   0.,   0.,\n",
              "          0.,   0.,   0.,   0.,   0.,   0.,   1.]),\n",
              " array([0.        , 0.04596457, 0.09192913, 0.1378937 , 0.18385827,\n",
              "        0.22982283, 0.2757874 , 0.32175197, 0.36771654, 0.4136811 ,\n",
              "        0.45964567, 0.50561024, 0.5515748 , 0.59753937, 0.64350394,\n",
              "        0.6894685 , 0.73543307, 0.78139764, 0.8273622 , 0.87332677,\n",
              "        0.91929134, 0.96525591, 1.01122047, 1.05718504, 1.10314961,\n",
              "        1.14911417, 1.19507874, 1.24104331, 1.28700787, 1.33297244,\n",
              "        1.37893701, 1.42490157, 1.47086614, 1.51683071, 1.56279528,\n",
              "        1.60875984, 1.65472441, 1.70068898, 1.74665354, 1.79261811,\n",
              "        1.83858268]),\n",
              " <a list of 40 Patch objects>)"
            ]
          },
          "metadata": {
            "tags": []
          },
          "execution_count": 32
        },
        {
          "output_type": "display_data",
          "data": {
            "image/png": "[encoded data removed]",
            "text/plain": [
              "<Figure size 432x288 with 1 Axes>"
            ]
          },
          "metadata": {
            "tags": []
          }
        }
      ]
    },
    {
      "cell_type": "code",
      "metadata": {
        "id": "yr0X_U5go56b",
        "colab_type": "code",
        "colab": {}
      },
      "source": [
        "# 대다수 날에 강수량이 0에 가까운 모습을 볼 수 있다.\n",
        "\n",
        "# 그렇지만 이 그래프는 '그해 비가 온날은 몇일까?','비 오는 날의 평균 강수량은 얼마인가'\n",
        "# '0.5인치 이상 비가 온날은 며칠이나 될까?' 등 우리가 알고자 하는 정보를 전달하기에는 적합하지 않다."
      ],
      "execution_count": 0,
      "outputs": []
    },
    {
      "cell_type": "code",
      "metadata": {
        "id": "6mmQfGzCpRAU",
        "colab_type": "code",
        "colab": {}
      },
      "source": [
        ""
      ],
      "execution_count": 0,
      "outputs": []
    }
  ]
}