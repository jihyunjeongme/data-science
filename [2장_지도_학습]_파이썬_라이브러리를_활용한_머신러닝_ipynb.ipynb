{
  "nbformat": 4,
  "nbformat_minor": 0,
  "metadata": {
    "colab": {
      "name": "[2장-지도 학습] 파이썬 라이브러리를 활용한 머신러닝.ipynb.ipynb",
      "version": "0.3.2",
      "provenance": [],
      "collapsed_sections": [],
      "include_colab_link": true
    },
    "kernelspec": {
      "name": "python3",
      "display_name": "Python 3"
    }
  },
  "cells": [
    {
      "cell_type": "markdown",
      "metadata": {
        "id": "view-in-github",
        "colab_type": "text"
      },
      "source": [
        "<a href=\"https://colab.research.google.com/github/jihyunjeongme/data-science/blob/master/%5B2%EC%9E%A5_%EC%A7%80%EB%8F%84_%ED%95%99%EC%8A%B5%5D_%ED%8C%8C%EC%9D%B4%EC%8D%AC_%EB%9D%BC%EC%9D%B4%EB%B8%8C%EB%9F%AC%EB%A6%AC%EB%A5%BC_%ED%99%9C%EC%9A%A9%ED%95%9C_%EB%A8%B8%EC%8B%A0%EB%9F%AC%EB%8B%9D_ipynb.ipynb\" target=\"_parent\"><img src=\"https://colab.research.google.com/assets/colab-badge.svg\" alt=\"Open In Colab\"/></a>"
      ]
    },
    {
      "cell_type": "markdown",
      "metadata": {
        "id": "8SGcFR_ECpwR",
        "colab_type": "text"
      },
      "source": [
        "<img src=\"http://image.yes24.com/Goods/72219991/800x0\" width=300 height=400>\n",
        "\n",
        "## (개정판)파이썬 라이브러리를 활용한 머신러닝\n",
        "## 2장-지도 학습\n"
      ]
    },
    {
      "cell_type": "markdown",
      "metadata": {
        "id": "iKnIoX0KCvPv",
        "colab_type": "text"
      },
      "source": [
        "## 2.1 분류와 회귀\n",
        "### 분류: 미리 정의돈, 가능성 있는 여러 클래스 레이블 중 하나를 예측\n",
        "  - 이진분류: 딱 두개의 클래스로 분류\n",
        "    - ex) 예/아니요, 이메일 스팸분류\n",
        "  - 다중분류: 셋 이상의 클래스로 분류\n",
        "    - ex) 붓꽃분류\n",
        "### 회귀: 연속적인 숫자, 또는 부동소수점수(수학 용어로는 실수)를 예측 하는 것\n",
        "  - 예시) 어떤 사람의 교육 수준, 나이, 주거지를 바탕으로 연간 소득을 예측하는 것\n",
        "  - 옥수수 농장에서 전년도 수확량과 날씨, 고용 인원수 등으로 올해 수확량을 예측하는 예도 회귀문제\n",
        "  - 예상 출력 값 사이에 연속성이 있다면 회귀 문제.\n",
        "\n",
        "  \n"
      ]
    },
    {
      "cell_type": "markdown",
      "metadata": {
        "id": "d5M7CGbrDzYS",
        "colab_type": "text"
      },
      "source": [
        "## 2.2 일반화, 과대적합, 과소적합\n",
        "- 일반화: 모델이 처음 보는 데이터에 대해 정확하게 예측할 수 있으면 이를 훈련세트에서 테스트 세트로 일반화 되었다고 함.\n",
        "- 과대적합: 모델이 훈련 세트의 각 샘플에 너무 가깝게 맞춰져서 새로운 데이터에 일반화되거 어려울 때 일어남\n",
        "- 과소적합: 모델이 너무 간단해, 데이터의 면면과 다양성을 잡아내지 못할 것이고 훈련 세트에도 잘 맞지 않는 경우.\n",
        "- 모델을 복잡하게 할수록 훈련 데이터에 대해서는 더 정호가하게 할 수 있으나 너무 복잡해지면 훈련 세트의 각 데이터 포인트에 너무 민감해져 새로운 데이터에 잘 일반화되지 못함.\n",
        "- 우리가 찾으려는 모델은 일반화 성능이 최대가 되는 최적점에 있는 모델.\n"
      ]
    },
    {
      "cell_type": "markdown",
      "metadata": {
        "id": "Op0wvSQQImC0",
        "colab_type": "text"
      },
      "source": [
        "## 2.2.1 모델 복잡도와 데이터셋 크기의 관계"
      ]
    },
    {
      "cell_type": "code",
      "metadata": {
        "id": "kQetJUalCoka",
        "colab_type": "code",
        "colab": {}
      },
      "source": [
        ""
      ],
      "execution_count": 0,
      "outputs": []
    }
  ]
}