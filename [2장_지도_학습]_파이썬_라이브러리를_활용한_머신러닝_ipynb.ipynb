{
  "nbformat": 4,
  "nbformat_minor": 0,
  "metadata": {
    "colab": {
      "name": "[2장-지도 학습] 파이썬 라이브러리를 활용한 머신러닝.ipynb.ipynb",
      "version": "0.3.2",
      "provenance": [],
      "collapsed_sections": [],
      "include_colab_link": true
    },
    "kernelspec": {
      "name": "python3",
      "display_name": "Python 3"
    }
  },
  "cells": [
    {
      "cell_type": "markdown",
      "metadata": {
        "id": "view-in-github",
        "colab_type": "text"
      },
      "source": [
        "<a href=\"https://colab.research.google.com/github/jihyunjeongme/data-science/blob/master/%5B2%EC%9E%A5_%EC%A7%80%EB%8F%84_%ED%95%99%EC%8A%B5%5D_%ED%8C%8C%EC%9D%B4%EC%8D%AC_%EB%9D%BC%EC%9D%B4%EB%B8%8C%EB%9F%AC%EB%A6%AC%EB%A5%BC_%ED%99%9C%EC%9A%A9%ED%95%9C_%EB%A8%B8%EC%8B%A0%EB%9F%AC%EB%8B%9D_ipynb.ipynb\" target=\"_parent\"><img src=\"https://colab.research.google.com/assets/colab-badge.svg\" alt=\"Open In Colab\"/></a>"
      ]
    },
    {
      "cell_type": "markdown",
      "metadata": {
        "id": "8SGcFR_ECpwR",
        "colab_type": "text"
      },
      "source": [
        "<img src=\"http://image.yes24.com/Goods/72219991/800x0\" width=300 height=400>\n",
        "\n",
        "## (개정판)파이썬 라이브러리를 활용한 머신러닝\n",
        "## 2장-지도 학습\n"
      ]
    },
    {
      "cell_type": "markdown",
      "metadata": {
        "id": "iKnIoX0KCvPv",
        "colab_type": "text"
      },
      "source": [
        "## 2.1 분류와 회귀\n",
        "### 분류: 미리 정의돈, 가능성 있는 여러 클래스 레이블 중 하나를 예측\n",
        "  - 이진분류: 딱 두개의 클래스로 분류\n",
        "    - ex) 예/아니요, 이메일 스팸분류\n",
        "  - 다중분류: 셋 이상의 클래스로 분류\n",
        "    - ex) 붓꽃분류\n",
        "### 회귀: 연속적인 숫자, 또는 부동소수점수(수학 용어로는 실수)를 예측 하는 것\n",
        "  - 예시) 어떤 사람의 교육 수준, 나이, 주거지를 바탕으로 연간 소득을 예측하는 것\n",
        "  - 옥수수 농장에서 전년도 수확량과 날씨, 고용 인원수 등으로 올해 수확량을 예측하는 예도 회귀문제\n",
        "  - 예상 출력 값 사이에 연속성이 있다면 회귀 문제.\n",
        "\n",
        "  \n"
      ]
    },
    {
      "cell_type": "markdown",
      "metadata": {
        "id": "d5M7CGbrDzYS",
        "colab_type": "text"
      },
      "source": [
        "## 2.2 일반화, 과대적합, 과소적합\n",
        "- 일반화: 모델이 처음 보는 데이터에 대해 정확하게 예측할 수 있으면 이를 훈련세트에서 테스트 세트로 일반화 되었다고 함.\n",
        "- 과대적합: 모델이 훈련 세트의 각 샘플에 너무 가깝게 맞춰져서 새로운 데이터에 일반화되거 어려울 때 일어남\n",
        "- 과소적합: 모델이 너무 간단해, 데이터의 면면과 다양성을 잡아내지 못할 것이고 훈련 세트에도 잘 맞지 않는 경우.\n",
        "- 모델을 복잡하게 할수록 훈련 데이터에 대해서는 더 정호가하게 할 수 있으나 너무 복잡해지면 훈련 세트의 각 데이터 포인트에 너무 민감해져 새로운 데이터에 잘 일반화되지 못함.\n",
        "- 우리가 찾으려는 모델은 일반화 성능이 최대가 되는 최적점에 있는 모델.\n"
      ]
    },
    {
      "cell_type": "markdown",
      "metadata": {
        "id": "Op0wvSQQImC0",
        "colab_type": "text"
      },
      "source": [
        "## 2.2.1 모델 복잡도와 데이터셋 크기의 관계"
      ]
    },
    {
      "cell_type": "markdown",
      "metadata": {
        "id": "nj5-V0OK542t",
        "colab_type": "text"
      },
      "source": [
        "## 2.3 지도 학습 알고리즘\n",
        "### 2.3.1 예제에 사용할 데이터셋\n",
        "- 두 개의 특성을 가진 forge 데이터셋: 인위적으로 만든 이진 분류 데이터셋"
      ]
    },
    {
      "cell_type": "code",
      "metadata": {
        "id": "kQetJUalCoka",
        "colab_type": "code",
        "outputId": "7aee70e8-4714-47bb-9fd9-fc1dd0f0ab78",
        "colab": {
          "base_uri": "https://localhost:8080/",
          "height": 360
        }
      },
      "source": [
        "!pip install mglearn\n",
        "\n",
        "import mglearn\n",
        "# 데이터셋 만듬\n",
        "X, y = mglearn.datasets.make_forge()"
      ],
      "execution_count": 4,
      "outputs": [
        {
          "output_type": "stream",
          "text": [
            "Requirement already satisfied: mglearn in /usr/local/lib/python3.6/dist-packages (0.1.7)\n",
            "Requirement already satisfied: cycler in /usr/local/lib/python3.6/dist-packages (from mglearn) (0.10.0)\n",
            "Requirement already satisfied: imageio in /usr/local/lib/python3.6/dist-packages (from mglearn) (2.4.1)\n",
            "Requirement already satisfied: scikit-learn in /usr/local/lib/python3.6/dist-packages (from mglearn) (0.21.3)\n",
            "Requirement already satisfied: matplotlib in /usr/local/lib/python3.6/dist-packages (from mglearn) (3.0.3)\n",
            "Requirement already satisfied: pandas in /usr/local/lib/python3.6/dist-packages (from mglearn) (0.24.2)\n",
            "Requirement already satisfied: numpy in /usr/local/lib/python3.6/dist-packages (from mglearn) (1.16.5)\n",
            "Requirement already satisfied: pillow in /usr/local/lib/python3.6/dist-packages (from mglearn) (4.3.0)\n",
            "Requirement already satisfied: six in /usr/local/lib/python3.6/dist-packages (from cycler->mglearn) (1.12.0)\n",
            "Requirement already satisfied: joblib>=0.11 in /usr/local/lib/python3.6/dist-packages (from scikit-learn->mglearn) (0.13.2)\n",
            "Requirement already satisfied: scipy>=0.17.0 in /usr/local/lib/python3.6/dist-packages (from scikit-learn->mglearn) (1.3.1)\n",
            "Requirement already satisfied: python-dateutil>=2.1 in /usr/local/lib/python3.6/dist-packages (from matplotlib->mglearn) (2.5.3)\n",
            "Requirement already satisfied: kiwisolver>=1.0.1 in /usr/local/lib/python3.6/dist-packages (from matplotlib->mglearn) (1.1.0)\n",
            "Requirement already satisfied: pyparsing!=2.0.4,!=2.1.2,!=2.1.6,>=2.0.1 in /usr/local/lib/python3.6/dist-packages (from matplotlib->mglearn) (2.4.2)\n",
            "Requirement already satisfied: pytz>=2011k in /usr/local/lib/python3.6/dist-packages (from pandas->mglearn) (2018.9)\n",
            "Requirement already satisfied: olefile in /usr/local/lib/python3.6/dist-packages (from pillow->mglearn) (0.46)\n",
            "Requirement already satisfied: setuptools in /usr/local/lib/python3.6/dist-packages (from kiwisolver>=1.0.1->matplotlib->mglearn) (41.2.0)\n"
          ],
          "name": "stdout"
        },
        {
          "output_type": "stream",
          "text": [
            "/usr/local/lib/python3.6/dist-packages/sklearn/utils/deprecation.py:85: DeprecationWarning: Function make_blobs is deprecated; Please import make_blobs directly from scikit-learn\n",
            "  warnings.warn(msg, category=DeprecationWarning)\n"
          ],
          "name": "stderr"
        }
      ]
    },
    {
      "cell_type": "code",
      "metadata": {
        "id": "xUQ8i3F_8Jxh",
        "colab_type": "code",
        "outputId": "44d1f6bb-c486-4635-82f5-b39c893ef32d",
        "colab": {
          "base_uri": "https://localhost:8080/",
          "height": 34
        }
      },
      "source": [
        "import matplotlib.pyplot as plt\n",
        "%matplotlib inline\n",
        "\n",
        "# 한글 폰트 설치\n",
        "import matplotlib.font_manager as fm  # 폰트 관련 용도\n",
        "\n",
        "\n",
        "# 나눔 고딕 인스톨\n",
        "!apt-get update -qq\n",
        "!apt-get install fonts-nanum* -qq\n",
        "\n",
        "path = '/usr/share/fonts/truetype/nanum/NanumMyeongjoBold.ttf'  # 설치된 나눔글꼴중 원하는 녀석의 전체 경로를 가져오자\n",
        "font_name = fm.FontProperties(fname=path, size=10).get_name()\n",
        "print(font_name)\n",
        "plt.rc('font', family=font_name)\n",
        "\n",
        "# 우선 fm._rebuild() 를 해주고\n",
        "# fm._rebuild() 를 해줘야 system 에 추가 설치된 폰트를 matplotilb.font_manager 가 알아차리는 것으로 보인다.\n",
        "fm._rebuild()"
      ],
      "execution_count": 5,
      "outputs": [
        {
          "output_type": "stream",
          "text": [
            "NanumMyeongjo\n"
          ],
          "name": "stdout"
        }
      ]
    },
    {
      "cell_type": "code",
      "metadata": {
        "id": "me1nOAsH52Ug",
        "colab_type": "code",
        "outputId": "9eaf60b4-d910-468e-d1c6-02010e51a731",
        "colab": {
          "base_uri": "https://localhost:8080/",
          "height": 300
        }
      },
      "source": [
        "# 산점도를 그립니다.\n",
        "mglearn.discrete_scatter(X[:, 0], X[:, 1], y)\n",
        "plt.legend([\"클래스 0\", \"클래스 1\"], loc=4)\n",
        "plt.xlabel(\"첫 번쨰 특성\")\n",
        "\n",
        "plt.ylabel(\"두 번쨰 특성\")\n",
        "print(\"X.shape:\", X.shape)"
      ],
      "execution_count": 6,
      "outputs": [
        {
          "output_type": "stream",
          "text": [
            "X.shape: (26, 2)\n"
          ],
          "name": "stdout"
        },
        {
          "output_type": "display_data",
          "data": {
            "image/png": "[encoded data removed]",
            "text/plain": [
              "<Figure size 432x288 with 1 Axes>"
            ]
          },
          "metadata": {
            "tags": []
          }
        }
      ]
    },
    {
      "cell_type": "code",
      "metadata": {
        "id": "Gn6BS3Ki6xDd",
        "colab_type": "code",
        "outputId": "1c6a966d-262e-4e45-de6e-a4c2ab82c09e",
        "colab": {
          "base_uri": "https://localhost:8080/",
          "height": 300
        }
      },
      "source": [
        "# X.shape 값에서 알 수 있듯이 이 데이터셋은 데이터 포인트 26개와 특성 2개를 가집니다.\n",
        "# 회귀 알고리즘 설명에는 인위적으로 만든 wave 데이터셋을 사용하겠습니다.\n",
        "\n",
        "# wave 데이터셋은 입력 특성 하나와 모델링할 타깃 변수(또는 응답)을 가집니다.\n",
        "\n",
        "# 특성을 x축에 놓고 회귀의 타깃(출력)을 y축에 놓았습니다.\n",
        "X, y = mglearn.datasets.make_wave(n_samples=40)\n",
        "plt.plot(X, y, 'o')\n",
        "plt.ylim(-3, 3)\n",
        "plt.xlabel(\"특성\")\n",
        "plt.ylabel(\"타깃\")"
      ],
      "execution_count": 7,
      "outputs": [
        {
          "output_type": "execute_result",
          "data": {
            "text/plain": [
              "Text(0, 0.5, '타깃')"
            ]
          },
          "metadata": {
            "tags": []
          },
          "execution_count": 7
        },
        {
          "output_type": "display_data",
          "data": {
            "image/png": "[encoded data removed]",
            "text/plain": [
              "<Figure size 432x288 with 1 Axes>"
            ]
          },
          "metadata": {
            "tags": []
          }
        }
      ]
    },
    {
      "cell_type": "code",
      "metadata": {
        "id": "Y_gNzlqu88wc",
        "colab_type": "code",
        "colab": {}
      },
      "source": [
        "# scikit-learn에 들어 있는 실제 데이터셋도 두 개를 하겠습니다.\n",
        "# 1. 유방암 종양의 임상 데이터를 기록해놓은 위스콘신 유방암 데이터셋(줄여서 cancer)\n",
        "#  - 각 종양은 양성과 악성으로 레이블 되어 있고, 조직 데이터를 기반으로 종양이 악성인지를 예측 할 수 있도록 학습하는 것이 과제"
      ],
      "execution_count": 0,
      "outputs": []
    },
    {
      "cell_type": "code",
      "metadata": {
        "id": "RMt9CQYS9wg4",
        "colab_type": "code",
        "outputId": "704304e2-1428-4125-ae34-1a1a2353cd43",
        "colab": {
          "base_uri": "https://localhost:8080/",
          "height": 51
        }
      },
      "source": [
        "# sciket-learn에 있는 load_breast_cancer 함수를 사용하여 불러올 수 있습니다.\n",
        "\n",
        "from sklearn.datasets import load_breast_cancer\n",
        "cancer = load_breast_cancer()\n",
        "print(\"cancer.keys():\\n\", cancer.keys())"
      ],
      "execution_count": 9,
      "outputs": [
        {
          "output_type": "stream",
          "text": [
            "cancer.keys():\n",
            " dict_keys(['data', 'target', 'target_names', 'DESCR', 'feature_names', 'filename'])\n"
          ],
          "name": "stdout"
        }
      ]
    },
    {
      "cell_type": "code",
      "metadata": {
        "id": "kD__IhDg-Boy",
        "colab_type": "code",
        "outputId": "99aa2f90-7be7-452f-8f47-0e5a563517df",
        "colab": {
          "base_uri": "https://localhost:8080/",
          "height": 34
        }
      },
      "source": [
        "print(\"유방암 데이터의 형태:\", cancer.data.shape)"
      ],
      "execution_count": 10,
      "outputs": [
        {
          "output_type": "stream",
          "text": [
            "유방암 데이터의 형태: (569, 30)\n"
          ],
          "name": "stdout"
        }
      ]
    },
    {
      "cell_type": "code",
      "metadata": {
        "id": "z9wS4aVx-I_A",
        "colab_type": "code",
        "colab": {}
      },
      "source": [
        "# 이 데이터 셋은 569개의 데이터 포인트를 가지고 있고 특성은 30개 입니다."
      ],
      "execution_count": 0,
      "outputs": []
    },
    {
      "cell_type": "code",
      "metadata": {
        "id": "LJhOHohV-ZzN",
        "colab_type": "code",
        "outputId": "c83cb874-cdee-4f1b-9240-b01e93638eef",
        "colab": {
          "base_uri": "https://localhost:8080/",
          "height": 51
        }
      },
      "source": [
        "import numpy as np\n",
        "print(\"클래스별 샘플 개수:\\n\",\n",
        "      {n: v for n, v in zip(cancer.target_names, np.bincount(cancer.target))})"
      ],
      "execution_count": 12,
      "outputs": [
        {
          "output_type": "stream",
          "text": [
            "클래스별 샘플 개수:\n",
            " {'malignant': 212, 'benign': 357}\n"
          ],
          "name": "stdout"
        }
      ]
    },
    {
      "cell_type": "code",
      "metadata": {
        "id": "JjhNo3z--xd1",
        "colab_type": "code",
        "colab": {}
      },
      "source": [
        "# 569개의 데이터 중 212개는 악성이고 357개는 양성"
      ],
      "execution_count": 0,
      "outputs": []
    },
    {
      "cell_type": "code",
      "metadata": {
        "id": "y-X3l7pO-_Qx",
        "colab_type": "code",
        "outputId": "4a3802a1-1676-4298-8333-f06a28e2d13d",
        "colab": {
          "base_uri": "https://localhost:8080/",
          "height": 187
        }
      },
      "source": [
        "print(\"특성 이름:\\n\", cancer.feature_names)"
      ],
      "execution_count": 14,
      "outputs": [
        {
          "output_type": "stream",
          "text": [
            "특성 이름:\n",
            " ['mean radius' 'mean texture' 'mean perimeter' 'mean area'\n",
            " 'mean smoothness' 'mean compactness' 'mean concavity'\n",
            " 'mean concave points' 'mean symmetry' 'mean fractal dimension'\n",
            " 'radius error' 'texture error' 'perimeter error' 'area error'\n",
            " 'smoothness error' 'compactness error' 'concavity error'\n",
            " 'concave points error' 'symmetry error' 'fractal dimension error'\n",
            " 'worst radius' 'worst texture' 'worst perimeter' 'worst area'\n",
            " 'worst smoothness' 'worst compactness' 'worst concavity'\n",
            " 'worst concave points' 'worst symmetry' 'worst fractal dimension']\n"
          ],
          "name": "stdout"
        }
      ]
    },
    {
      "cell_type": "code",
      "metadata": {
        "id": "Vs9iw50Q_ET3",
        "colab_type": "code",
        "outputId": "334e39fd-c98b-4aa4-bfbe-8fd6ee7d5500",
        "colab": {
          "base_uri": "https://localhost:8080/",
          "height": 1000
        }
      },
      "source": [
        "# 데이터에 관한 더 자세한 정보\n",
        "print(\"데이터에 대한 자세한 정보:\\n\", cancer.DESCR)"
      ],
      "execution_count": 15,
      "outputs": [
        {
          "output_type": "stream",
          "text": [
            "데이터에 대한 자세한 정보:\n",
            " .. _breast_cancer_dataset:\n",
            "\n",
            "Breast cancer wisconsin (diagnostic) dataset\n",
            "--------------------------------------------\n",
            "\n",
            "**Data Set Characteristics:**\n",
            "\n",
            "    :Number of Instances: 569\n",
            "\n",
            "    :Number of Attributes: 30 numeric, predictive attributes and the class\n",
            "\n",
            "    :Attribute Information:\n",
            "        - radius (mean of distances from center to points on the perimeter)\n",
            "        - texture (standard deviation of gray-scale values)\n",
            "        - perimeter\n",
            "        - area\n",
            "        - smoothness (local variation in radius lengths)\n",
            "        - compactness (perimeter^2 / area - 1.0)\n",
            "        - concavity (severity of concave portions of the contour)\n",
            "        - concave points (number of concave portions of the contour)\n",
            "        - symmetry \n",
            "        - fractal dimension (\"coastline approximation\" - 1)\n",
            "\n",
            "        The mean, standard error, and \"worst\" or largest (mean of the three\n",
            "        largest values) of these features were computed for each image,\n",
            "        resulting in 30 features.  For instance, field 3 is Mean Radius, field\n",
            "        13 is Radius SE, field 23 is Worst Radius.\n",
            "\n",
            "        - class:\n",
            "                - WDBC-Malignant\n",
            "                - WDBC-Benign\n",
            "\n",
            "    :Summary Statistics:\n",
            "\n",
            "    ===================================== ====== ======\n",
            "                                           Min    Max\n",
            "    ===================================== ====== ======\n",
            "    radius (mean):                        6.981  28.11\n",
            "    texture (mean):                       9.71   39.28\n",
            "    perimeter (mean):                     43.79  188.5\n",
            "    area (mean):                          143.5  2501.0\n",
            "    smoothness (mean):                    0.053  0.163\n",
            "    compactness (mean):                   0.019  0.345\n",
            "    concavity (mean):                     0.0    0.427\n",
            "    concave points (mean):                0.0    0.201\n",
            "    symmetry (mean):                      0.106  0.304\n",
            "    fractal dimension (mean):             0.05   0.097\n",
            "    radius (standard error):              0.112  2.873\n",
            "    texture (standard error):             0.36   4.885\n",
            "    perimeter (standard error):           0.757  21.98\n",
            "    area (standard error):                6.802  542.2\n",
            "    smoothness (standard error):          0.002  0.031\n",
            "    compactness (standard error):         0.002  0.135\n",
            "    concavity (standard error):           0.0    0.396\n",
            "    concave points (standard error):      0.0    0.053\n",
            "    symmetry (standard error):            0.008  0.079\n",
            "    fractal dimension (standard error):   0.001  0.03\n",
            "    radius (worst):                       7.93   36.04\n",
            "    texture (worst):                      12.02  49.54\n",
            "    perimeter (worst):                    50.41  251.2\n",
            "    area (worst):                         185.2  4254.0\n",
            "    smoothness (worst):                   0.071  0.223\n",
            "    compactness (worst):                  0.027  1.058\n",
            "    concavity (worst):                    0.0    1.252\n",
            "    concave points (worst):               0.0    0.291\n",
            "    symmetry (worst):                     0.156  0.664\n",
            "    fractal dimension (worst):            0.055  0.208\n",
            "    ===================================== ====== ======\n",
            "\n",
            "    :Missing Attribute Values: None\n",
            "\n",
            "    :Class Distribution: 212 - Malignant, 357 - Benign\n",
            "\n",
            "    :Creator:  Dr. William H. Wolberg, W. Nick Street, Olvi L. Mangasarian\n",
            "\n",
            "    :Donor: Nick Street\n",
            "\n",
            "    :Date: November, 1995\n",
            "\n",
            "This is a copy of UCI ML Breast Cancer Wisconsin (Diagnostic) datasets.\n",
            "https://goo.gl/U2Uwz2\n",
            "\n",
            "Features are computed from a digitized image of a fine needle\n",
            "aspirate (FNA) of a breast mass.  They describe\n",
            "characteristics of the cell nuclei present in the image.\n",
            "\n",
            "Separating plane described above was obtained using\n",
            "Multisurface Method-Tree (MSM-T) [K. P. Bennett, \"Decision Tree\n",
            "Construction Via Linear Programming.\" Proceedings of the 4th\n",
            "Midwest Artificial Intelligence and Cognitive Science Society,\n",
            "pp. 97-101, 1992], a classification method which uses linear\n",
            "programming to construct a decision tree.  Relevant features\n",
            "were selected using an exhaustive search in the space of 1-4\n",
            "features and 1-3 separating planes.\n",
            "\n",
            "The actual linear program used to obtain the separating plane\n",
            "in the 3-dimensional space is that described in:\n",
            "[K. P. Bennett and O. L. Mangasarian: \"Robust Linear\n",
            "Programming Discrimination of Two Linearly Inseparable Sets\",\n",
            "Optimization Methods and Software 1, 1992, 23-34].\n",
            "\n",
            "This database is also available through the UW CS ftp server:\n",
            "\n",
            "ftp ftp.cs.wisc.edu\n",
            "cd math-prog/cpo-dataset/machine-learn/WDBC/\n",
            "\n",
            ".. topic:: References\n",
            "\n",
            "   - W.N. Street, W.H. Wolberg and O.L. Mangasarian. Nuclear feature extraction \n",
            "     for breast tumor diagnosis. IS&T/SPIE 1993 International Symposium on \n",
            "     Electronic Imaging: Science and Technology, volume 1905, pages 861-870,\n",
            "     San Jose, CA, 1993.\n",
            "   - O.L. Mangasarian, W.N. Street and W.H. Wolberg. Breast cancer diagnosis and \n",
            "     prognosis via linear programming. Operations Research, 43(4), pages 570-577, \n",
            "     July-August 1995.\n",
            "   - W.H. Wolberg, W.N. Street, and O.L. Mangasarian. Machine learning techniques\n",
            "     to diagnose breast cancer from fine-needle aspirates. Cancer Letters 77 (1994) \n",
            "     163-171.\n"
          ],
          "name": "stdout"
        }
      ]
    },
    {
      "cell_type": "code",
      "metadata": {
        "id": "IjtZYYWW_Vhi",
        "colab_type": "code",
        "outputId": "dfffec8c-41f6-4023-c0aa-3131f585728f",
        "colab": {
          "base_uri": "https://localhost:8080/",
          "height": 34
        }
      },
      "source": [
        "# 회귀 분석용 실제 데이터셋으로는 보스턴 주택가격 데이터 셋\n",
        "# 범죄율, 찰스강 인접도, 고속도로 접근성 등의 정보를 이용해 1970년대 보스턴 주변의 \n",
        "# 주택 평균 가격을 예측하는 것.\n",
        "# 데이터 포인트 506개와 특성 13개\n",
        "\n",
        "from sklearn.datasets import load_boston\n",
        "boston = load_boston()\n",
        "print(\"데이터의 형태:\", boston.data.shape)\n",
        "\n",
        "# 데이터의 자세한 정보는 boston 객체의 DESCR 속성에서 더 자세한 정보를 확인 할 수 있음."
      ],
      "execution_count": 16,
      "outputs": [
        {
          "output_type": "stream",
          "text": [
            "데이터의 형태: (506, 13)\n"
          ],
          "name": "stdout"
        }
      ]
    },
    {
      "cell_type": "code",
      "metadata": {
        "id": "wjFEDoYn_wqF",
        "colab_type": "code",
        "outputId": "a4c9256e-d14a-4db1-e5a7-ca6484cd9b13",
        "colab": {
          "base_uri": "https://localhost:8080/",
          "height": 34
        }
      },
      "source": [
        "# 유도된 데이터셋은 load_extended_boston 함수를 사용하여 불러들일 수 있음.\n",
        "\n",
        "X, y = mglearn.datasets.load_extended_boston()\n",
        "print(\"X.shape:\", X.shape)"
      ],
      "execution_count": 17,
      "outputs": [
        {
          "output_type": "stream",
          "text": [
            "X.shape: (506, 104)\n"
          ],
          "name": "stdout"
        }
      ]
    },
    {
      "cell_type": "code",
      "metadata": {
        "id": "EGCvXMGGADxY",
        "colab_type": "code",
        "colab": {}
      },
      "source": [
        "# 13개의 원래 특성에 13개에서 2개씩 (중복을 포함해) 짝지은 91개의 특성을 더해 총 104개가 됩니다."
      ],
      "execution_count": 0,
      "outputs": []
    },
    {
      "cell_type": "markdown",
      "metadata": {
        "id": "YwpjdASyAvml",
        "colab_type": "text"
      },
      "source": [
        "## 2.3.2 k-최급접 이웃\n",
        "- k-NN(k-Nearest Neighbors)알고리즘은 가장 간단한 머신러닝 알고리즘, \n",
        "- 훈련 데이터셋을 그냥 저장하는 것이 모델을 만드는 과정의 전부\n",
        "- 새로운 데이터 포인트에 대해 예측할 땐 알고리즘이 훈련 데이터넷에서 가장 가까운 데이터 포인트, 즉 '최근접 이웃'을 찾습니다.\n"
      ]
    },
    {
      "cell_type": "code",
      "metadata": {
        "id": "X0FXL-cAAc5n",
        "colab_type": "code",
        "outputId": "02eca66c-f27c-4a2e-e9fa-c35bccd0faa2",
        "colab": {
          "base_uri": "https://localhost:8080/",
          "height": 323
        }
      },
      "source": [
        "# k-최근접 이웃 분류\n",
        "# 가장 간단한 k-NN 알고리즘은 가장 가까운 훈련 데이터 포인트 하나를 최근접 이웃으로 찾아 예측에 사용합니다.\n",
        "# 단순히 이 훈련 데이터 포인트의 추력이 예측 됩니다.\n",
        "\n",
        "# forge 데이터셋을 분류\n",
        "mglearn.plots.plot_knn_classification(n_neighbors=1)"
      ],
      "execution_count": 19,
      "outputs": [
        {
          "output_type": "stream",
          "text": [
            "/usr/local/lib/python3.6/dist-packages/sklearn/utils/deprecation.py:85: DeprecationWarning: Function make_blobs is deprecated; Please import make_blobs directly from scikit-learn\n",
            "  warnings.warn(msg, category=DeprecationWarning)\n"
          ],
          "name": "stderr"
        },
        {
          "output_type": "display_data",
          "data": {
            "image/png": "[encoded data removed]",
            "text/plain": [
              "<Figure size 432x288 with 1 Axes>"
            ]
          },
          "metadata": {
            "tags": []
          }
        }
      ]
    },
    {
      "cell_type": "code",
      "metadata": {
        "id": "kmI9ekc6BQIt",
        "colab_type": "code",
        "colab": {}
      },
      "source": [
        "# 이 그름에서는 데이터 포인트 3개를 추가했습니다(별 모양으로 표시)\n",
        "# 그리고 추가한 각 데이터 포인트에서 가장 가까운 훈련 데이터 포인트를 연결했습니다.\n",
        "# 1-최근접 이웃 알고리즘의 예측은 이 데이터 포인트의 레이블이 됩니다(같은 색으로 연결함)\n",
        "\n",
        "# 가장 가까운 이웃 하나가 아니라 임의의 k개를 선택할 수 있음.\n",
        "# 그래서 k-최근접 이웃 알고리즘이라 부름.\n",
        "\n",
        "# 둘 이상의 이웃을 선택할 떄는 레이블을 정하기 위해 투표를 합니다.\n",
        "# k-최근접 이웃 중 다수의 클래스가 레이블이 됩니다. "
      ],
      "execution_count": 0,
      "outputs": []
    },
    {
      "cell_type": "code",
      "metadata": {
        "id": "lbLhiXV2CFC9",
        "colab_type": "code",
        "outputId": "a2c07ec7-b39f-4536-bfcc-48bd5aa70011",
        "colab": {
          "base_uri": "https://localhost:8080/",
          "height": 323
        }
      },
      "source": [
        "# 다음은 세 개의 최근접 이웃을 사용하는 예\n",
        "\n",
        "mglearn.plots.plot_knn_classification(n_neighbors=3)"
      ],
      "execution_count": 21,
      "outputs": [
        {
          "output_type": "stream",
          "text": [
            "/usr/local/lib/python3.6/dist-packages/sklearn/utils/deprecation.py:85: DeprecationWarning: Function make_blobs is deprecated; Please import make_blobs directly from scikit-learn\n",
            "  warnings.warn(msg, category=DeprecationWarning)\n"
          ],
          "name": "stderr"
        },
        {
          "output_type": "display_data",
          "data": {
            "image/png": "[encoded data removed]",
            "text/plain": [
              "<Figure size 432x288 with 1 Axes>"
            ]
          },
          "metadata": {
            "tags": []
          }
        }
      ]
    },
    {
      "cell_type": "code",
      "metadata": {
        "id": "iKhByV6UCLGj",
        "colab_type": "code",
        "colab": {}
      },
      "source": [
        "# 여기에서도 예측은 연결된 데이터 포인트의 색으로 나탑니다."
      ],
      "execution_count": 0,
      "outputs": []
    },
    {
      "cell_type": "code",
      "metadata": {
        "id": "5pR8DPOwCbH2",
        "colab_type": "code",
        "outputId": "f2b95b19-3324-4161-d091-9688e9359f76",
        "colab": {
          "base_uri": "https://localhost:8080/",
          "height": 71
        }
      },
      "source": [
        "# 이제 scikit-learn을 사용해서 k-최근접 이웃 알고리즘을 어떻게 적용하는지 살펴보겠습니다.\n",
        "# 먼저 1장에서 한 것처럼 일반화 성능을 평가할 수 있도록 데이터를 훈련 세트와 테스트 세트로 나눕니다.\n",
        "\n",
        "from sklearn.model_selection import train_test_split\n",
        "X, y = mglearn.datasets.make_forge()\n",
        "\n",
        "X_train, X_test, y_train, y_test = train_test_split(X, y, random_state=0)"
      ],
      "execution_count": 23,
      "outputs": [
        {
          "output_type": "stream",
          "text": [
            "/usr/local/lib/python3.6/dist-packages/sklearn/utils/deprecation.py:85: DeprecationWarning: Function make_blobs is deprecated; Please import make_blobs directly from scikit-learn\n",
            "  warnings.warn(msg, category=DeprecationWarning)\n"
          ],
          "name": "stderr"
        }
      ]
    },
    {
      "cell_type": "code",
      "metadata": {
        "id": "gE1kTytVFml9",
        "colab_type": "code",
        "colab": {}
      },
      "source": [
        "# KNeighborsClassfier를 임포트하고 객체를 만듭니다.\n",
        "# 이떄 이웃의 수 같은 매개 변수들을 지정합니다. 여기서는 이웃의 수를 3으로 지정합니다.\n",
        "\n",
        "from sklearn.neighbors import KNeighborsClassifier\n",
        "clf = KNeighborsClassifier(n_neighbors=3)"
      ],
      "execution_count": 0,
      "outputs": []
    },
    {
      "cell_type": "code",
      "metadata": {
        "id": "laoMlVfsF9FQ",
        "colab_type": "code",
        "outputId": "bc84ca36-e5eb-4629-cb18-b5558d562794",
        "colab": {
          "base_uri": "https://localhost:8080/",
          "height": 68
        }
      },
      "source": [
        "# 이제 훈련 세트를 사용하여 분류 모델을 학습시킵니다.\n",
        "# KNeighborsClassifier에서의 학습은 예측할 떄 이웃을 찾을 수 있도록 데이터를 저장하는 것\n",
        "clf.fit(X_train, y_train)"
      ],
      "execution_count": 25,
      "outputs": [
        {
          "output_type": "execute_result",
          "data": {
            "text/plain": [
              "KNeighborsClassifier(algorithm='auto', leaf_size=30, metric='minkowski',\n",
              "                     metric_params=None, n_jobs=None, n_neighbors=3, p=2,\n",
              "                     weights='uniform')"
            ]
          },
          "metadata": {
            "tags": []
          },
          "execution_count": 25
        }
      ]
    },
    {
      "cell_type": "code",
      "metadata": {
        "id": "KpkOO_ZNGMib",
        "colab_type": "code",
        "outputId": "cdebad65-2e41-4233-8dda-7672ddc9bac5",
        "colab": {
          "base_uri": "https://localhost:8080/",
          "height": 34
        }
      },
      "source": [
        "# 테스트 데이터에 대해 predict 메서드를 호출해서 예측합니다.\n",
        "# 테스트 세트의 각 데이터 포인트에 대해 훈련 세트에서 가장 가까운 이웃을 계산한 다음 가장 많은 클래스를 찾습니다.\n",
        "\n",
        "print(\"테스트 세트 예측:\", clf.predict(X_test))"
      ],
      "execution_count": 26,
      "outputs": [
        {
          "output_type": "stream",
          "text": [
            "테스트 세트 예측: [1 0 1 0 1 0 0]\n"
          ],
          "name": "stdout"
        }
      ]
    },
    {
      "cell_type": "code",
      "metadata": {
        "id": "rPGlQ4NNGdfo",
        "colab_type": "code",
        "outputId": "e0d85f60-b885-40f9-fefe-ee995f23a896",
        "colab": {
          "base_uri": "https://localhost:8080/",
          "height": 34
        }
      },
      "source": [
        "# 모델이 얼마나 잘 일반화 되었는지 평가하기 위해 score 메서드에 테스트 데이터와 테스트 레이블을 넣어 호출\n",
        "\n",
        "print(\"테스트 세트 정확도: {:.2f}\".format(clf.score(X_test,y_test)))"
      ],
      "execution_count": 27,
      "outputs": [
        {
          "output_type": "stream",
          "text": [
            "테스트 세트 정확도: 0.86\n"
          ],
          "name": "stdout"
        }
      ]
    },
    {
      "cell_type": "code",
      "metadata": {
        "id": "Y-rG5yuqGvcl",
        "colab_type": "code",
        "colab": {}
      },
      "source": [
        "# 이 모델의 정확도는 86%로 나옴.\n",
        "# 즉, 모델이 테스트 데이터셋에 있는 샘플 중 86%를 정확히 예측"
      ],
      "execution_count": 0,
      "outputs": []
    },
    {
      "cell_type": "markdown",
      "metadata": {
        "id": "z79iWxovG4CQ",
        "colab_type": "text"
      },
      "source": [
        "## KNeighborsClassifier 분석"
      ]
    },
    {
      "cell_type": "code",
      "metadata": {
        "id": "tB9eue0DG2nZ",
        "colab_type": "code",
        "outputId": "409a29e7-daa9-4146-a14b-6f058d094c29",
        "colab": {
          "base_uri": "https://localhost:8080/",
          "height": 241
        }
      },
      "source": [
        "# 다음코드는 이웃이 하나, 셋, 아홉 개일 떄의 결정 경계를 보여줌\n",
        "fig, axes = plt.subplots(1,3,figsize=(10,3))\n",
        "\n",
        "for n_neighbors, ax in zip([1, 3, 9], axes):\n",
        "  # fit 메소드는 self 오프젝트를 리턴합니다.\n",
        "  # 그래서 객체 생성과 fit 메소드를 한 줄에 쓸 수 있습니다.\n",
        "  \n",
        "  clf = KNeighborsClassifier(n_neighbors=n_neighbors).fit(X,y)\n",
        "  mglearn.plots.plot_2d_separator(clf, X, fill=True, eps=0.5, ax=ax, alpha=.4)\n",
        "  mglearn.discrete_scatter(X[:,0], X[:,1], y, ax=ax)\n",
        "  ax.set_title(\"{} 이웃\".format(n_neighbors))\n",
        "  ax.set_xlabel(\"특성 0\")\n",
        "  ax.set_ylabel(\"특성 1\")\n",
        "axes[0].legend(loc=3)\n"
      ],
      "execution_count": 29,
      "outputs": [
        {
          "output_type": "execute_result",
          "data": {
            "text/plain": [
              "<matplotlib.legend.Legend at 0x7f5d82f3c780>"
            ]
          },
          "metadata": {
            "tags": []
          },
          "execution_count": 29
        },
        {
          "output_type": "display_data",
          "data": {
            "image/png": "[encoded data removed]",
            "text/plain": [
              "<Figure size 720x216 with 3 Axes>"
            ]
          },
          "metadata": {
            "tags": []
          }
        }
      ]
    },
    {
      "cell_type": "code",
      "metadata": {
        "id": "DGPLhFLBH_VG",
        "colab_type": "code",
        "colab": {}
      },
      "source": [
        "# n_neighbors 값이 각기 다른 최근접 이웃 모델이 만든 결정 경계\n",
        "\n",
        "# 하나선택: 결정 경계가 훈련 데이터 가깝게 따라감\n",
        "# 이웃의 수를 늘릴수록 결정 경계는 더 부드러워짐 -> 부드러운 경계는 더 단순한 모델을 의미\n",
        "# 이웃을 적게 사용하면 모델의 복잡도가 높아지고, 많이 사용하면 복잡도는 낮아짐."
      ],
      "execution_count": 0,
      "outputs": []
    },
    {
      "cell_type": "markdown",
      "metadata": {
        "id": "IN5Q-aFXI5WP",
        "colab_type": "text"
      },
      "source": [
        "### 모델의 복잡도와 일반화 사이의 관계를 입증\n",
        "- 유방암 데이터셋을 사용\n",
        "- 훈련 세트, 테스트 세트로 나눈 후 이웃의 수를 달리 하여 훈련 세트와 테스트 세트의 성능을 평가"
      ]
    },
    {
      "cell_type": "code",
      "metadata": {
        "id": "p50VZauXI3yk",
        "colab_type": "code",
        "outputId": "f8d850cf-acbf-430d-c864-1a14b39bf4fd",
        "colab": {
          "base_uri": "https://localhost:8080/",
          "height": 300
        }
      },
      "source": [
        "from sklearn.datasets import load_breast_cancer\n",
        "\n",
        "cancer = load_breast_cancer()\n",
        "X_train, X_test, y_train, y_test = train_test_split(\n",
        "  cancer.data, cancer.target, stratify=cancer.target, random_state=66)\n",
        "\n",
        "training_accuracy = []\n",
        "test_accuracy = []\n",
        "\n",
        "# 1에서 10까지 n_neightbors를 적용\n",
        "neighbors_settings = range(1, 11)\n",
        "\n",
        "for n_neighbors in neighbors_settings:\n",
        "  # 모델 생성\n",
        "  clf = KNeighborsClassifier(n_neighbors=n_neighbors)\n",
        "  clf.fit(X_train, y_train)\n",
        "  \n",
        "  # 훈련 세트 정확도 저장\n",
        "  training_accuracy.append(clf.score(X_train, y_train))\n",
        "  \n",
        "  # 일반화 정확도 저장\n",
        "  test_accuracy.append(clf.score(X_test, y_test))\n",
        "  \n",
        "  \n",
        "plt.plot(neighbors_settings, training_accuracy, label=\"훈련 정확도\")\n",
        "plt.plot(neighbors_settings, test_accuracy, label=\"테스트 정확도\")\n",
        "plt.ylabel(\"정확도\")\n",
        "plt.xlabel(\"n_neighbors\")\n",
        "plt.legend()\n"
      ],
      "execution_count": 31,
      "outputs": [
        {
          "output_type": "execute_result",
          "data": {
            "text/plain": [
              "<matplotlib.legend.Legend at 0x7f5d80c81e80>"
            ]
          },
          "metadata": {
            "tags": []
          },
          "execution_count": 31
        },
        {
          "output_type": "display_data",
          "data": {
            "image/png": "[encoded data removed]",
            "text/plain": [
              "<Figure size 432x288 with 1 Axes>"
            ]
          },
          "metadata": {
            "tags": []
          }
        }
      ]
    },
    {
      "cell_type": "code",
      "metadata": {
        "id": "p3SOOiuUJKVY",
        "colab_type": "code",
        "colab": {}
      },
      "source": [
        "# 정확도가 가장 좋을 떄는 중간 정도인 6개를 사용한 경우"
      ],
      "execution_count": 0,
      "outputs": []
    },
    {
      "cell_type": "markdown",
      "metadata": {
        "id": "Xa_10KMiK5W_",
        "colab_type": "text"
      },
      "source": [
        "### k-최근접 이웃 회귀\n",
        "- k-최근접 이웃 알고리즘은 회귀 분석에도 씀.\n",
        "- wave 데이터셋을 이용해서 이웃이 하나인 최근접 이웃을 사용\n",
        "- x 축에 세 개의 테스트 데이터를 흐린 별 모양으로 표시\n",
        "- 최근접 이웃을 한 개만 이용할 때 예측은 그냥 가장 가까운 이웃의 타깃값\n",
        "- 이 예측은 진한 별 모양으로 표시"
      ]
    },
    {
      "cell_type": "code",
      "metadata": {
        "id": "EoZTiutOK4xX",
        "colab_type": "code",
        "outputId": "646cb41e-f837-487e-eb56-840bd92ce5cf",
        "colab": {
          "base_uri": "https://localhost:8080/",
          "height": 415
        }
      },
      "source": [
        "# wave 데이터셋에 대한 1-최근접 이웃 회귀 모델의 예측\n",
        "\n",
        "mglearn.plots.plot_knn_regression(n_neighbors=1)"
      ],
      "execution_count": 33,
      "outputs": [
        {
          "output_type": "display_data",
          "data": {
            "image/png": "[encoded data removed]",
            "text/plain": [
              "<Figure size 720x432 with 1 Axes>"
            ]
          },
          "metadata": {
            "tags": []
          }
        }
      ]
    },
    {
      "cell_type": "code",
      "metadata": {
        "id": "AjOxWb95Lctc",
        "colab_type": "code",
        "outputId": "e0b1f882-29ae-4111-9d8a-c54f6d8ca045",
        "colab": {
          "base_uri": "https://localhost:8080/",
          "height": 415
        }
      },
      "source": [
        "# 이웃을 둘 이상 사용하여 회귀 분석을 할 수 있음.\n",
        "# 여러 개의 최근접 이웃을 사용할 땐 이웃 간의 평균이 예측\n",
        "\n",
        "# wave 데이터셋에 대한 3-최근접 이웃 회귀 모델의 예측\n",
        "mglearn.plots.plot_knn_regression(n_neighbors=3)"
      ],
      "execution_count": 34,
      "outputs": [
        {
          "output_type": "display_data",
          "data": {
            "image/png": "[encoded data removed]",
            "text/plain": [
              "<Figure size 720x432 with 1 Axes>"
            ]
          },
          "metadata": {
            "tags": []
          }
        }
      ]
    },
    {
      "cell_type": "code",
      "metadata": {
        "id": "bgT4-aYRL6UW",
        "colab_type": "code",
        "outputId": "a696f5ad-8b11-4c8e-b41f-b83d32d78881",
        "colab": {
          "base_uri": "https://localhost:8080/",
          "height": 68
        }
      },
      "source": [
        "# scikit-learn에서 회귀를 위한 k-최근접 이웃 알고리즘은 KNeighborsRegressor에 구현 되어 있습니다.\n",
        "# 사용법은 KNeighborsClassifier와 비슷\n",
        "\n",
        "from sklearn.neighbors import KNeighborsRegressor\n",
        "\n",
        "X, y = mglearn.datasets.make_wave(n_samples=40)\n",
        "\n",
        "# wave 데이터셋을 훈련 세트와 테스트 세트로 나눕니다\n",
        "X_train, X_test, y_train, y_test = train_test_split(X, y, random_state=0)\n",
        "\n",
        "# 이웃의 수를 3으로 하여 모델의 객체를 만듭니다\n",
        "reg = KNeighborsRegressor(n_neighbors=3)\n",
        "\n",
        "# 훈련 데이터와 타깃을 사용하여 모델을 학습시킵니다\n",
        "reg.fit(X_train, y_train)"
      ],
      "execution_count": 35,
      "outputs": [
        {
          "output_type": "execute_result",
          "data": {
            "text/plain": [
              "KNeighborsRegressor(algorithm='auto', leaf_size=30, metric='minkowski',\n",
              "                    metric_params=None, n_jobs=None, n_neighbors=3, p=2,\n",
              "                    weights='uniform')"
            ]
          },
          "metadata": {
            "tags": []
          },
          "execution_count": 35
        }
      ]
    },
    {
      "cell_type": "code",
      "metadata": {
        "id": "Uzbd-6_jMwRP",
        "colab_type": "code",
        "outputId": "2ba20e29-ddee-4475-da48-681129b3a015",
        "colab": {
          "base_uri": "https://localhost:8080/",
          "height": 68
        }
      },
      "source": [
        "# 그리고 테스트 세트에 대해 예측을 합니다.\n",
        "\n",
        "print(\"테스트 세트 예측:\\n\", reg.predict(X_test))"
      ],
      "execution_count": 36,
      "outputs": [
        {
          "output_type": "stream",
          "text": [
            "테스트 세트 예측:\n",
            " [-0.05396539  0.35686046  1.13671923 -1.89415682 -1.13881398 -1.63113382\n",
            "  0.35686046  0.91241374 -0.44680446 -1.13881398]\n"
          ],
          "name": "stdout"
        }
      ]
    },
    {
      "cell_type": "code",
      "metadata": {
        "id": "w2YMe3bVM22H",
        "colab_type": "code",
        "outputId": "f373b363-927e-49d4-dd7c-d6fc32d4eff5",
        "colab": {
          "base_uri": "https://localhost:8080/",
          "height": 34
        }
      },
      "source": [
        "# 역시 score 메서드를 사용해 모델을 평가할 수 있습니다.\n",
        "# 이 메서드는 회귀일 떈 R^2 값을 반환합니다. \n",
        "# 결정 계수라고 하는 R^2 같은 회귀 모델에서 예측의 접합도를 측정한으로 보통 0과 1사이의 값\n",
        "# 1은 예측이 완벽한 경우이고, 0은 훈련 세트의 출력값이 y_train의 평균으로만 예측하는 모델의 경우 입니다.\n",
        "# R^2은 음수가 될 소 도 있습니다. 이 떄는 예측과 타깃이 상반된 경향을 가지는 경우\n",
        "\n",
        "print(\"테스트 세트 R^2: {:.2f}\".format(reg.score(X_test, y_test)))\n"
      ],
      "execution_count": 37,
      "outputs": [
        {
          "output_type": "stream",
          "text": [
            "테스트 세트 R^2: 0.83\n"
          ],
          "name": "stdout"
        }
      ]
    },
    {
      "cell_type": "code",
      "metadata": {
        "id": "FUV3vMXFNugX",
        "colab_type": "code",
        "colab": {}
      },
      "source": [
        "# 우리가 얻은 점수는 0.83이라 모델이 비교적 잘 들어 맞음.\n"
      ],
      "execution_count": 0,
      "outputs": []
    },
    {
      "cell_type": "markdown",
      "metadata": {
        "id": "wvVKdLE-N2MQ",
        "colab_type": "text"
      },
      "source": [
        "### KNeighborsRegressor 분석\n",
        "- 1차원 데이터셋에 대해 가능한 모든 특성 값을 만들어 예측해볼 수 있음.\n",
        "- 이를 위해 x 축을 따라 많은 포인트를 생성해 테스트 데이터셋을 만듬."
      ]
    },
    {
      "cell_type": "code",
      "metadata": {
        "id": "PmfxyPWyOD1T",
        "colab_type": "code",
        "outputId": "63d988fe-a12d-4a2d-9d9d-2e4b062c5531",
        "colab": {
          "base_uri": "https://localhost:8080/",
          "height": 332
        }
      },
      "source": [
        "fig, axes = plt.subplots(1,3, figsize=(15,4))\n",
        "\n",
        "# -3과 3 사이에 1,000개의 데이터 포인트를 만듭니다\n",
        "\n",
        "line = np.linspace(-3, 3, 1000).reshape(-1, 1)\n",
        "for n_neighbors, ax in zip([1,3,9], axes):\n",
        "  \n",
        "  # 1, 3, 9 이웃을 사용한 예측을 합니다.\n",
        "  reg = KNeighborsRegressor(n_neighbors=n_neighbors)\n",
        "  reg.fit(X_train, y_train)\n",
        "  ax.plot(line, reg.predict(line))\n",
        "#   ax.plot(X_train, y_train, '^', c=mglearn.cm2(0), marketsize=8)\n",
        "  ax.plot(X_train, y_train, '^', c=mglearn.cm2(0), markersize=8)\n",
        "  ax.plot(X_test, y_test, 'v', c=mglearn.cm2(1), markersize=8)\n",
        "  \n",
        "  ax.set_title(\n",
        "    \"{} 이웃의 훈련 스코어: {:.2f} 테스트 스코어: {:.2f}\".format(\n",
        "      n_neighbors, reg.score(X_train, y_train),\n",
        "      reg.score(X_test, y_test)))\n",
        "  ax.set_xlabel(\"특성\")\n",
        "  ax.set_ylabel(\"타깃\")\n",
        "axes[0].legend([\"모델예측\", \"훈련 데이터/타깃\",\n",
        "                \"테스트 데이터/타깃\"], loc=\"best\")"
      ],
      "execution_count": 38,
      "outputs": [
        {
          "output_type": "execute_result",
          "data": {
            "text/plain": [
              "<matplotlib.legend.Legend at 0x7f5d80b905c0>"
            ]
          },
          "metadata": {
            "tags": []
          },
          "execution_count": 38
        },
        {
          "output_type": "display_data",
          "data": {
            "image/png": "[encoded data removed]",
            "text/plain": [
              "<Figure size 1080x288 with 3 Axes>"
            ]
          },
          "metadata": {
            "tags": []
          }
        }
      ]
    },
    {
      "cell_type": "code",
      "metadata": {
        "id": "DfYwilx_PQFV",
        "colab_type": "code",
        "colab": {}
      },
      "source": [
        "# n_neighbors 값에 따라 최근접 이웃 회귀로 만들어진 예측 비교\n",
        "\n",
        "# 이웃을 하나만 사용할 떄는 훈련 세트의 각 데이터 포인트가 예측에 주는 영향이 커서 예측값이\n",
        "# 훈련 데이터 포인트를 모두 지나갑니다."
      ],
      "execution_count": 0,
      "outputs": []
    },
    {
      "cell_type": "markdown",
      "metadata": {
        "id": "BhX11H9aRJs4",
        "colab_type": "text"
      },
      "source": [
        "## 장단점과 매개변수\n",
        "- KNeighbors 분류기에 중요한 매개변수는 두 개. 거리를 쟤는 방법과 이웃의 수\n",
        "- 실제로 이웃의 수는 3개나 5개 정도로 적을 떄 잘 작동하지만, 이 매개변수는 잘 조정해야 함.\n",
        "- 기본적으로 유클리디안 거릴 방식을 사용해서 거리를 잼\n",
        "\n",
        "- 장점\n",
        "1. k-NN은 이해하기 매우 쉬운 모델, 많이 조정하지 않아도 자주 좋은 성능을 발휘\n",
        "2. 더 복잡한 알고리즘을 적용해보기 전에 시도해볼 수 있는 좋은 시작점.\n",
        "\n",
        "- 단점\n",
        "1. 훈련 세트가 매우 크면(특성의 수나 샘플의 수가 클 경우) 예측이 느려짐.\n",
        "2. 수백 개 이상의 많은 특성을 가진 데이터셋에는 잘 동작하지 않으며, 특성 값 대부분이 0인(희소한) 데이터셋과는 특히 잘 작동하지 않음.\n",
        "\n",
        "- k-NN 알고리즘을 사용할 떈 데이터를 전처리하는 과정이 중요.\n",
        "\n",
        "- 요약: k-최근접 이웃 알고리즘이 이해하긴 쉽지만, 예측이 느리고 많은 특성을 처리하는 능력이 부족해 현업에서는 잘 쓰지 않음. 이런 단점이 없는 알고리즘이 다음에 설명할 선형 모델"
      ]
    },
    {
      "cell_type": "markdown",
      "metadata": {
        "id": "OuepsWT1SJC7",
        "colab_type": "text"
      },
      "source": [
        "## 2.3.3 선형 모델\n",
        "- 100여 년 전에 개발, 현재도 널리 쓰임\n",
        "- 입력 특성에 대한 `선형 함수`를 만들어 예측을 수행"
      ]
    },
    {
      "cell_type": "code",
      "metadata": {
        "id": "rj3p7WmrSIlv",
        "colab_type": "code",
        "outputId": "754ae975-d88b-4cf8-ca40-595c18795d09",
        "colab": {
          "base_uri": "https://localhost:8080/",
          "height": 464
        }
      },
      "source": [
        "# 1차원 wave 데이터셋으로 학습\n",
        "\n",
        "mglearn.plots.plot_linear_regression_wave()\n",
        "\n",
        "# wave 데이터셋에 대한 선형 모델의 예측"
      ],
      "execution_count": 40,
      "outputs": [
        {
          "output_type": "stream",
          "text": [
            "w[0]: 0.393906  b: -0.031804\n"
          ],
          "name": "stdout"
        },
        {
          "output_type": "display_data",
          "data": {
            "image/png": "[encoded data removed]",
            "text/plain": [
              "<Figure size 576x576 with 1 Axes>"
            ]
          },
          "metadata": {
            "tags": []
          }
        }
      ]
    },
    {
      "cell_type": "code",
      "metadata": {
        "id": "ZhF7O1ZhUqU9",
        "colab_type": "code",
        "colab": {}
      },
      "source": [
        "# 기울기는 대략 0.4\n",
        "# 특성 1개: 직선 / 2개: 평면 / 더 높은 차원: 초평면"
      ],
      "execution_count": 0,
      "outputs": []
    },
    {
      "cell_type": "markdown",
      "metadata": {
        "id": "bapGX0mhVG5s",
        "colab_type": "text"
      },
      "source": [
        "## 선형 회귀(최소제곱법)\n",
        "- 선형 회귀는 예측과 훈련 세트에 있는 타깃y 사이의 `평균제곱오차`를 최소화하는 파라미터 w와 b를 찾습니다.\n",
        "- 평균제곱오차는 예측값과 타깃값의 차이를 제곱하여 더한 후에 샘플의 개수로 나눈 것.\n",
        "- 선형 회귀는 매개변수가 없는 것이 장점이지만, 그래서 모델의 복잡도를 제어할 방법도 없습니다."
      ]
    },
    {
      "cell_type": "code",
      "metadata": {
        "id": "hA6QT_JQVGk5",
        "colab_type": "code",
        "colab": {}
      },
      "source": [
        "# 선형 모델을 만드는 코드\n",
        "\n",
        "from sklearn.linear_model import LinearRegression\n",
        "\n",
        "X, y = mglearn.datasets.make_wave(n_samples=60)\n",
        "X_train, X_test, y_train, y_test = train_test_split(X, y, random_state=42)\n",
        "\n",
        "lr = LinearRegression().fit(X_train, y_train)"
      ],
      "execution_count": 0,
      "outputs": []
    },
    {
      "cell_type": "code",
      "metadata": {
        "id": "7FefIPkBWahG",
        "colab_type": "code",
        "outputId": "6374a8b0-3979-4818-eef4-48789d4089f8",
        "colab": {
          "base_uri": "https://localhost:8080/",
          "height": 51
        }
      },
      "source": [
        "# 기울기 파라미터(w)는 가중치 또는 계수\n",
        "# lr 객체의 coef_속성에 저장되어 있고 편향 또는 절편 파라미터(b)는 intercept_ 속성에 저장되어 있음.\n",
        "\n",
        "print(\"lr.coef:\", lr.coef_)\n",
        "print(\"lr.intercept_:\", lr.intercept_)"
      ],
      "execution_count": 43,
      "outputs": [
        {
          "output_type": "stream",
          "text": [
            "lr.coef: [0.39390555]\n",
            "lr.intercept_: -0.031804343026759746\n"
          ],
          "name": "stdout"
        }
      ]
    },
    {
      "cell_type": "code",
      "metadata": {
        "id": "jUp9HgfnWwwd",
        "colab_type": "code",
        "colab": {}
      },
      "source": [
        "# NOTE: scikit-learn은 훈련 데이터에서 유도된 속성은 항상 끝에 밑줄을 붙임. \n",
        "# 사용자가 지정한 매개변수와 구분하기 위해"
      ],
      "execution_count": 0,
      "outputs": []
    },
    {
      "cell_type": "code",
      "metadata": {
        "id": "YW4mNkD8XALD",
        "colab_type": "code",
        "outputId": "32616c3f-32bd-4ebc-ae08-0fe5872f43c2",
        "colab": {
          "base_uri": "https://localhost:8080/",
          "height": 51
        }
      },
      "source": [
        "# 훈련 세트와 테스트 세트의 성능을 확인\n",
        "\n",
        "print(\"훈련 세트 점수: {:.2f}\".format(lr.score(X_train, y_train)))\n",
        "print(\"테스트 세트 점수: {:.2f}\".format(lr.score(X_test, y_test)))\n"
      ],
      "execution_count": 45,
      "outputs": [
        {
          "output_type": "stream",
          "text": [
            "훈련 세트 점수: 0.67\n",
            "테스트 세트 점수: 0.66\n"
          ],
          "name": "stdout"
        }
      ]
    },
    {
      "cell_type": "code",
      "metadata": {
        "id": "9C1HAgg1XPRD",
        "colab_type": "code",
        "colab": {}
      },
      "source": [
        "# R^2 값이 0.66인 것은 좋은 결과는 아님\n",
        "# 하지만 훈련 세트와 테스트 세틔 점수가 매우 비슷함 -> 이는 과대적합이 아니라 과소적합인 상태"
      ],
      "execution_count": 0,
      "outputs": []
    },
    {
      "cell_type": "code",
      "metadata": {
        "id": "_Q6aXGinXfLd",
        "colab_type": "code",
        "colab": {}
      },
      "source": [
        "# LinearRegression 모델이 보스턴 주택가격 데이터셋 같은 복잡한 데이터셋에서\n",
        "# 어떻게 동작하는지 살펴보겠음.\n",
        "\n",
        "# 이 데이터셋에서는 샘플이 506개, 특성은 유도된 것을 합쳐 104개"
      ],
      "execution_count": 0,
      "outputs": []
    },
    {
      "cell_type": "code",
      "metadata": {
        "id": "JSsuxn_lXqjZ",
        "colab_type": "code",
        "colab": {}
      },
      "source": [
        "# 데이터셋을 읽어 들이고 훈련 세트와 테스트 세트로 나눔\n",
        "\n",
        "X, y = mglearn.datasets.load_extended_boston()\n",
        "\n",
        "X_train, X_test, y_train, y_test = train_test_split(X, y, random_state=0)\n",
        "lr = LinearRegression().fit(X_train, y_train)"
      ],
      "execution_count": 0,
      "outputs": []
    },
    {
      "cell_type": "code",
      "metadata": {
        "id": "eKmf4kkMXy27",
        "colab_type": "code",
        "outputId": "a63165f7-adb8-4c9e-d31f-9f8418bcbebc",
        "colab": {
          "base_uri": "https://localhost:8080/",
          "height": 51
        }
      },
      "source": [
        "print(\"훈련 세트 점수: {:.2f}\".format(lr.score(X_train, y_train)))\n",
        "print(\"테스트 세트 점수: {:.2f}\".format(lr.score(X_test, y_test)))\n"
      ],
      "execution_count": 49,
      "outputs": [
        {
          "output_type": "stream",
          "text": [
            "훈련 세트 점수: 0.95\n",
            "테스트 세트 점수: 0.61\n"
          ],
          "name": "stdout"
        }
      ]
    },
    {
      "cell_type": "code",
      "metadata": {
        "id": "uMmIDEF8YKX_",
        "colab_type": "code",
        "colab": {}
      },
      "source": [
        "# 훈련 데이터와 테스트 데이터 사이의이런 성능 차이는 모델이 과대적합되었다는 확실한 신호\n",
        "# 복잡도를 제어할 수 있는 모델을 사용해야 합니다.\n",
        "# 기본 선형 회귀 방식 대신 가장 널리 쓰이는 모델은 다음에 볼 리지 회귀"
      ],
      "execution_count": 0,
      "outputs": []
    },
    {
      "cell_type": "markdown",
      "metadata": {
        "id": "UR70PnZgYas6",
        "colab_type": "text"
      },
      "source": [
        "## 리지(Ridge) 회귀\n",
        "- 리지(Ridge)도 회귀를 위한 선형 모델이므로 최소적합법에서 사용한 것과 같은 예측 함수를 사용.\n",
        "- 하지만 리지 회귀에서의 가중치(w)선택은 훈련 데이터를 잘 예측하기 위해서 뿐만 아니라 추가 제약 조건을 만족시키기 위한 목적도 있음.\n",
        "- 가중치의 절댓값을 가능한 한 작게 만드는 것.\n",
        "- w의 모든 원소가 0에 가깝게 되길 원함.\n",
        "- 모든 특성이 출력에 주는 영향을 최소한으로 만듭니다(기울기를 작게 만듭니다)\n",
        "- 이런 제약을 `규제`라고 함. \n",
        "- 규제란 과대적합이 되지 않도록 모델을 강제로 제한 한다는 의미\n",
        "- 리지 회귀에 사용하는 규제 방식을 L2 규제"
      ]
    },
    {
      "cell_type": "code",
      "metadata": {
        "id": "fY6M74eBYZ8r",
        "colab_type": "code",
        "outputId": "5baf6a4e-9f8b-4e8b-9635-1b46bb2b8ace",
        "colab": {
          "base_uri": "https://localhost:8080/",
          "height": 51
        }
      },
      "source": [
        "# 리지 회귀가 확장된 보스턴 주택가격 데이터셋에 어떻게 적용되는지 살펴보겠음.\n",
        "\n",
        "from sklearn.linear_model import Ridge\n",
        "\n",
        "ridge = Ridge().fit(X_train, y_train)\n",
        "print(\"훈련 세트 점수: {:.2f}\".format(ridge.score(X_train, y_train)))\n",
        "print(\"테스트 세트 점수: {:.2f}\".format(ridge.score(X_test, y_test)))"
      ],
      "execution_count": 51,
      "outputs": [
        {
          "output_type": "stream",
          "text": [
            "훈련 세트 점수: 0.89\n",
            "테스트 세트 점수: 0.75\n"
          ],
          "name": "stdout"
        }
      ]
    },
    {
      "cell_type": "code",
      "metadata": {
        "id": "B4sTRsCjZgpi",
        "colab_type": "code",
        "colab": {}
      },
      "source": [
        "# 결과를 보니 훈련 세트에서의 점수는 LinearRegression보다 낮지만 테스트 세트에 대한 점수는 더 높습니다.\n",
        "# 기대한 대로 입니다.\n",
        "\n",
        "# 선형회귀는 이 데이터셋에 과대적합되지만 Ridge는 덜 자유로운 모델이기 때문에 과대적합이 적어짐.\n",
        "# 관심있는 것은 테스트 세트에 대한 성능이기 떄문에 LinearRegression보다 Ridge 모델을 선택해야 합니다.\n",
        "# 사용자는 alpha 매개변수로 훈련 세트의 성능 대비 모델을 얼마나 단순화할지를 지정할 수 있습니다.\n",
        "# 앞의 예제에서는 매개변수의 기본값인 alpha=1.0을 사용했습니다."
      ],
      "execution_count": 0,
      "outputs": []
    },
    {
      "cell_type": "code",
      "metadata": {
        "id": "-ITd__7raOgC",
        "colab_type": "code",
        "outputId": "7af68cb6-ae0f-444a-e039-968d75f5bdb2",
        "colab": {
          "base_uri": "https://localhost:8080/",
          "height": 51
        }
      },
      "source": [
        "# 리지 회귀 alpha값 10\n",
        "\n",
        "ridge10 = Ridge(alpha=10).fit(X_train, y_train)\n",
        "print(\"훈련 세트 점수: {:.2f}\".format(ridge10.score(X_train, y_train)))\n",
        "print(\"테스트 세트 점수: {:.2f}\".format(ridge10.score(X_test, y_test)))"
      ],
      "execution_count": 53,
      "outputs": [
        {
          "output_type": "stream",
          "text": [
            "훈련 세트 점수: 0.79\n",
            "테스트 세트 점수: 0.64\n"
          ],
          "name": "stdout"
        }
      ]
    },
    {
      "cell_type": "code",
      "metadata": {
        "id": "mXku-1kSagCf",
        "colab_type": "code",
        "colab": {}
      },
      "source": [
        "# alpha 값을 줄이면 계수에 대한 제약이 줄으면서 점수가 바뀜\n",
        "# 아주 작은 alpha 값은 계수(alpha=0.00001)를 거의 제한하지 않으므로 LinearRegression으로 만든 모델과 거의 같아짐."
      ],
      "execution_count": 0,
      "outputs": []
    },
    {
      "cell_type": "code",
      "metadata": {
        "id": "w3PL3KlSbbjk",
        "colab_type": "code",
        "outputId": "5fd69303-5775-4088-f680-3c3f6ecffb23",
        "colab": {
          "base_uri": "https://localhost:8080/",
          "height": 51
        }
      },
      "source": [
        "# 리지 회귀 alpha값 0.1\n",
        "\n",
        "ridge01 = Ridge(alpha=0.1).fit(X_train, y_train)\n",
        "print(\"훈련 세트 점수: {:.2f}\".format(ridge01.score(X_train, y_train)))\n",
        "print(\"테스트 세트 점수: {:.2f}\".format(ridge01.score(X_test, y_test)))"
      ],
      "execution_count": 55,
      "outputs": [
        {
          "output_type": "stream",
          "text": [
            "훈련 세트 점수: 0.93\n",
            "테스트 세트 점수: 0.77\n"
          ],
          "name": "stdout"
        }
      ]
    },
    {
      "cell_type": "code",
      "metadata": {
        "id": "yWwfKtaMbfDI",
        "colab_type": "code",
        "outputId": "86a0a99e-9c27-4362-c6dd-f069eb2a4cff",
        "colab": {
          "base_uri": "https://localhost:8080/",
          "height": 300
        }
      },
      "source": [
        "# 이 코드에서는 alpha=0.1이 꽤 좋은 성능을 낸것 같음.\n",
        "\n",
        "# 높은 alpha 값은 제약이 더 많은 모델이므로 작은 alpha 값일 때 보다 coef_의 절댓값 크기가 작을 것 이라고 예상\n",
        "\n",
        "plt.plot(ridge10.coef_, '^', label=\"Ridge alpha=10\")\n",
        "plt.plot(ridge.coef_, 's', label=\"Ridge alpha=1\")\n",
        "plt.plot(ridge01.coef_, 'v', label=\"Ridge alpha=0.1\")\n",
        "\n",
        "plt.plot(lr.coef_, 'o', label=\"LinearRegression\")\n",
        "plt.xlabel(\"계수 목록\")\n",
        "plt.ylabel(\"계수 크기\")\n",
        "xlims = plt.xlim()\n",
        "plt.hlines(0, xlims[0], xlims[1])\n",
        "plt.ylim(-25, 25)\n",
        "plt.legend()\n",
        "\n",
        "# 선형 회귀와 몇 가지 alpha 값을 가진 리지 회귀의 계수 크기 비교"
      ],
      "execution_count": 56,
      "outputs": [
        {
          "output_type": "execute_result",
          "data": {
            "text/plain": [
              "<matplotlib.legend.Legend at 0x7f5d80a84898>"
            ]
          },
          "metadata": {
            "tags": []
          },
          "execution_count": 56
        },
        {
          "output_type": "display_data",
          "data": {
            "image/png": "[encoded data removed]",
            "text/plain": [
              "<Figure size 432x288 with 1 Axes>"
            ]
          },
          "metadata": {
            "tags": []
          }
        }
      ]
    },
    {
      "cell_type": "code",
      "metadata": {
        "id": "jX9hHg7XfqEO",
        "colab_type": "code",
        "colab": {}
      },
      "source": [
        "# x 축은 coef_의 원소를 위치대로 나열\n",
        "# y 축은 각 계수의 수치를 나타냄."
      ],
      "execution_count": 0,
      "outputs": []
    },
    {
      "cell_type": "code",
      "metadata": {
        "id": "Idhsfk8fgUR3",
        "colab_type": "code",
        "outputId": "a2f68cab-1cb1-4739-bcf9-bdc9ea0c754f",
        "colab": {
          "base_uri": "https://localhost:8080/",
          "height": 326
        }
      },
      "source": [
        "# 규제를 이해하는 방법은 alpha 값을 고정하고 훈련 데이터의 크기를 변화시켜 보는 것\n",
        "# 보스턴 주택가격 데이터셋에서 여러 가지로 크기로 샘플링하여 \n",
        "# LinearRegression과 Ridge(alpha=1)을 적용한 것\n",
        "# 데이터셋의 크그에 따른 모델의 성능 변화를 나타낸 그래프를 학습 곡선\n",
        "\n",
        "mglearn.plots.plot_ridge_n_samples()"
      ],
      "execution_count": 58,
      "outputs": [
        {
          "output_type": "display_data",
          "data": {
            "image/png": "[encoded data removed]",
            "text/plain": [
              "<Figure size 432x288 with 1 Axes>"
            ]
          },
          "metadata": {
            "tags": []
          }
        }
      ]
    },
    {
      "cell_type": "code",
      "metadata": {
        "id": "XJ1PUKRvg2LK",
        "colab_type": "code",
        "colab": {}
      },
      "source": [
        "# 예상대로 모든 데이터셋에 대해 리지와 선형 회귀 모두 훈련 세트의 점수가 테스트 세트의 점수보다 높음.\n",
        "# 여기서 배울 수 있는 것은 데이터를 충분히 주면 규제 항은 덜 중요해져서 리지 회귀와 선형 회귀의 성능이 같아질 것.\n",
        "# 또 하나의 흥미로운 점, 선형 회귀의 훈련 데이터 성능이 감소한다는 것. \n",
        "# 이는 데이터가 많아 질수록 모델이 데이터를 기억하거나 과대적합하기 어려워지기 떄문"
      ],
      "execution_count": 0,
      "outputs": []
    },
    {
      "cell_type": "markdown",
      "metadata": {
        "id": "HhjozO3UhsWy",
        "colab_type": "text"
      },
      "source": [
        "### 라쏘(Lasso)\n",
        "- 선형회귀에 규제를 적용하는 데 Ridge의 대안으로 Lasso가 있음.\n",
        "- 라쏘도 리지 회귀에서와 같이 계수를 0에 가깝게 만들려고 함.\n",
        "- 하지만, 방식이 조금 다르며 이를 L1 규제라고 함.\n",
        "- L1 규제의 결과로 라쏘를 사용할 떄 어떤 계수는 정말 0이 됩니다.\n",
        "- 이말은 모델에서 완전히 제외되는 특성이 생긴다.\n",
        "- 어떻게 보면 특성 선택이 자동으로 이뤄진다고 볼 수 있음."
      ]
    },
    {
      "cell_type": "code",
      "metadata": {
        "id": "d2V-0xs_hr0v",
        "colab_type": "code",
        "outputId": "92367614-16cc-40e7-a875-55b1f6e2d610",
        "colab": {
          "base_uri": "https://localhost:8080/",
          "height": 68
        }
      },
      "source": [
        "# 확장된 보스턴 주택가격 데이터셋에 라쏘를 적용\n",
        "\n",
        "from sklearn.linear_model import Lasso\n",
        "\n",
        "lasso = Lasso().fit(X_train, y_train)\n",
        "print(\"훈련 세트 점수: {:.2f}\".format(lasso.score(X_train, y_train)))\n",
        "print(\"테스트 세트 점수: {:.2f}\".format(lasso.score(X_test, y_test)))\n",
        "print(\"사용한 특성의 개수:\", np.sum(lasso.coef_ !=0))\n"
      ],
      "execution_count": 60,
      "outputs": [
        {
          "output_type": "stream",
          "text": [
            "훈련 세트 점수: 0.29\n",
            "테스트 세트 점수: 0.21\n",
            "사용한 특성의 개수: 4\n"
          ],
          "name": "stdout"
        }
      ]
    },
    {
      "cell_type": "code",
      "metadata": {
        "id": "Ow-G7PG5i1Fl",
        "colab_type": "code",
        "outputId": "eb1ee98f-dd59-4334-da91-f609f64f6a35",
        "colab": {
          "base_uri": "https://localhost:8080/",
          "height": 68
        }
      },
      "source": [
        "# 결과에서 볼 수 있듯이 Lasso는 훈련 세트와 테스트 세트 모두에서 결과가 좋지 않음.\n",
        "# 이는 과소적합이며 104개의 특성 중 4개만 사용 한 것을 볼 수 있음.\n",
        "\n",
        "# 과속적합을 줄이기 위해 alpha 값을 줄여보겠습니다.\n",
        "# 이렇게 하려면 max_iter(반복 실행하는 최대 횟수)의 기본값을 늘려야 합니다.\n",
        "\n",
        "# \"max_iter\" 기본 값을 증가시키지 않으면 max_iter 값을 늘이라는 경고가 발생합니다.\n",
        "lasso001 = Lasso(alpha=0.01, max_iter=100000).fit(X_train, y_train)\n",
        "print(\"훈련 세트 점수: {:.2f}\".format(lasso001.score(X_train, y_train)))\n",
        "print(\"테스트 세트 점수: {:.2f}\".format(lasso001.score(X_test, y_test)))\n",
        "print(\"사용한 특성의 개수:\", np.sum(lasso001.coef_ !=0))"
      ],
      "execution_count": 61,
      "outputs": [
        {
          "output_type": "stream",
          "text": [
            "훈련 세트 점수: 0.90\n",
            "테스트 세트 점수: 0.77\n",
            "사용한 특성의 개수: 33\n"
          ],
          "name": "stdout"
        }
      ]
    },
    {
      "cell_type": "code",
      "metadata": {
        "id": "koYRL4FTlY9b",
        "colab_type": "code",
        "outputId": "3035d2d1-981e-41f9-976d-c178ca4d6ba9",
        "colab": {
          "base_uri": "https://localhost:8080/",
          "height": 68
        }
      },
      "source": [
        "# alpha 값을 낮추면 모델의 복잡도는 증가하여 훈련 세트와 테스트 세트에서의 성능이 좋아집니다.\n",
        "# 성능은 Ridge보다 조금 나은데 사용된 특성은 104개중 33개뿐이서, 아마도 모델을 분석하기가 조금 더 쉬움.\n",
        "# 그러나 alpha 값을 너무 낮추면 규제의 효과가 없어져 과대적합이 되므로 LinearRegression의 결과와 비슷해집니다.\n",
        "\n",
        "lasso00001 = Lasso(alpha=0.0001, max_iter=100000).fit(X_train, y_train)\n",
        "print(\"훈련 세트 점수: {:.2f}\".format(lasso00001.score(X_train, y_train)))\n",
        "print(\"테스트 세트 점수: {:.2f}\".format(lasso00001.score(X_test, y_test)))\n",
        "print(\"사용한 특성의 개수:\", np.sum(lasso00001.coef_ !=0))"
      ],
      "execution_count": 62,
      "outputs": [
        {
          "output_type": "stream",
          "text": [
            "훈련 세트 점수: 0.95\n",
            "테스트 세트 점수: 0.64\n",
            "사용한 특성의 개수: 96\n"
          ],
          "name": "stdout"
        }
      ]
    },
    {
      "cell_type": "markdown",
      "metadata": {
        "id": "igjfiQfgmdi4",
        "colab_type": "text"
      },
      "source": [
        "- 실제로 Ridge vs Lasso 모델중 보통은 리지 회귀를 선호합니다. 하지만 특성이 많고 그중 일부분만 중요하다면 Lasso가 더 좋은 선택일 수 있습니다.\n",
        "- 또한 분석하기 쉬운 모델을 원한다면 Lasso가 입력 특성 중 사용하므로 쉽게 해석할 수 잇는 모델을 만들어줄 것 입니다.\n",
        "- scikit-learn은 Lasso와 Ridge의 패널티를 결합한 ElasticNet도 제공함.\n",
        "- 실제로 이 조합은 최상의 성능을 내지만 L1규제와 L2규제를 위한 매개변수 두 개를 조정해야 합니다.\n",
        "\n"
      ]
    },
    {
      "cell_type": "markdown",
      "metadata": {
        "id": "rS04vN3Ym_Ec",
        "colab_type": "text"
      },
      "source": [
        "### 분류용 선형 모델\n",
        "- 선형 모델은 분류에도 널리사용합니다. \n",
        "- 먼저 이진분류를 살펴보겠습니다. \n",
        "- 특성들의 가중치 하블 그냥 사용하는 대신 예측한 값을 임계치 0과 비교합니다.\n",
        "- 함수에서 계산한 값이 0보다 작으면 클래스를 -1이라고 예측하고 0보다 크면 +1이라고 예측합니다.\n",
        "- 이 규칙은 분류에 쓰이는 모든 선형모델에서 동일합니다.\n",
        "\n",
        "#### 선형 모델을 학습시키는 알고리즘은 다양한대, 다음의 두 방법으로 구분할 수 있습니다.\n",
        "- 특정 계수와 절편의 조합이 훈련 데이터에 얼마나 잘 맞는지 측정하는 방법\n",
        "- 사용할 수 있는 규제가 있는지, 있다면 어떤 방식인지\n",
        "- 가장 널리 알려진 두 개의 선형 분류 알고리즘은 '구현 된 로지스틱회귀'와 '서포트 벡터 머신'"
      ]
    },
    {
      "cell_type": "code",
      "metadata": {
        "id": "OoFyZ9jyl99V",
        "colab_type": "code",
        "outputId": "e7c5e479-e2a7-4837-ce68-8ef418450d10",
        "colab": {
          "base_uri": "https://localhost:8080/",
          "height": 363
        }
      },
      "source": [
        "# forge 데이터셋을 사용하여 LogisticRegression과 LinearSVC 모델을 만들고 \n",
        "# 이 선형 모델들이 만들어낸 결정 경계를 그림으로 나타내보겠습니다.\n",
        "\n",
        "from sklearn.linear_model import LogisticRegression\n",
        "from sklearn.svm import LinearSVC\n",
        "\n",
        "X, y = mglearn.datasets.make_forge()\n",
        "\n",
        "fig, axes = plt.subplots(1, 2, figsize=(10, 3))\n",
        "\n",
        "for model, ax in zip([LinearSVC(), LogisticRegression()], axes):\n",
        "  clf = model.fit(X, y)\n",
        "  mglearn.plots.plot_2d_separator(clf, X, fill=False, eps=0.5,\n",
        "                                  ax=ax, alpha=.7)\n",
        "  mglearn.discrete_scatter(X[:,0], X[:, 1], y, ax=ax)\n",
        "  ax.set_title(clf.__class__.__name__)\n",
        "  ax.set_xlabel(\"특성 0\")\n",
        "  ax.set_ylabel(\"특성 1\")\n",
        "axes[0].legend()"
      ],
      "execution_count": 63,
      "outputs": [
        {
          "output_type": "stream",
          "text": [
            "/usr/local/lib/python3.6/dist-packages/sklearn/utils/deprecation.py:85: DeprecationWarning: Function make_blobs is deprecated; Please import make_blobs directly from scikit-learn\n",
            "  warnings.warn(msg, category=DeprecationWarning)\n",
            "/usr/local/lib/python3.6/dist-packages/sklearn/svm/base.py:929: ConvergenceWarning: Liblinear failed to converge, increase the number of iterations.\n",
            "  \"the number of iterations.\", ConvergenceWarning)\n",
            "/usr/local/lib/python3.6/dist-packages/sklearn/linear_model/logistic.py:432: FutureWarning: Default solver will be changed to 'lbfgs' in 0.22. Specify a solver to silence this warning.\n",
            "  FutureWarning)\n"
          ],
          "name": "stderr"
        },
        {
          "output_type": "execute_result",
          "data": {
            "text/plain": [
              "<matplotlib.legend.Legend at 0x7f5d80c19d30>"
            ]
          },
          "metadata": {
            "tags": []
          },
          "execution_count": 63
        },
        {
          "output_type": "display_data",
          "data": {
            "image/png": "[encoded data removed]",
            "text/plain": [
              "<Figure size 720x216 with 2 Axes>"
            ]
          },
          "metadata": {
            "tags": []
          }
        }
      ]
    },
    {
      "cell_type": "code",
      "metadata": {
        "id": "xoYPpIytpEX4",
        "colab_type": "code",
        "outputId": "97cc67e5-1d22-4d76-ff8c-a23d748c7555",
        "colab": {
          "base_uri": "https://localhost:8080/",
          "height": 268
        }
      },
      "source": [
        "# LogisticRegression과 LinearSVC 에서 규제의 강도를 결정하는 매개변수는 C입니다.\n",
        "# C의 값이 높아지면 규제가 감소합니다. 다시 말해 매개변수로 높은 C 값을 지정하면 \n",
        "# LogisticRegression과 linearSVC는 훈련세트에 가능한 최대로 맞추려 하고, \n",
        "# 반면에 C값을 낮추면 모델은 계수 벡터(w)가 0에 가까워지도록 만듬.\n",
        "\n",
        "mglearn.plots.plot_linear_svc_regularization()"
      ],
      "execution_count": 64,
      "outputs": [
        {
          "output_type": "display_data",
          "data": {
            "image/png": "[encoded data removed]",
            "text/plain": [
              "<Figure size 864x288 with 3 Axes>"
            ]
          },
          "metadata": {
            "tags": []
          }
        }
      ]
    },
    {
      "cell_type": "code",
      "metadata": {
        "id": "BYJEjuh9rhJt",
        "colab_type": "code",
        "colab": {}
      },
      "source": [
        "# forge 데이터셋에 각기 다른 C 값으로 만든 선형 SVM 모델의 결정 경계\n",
        "# 오른쪽은 과대적합된 것 같음."
      ],
      "execution_count": 0,
      "outputs": []
    },
    {
      "cell_type": "code",
      "metadata": {
        "id": "-7WIlnmmr-8A",
        "colab_type": "code",
        "outputId": "6fafa6c5-fb81-4dd2-e558-46dc7b31a6e7",
        "colab": {
          "base_uri": "https://localhost:8080/",
          "height": 105
        }
      },
      "source": [
        "# 유방함 데이터셋을 사용해서 LogisticRegression을 좀 더 자세히 분석\n",
        "\n",
        "from sklearn.datasets import load_breast_cancer\n",
        "cancer = load_breast_cancer()\n",
        "X_train, X_test, y_train, y_test = train_test_split(\n",
        "  cancer.data, cancer.target, stratify=cancer.target, random_state=42)\n",
        "logreg = LogisticRegression().fit(X_train, y_train)\n",
        "print(\"훈련 세트 점수: {:.3f}\".format(logreg.score(X_train, y_train)))\n",
        "print(\"테스트 세트 점수: {:.3f}\".format(logreg.score(X_test, y_test)))"
      ],
      "execution_count": 66,
      "outputs": [
        {
          "output_type": "stream",
          "text": [
            "훈련 세트 점수: 0.953\n",
            "테스트 세트 점수: 0.958\n"
          ],
          "name": "stdout"
        },
        {
          "output_type": "stream",
          "text": [
            "/usr/local/lib/python3.6/dist-packages/sklearn/linear_model/logistic.py:432: FutureWarning: Default solver will be changed to 'lbfgs' in 0.22. Specify a solver to silence this warning.\n",
            "  FutureWarning)\n"
          ],
          "name": "stderr"
        }
      ]
    },
    {
      "cell_type": "code",
      "metadata": {
        "id": "rcRsc5CDs3dw",
        "colab_type": "code",
        "outputId": "d37529d2-c251-414f-e0cf-3749607fe477",
        "colab": {
          "base_uri": "https://localhost:8080/",
          "height": 105
        }
      },
      "source": [
        "# 기본값 C=1이 훈련 세트와 테스트 세트 양쪽에 95% 정확도로 꽤 훌룡한 성능을 내고 있습니다.\n",
        "# 하지만 훈련 세트와 테스트 세트의 성능이 매우 비슷하므로 과소적합인 것 같습니다.\n",
        "# 모델의 제약을 더 풀어주기 위해 C를 증가시켜보겠습니다.\n",
        "\n",
        "logreg100 = LogisticRegression(C=100).fit(X_train, y_train)\n",
        "print(\"훈련 세트 점수: {:.3f}\".format(logreg100.score(X_train, y_train)))\n",
        "print(\"테스트 세트 점수: {:.3f}\".format(logreg100.score(X_test, y_test)))"
      ],
      "execution_count": 67,
      "outputs": [
        {
          "output_type": "stream",
          "text": [
            "훈련 세트 점수: 0.967\n",
            "테스트 세트 점수: 0.965\n"
          ],
          "name": "stdout"
        },
        {
          "output_type": "stream",
          "text": [
            "/usr/local/lib/python3.6/dist-packages/sklearn/linear_model/logistic.py:432: FutureWarning: Default solver will be changed to 'lbfgs' in 0.22. Specify a solver to silence this warning.\n",
            "  FutureWarning)\n"
          ],
          "name": "stderr"
        }
      ]
    },
    {
      "cell_type": "code",
      "metadata": {
        "id": "4X1bdlaPtdP0",
        "colab_type": "code",
        "colab": {}
      },
      "source": [
        "# C=100을 사용하니 훈련 세트의 정확도가 높아졌고 테스트 세트의 정확도도 조금 증가\n",
        "# 이는 복잡도가 높은 모델일수록 성능이 좋음을 말해줌."
      ],
      "execution_count": 0,
      "outputs": []
    },
    {
      "cell_type": "code",
      "metadata": {
        "id": "hmTA8g5Ptm66",
        "colab_type": "code",
        "outputId": "99e54c61-45d7-43ac-c17d-7a7fe08a5f40",
        "colab": {
          "base_uri": "https://localhost:8080/",
          "height": 105
        }
      },
      "source": [
        "# 규제를 더 강하게 하기 위해 기본값(C=1)이 아니라 C=0.01을 사용하면 어떻게 되는지 살펴봄\n",
        "\n",
        "logreg001 = LogisticRegression(C=0.01).fit(X_train, y_train)\n",
        "print(\"훈련 세트 점수: {:.3f}\".format(logreg001.score(X_train, y_train)))\n",
        "print(\"테스트 세트 점수: {:.3f}\".format(logreg001.score(X_test, y_test)))"
      ],
      "execution_count": 69,
      "outputs": [
        {
          "output_type": "stream",
          "text": [
            "훈련 세트 점수: 0.934\n",
            "테스트 세트 점수: 0.930\n"
          ],
          "name": "stdout"
        },
        {
          "output_type": "stream",
          "text": [
            "/usr/local/lib/python3.6/dist-packages/sklearn/linear_model/logistic.py:432: FutureWarning: Default solver will be changed to 'lbfgs' in 0.22. Specify a solver to silence this warning.\n",
            "  FutureWarning)\n"
          ],
          "name": "stderr"
        }
      ]
    },
    {
      "cell_type": "code",
      "metadata": {
        "id": "fM9-DXdstxan",
        "colab_type": "code",
        "colab": {
          "base_uri": "https://localhost:8080/",
          "height": 393
        },
        "outputId": "ce7d123c-1eb4-4567-dd15-0e5dbd98f3d3"
      },
      "source": [
        "# 규제 매개변수 C 설정을 세 가지로 다르게 하여 학습시킨 모델의 계수\n",
        "\n",
        "plt.plot(logreg100.coef_.T, '^', label=\"C100\")\n",
        "plt.plot(logreg.coef_.T, 'o', label=\"C1\")\n",
        "plt.plot(logreg.coef_.T, 'v', label='C=0.001')\n",
        "plt.xticks(range(cancer.data.shape[1]), cancer.feature_names, rotation=90)\n",
        "xlims = plt.xlim()\n",
        "plt.hlines(0, xlims[0], xlims[1])\n",
        "plt.xlim(xlims)\n",
        "plt.ylim(-5, 5)\n",
        "plt.xlabel(\"특성\")\n",
        "plt.ylabel(\"계수 크기\")\n",
        "plt.legend()"
      ],
      "execution_count": 71,
      "outputs": [
        {
          "output_type": "execute_result",
          "data": {
            "text/plain": [
              "<matplotlib.legend.Legend at 0x7f5d80be7f28>"
            ]
          },
          "metadata": {
            "tags": []
          },
          "execution_count": 71
        },
        {
          "output_type": "display_data",
          "data": {
            "image/png": "[encoded data removed]",
            "text/plain": [
              "<Figure size 432x288 with 1 Axes>"
            ]
          },
          "metadata": {
            "tags": []
          }
        }
      ]
    },
    {
      "cell_type": "code",
      "metadata": {
        "id": "ELsOSa2krJ63",
        "colab_type": "code",
        "colab": {
          "base_uri": "https://localhost:8080/",
          "height": 651
        },
        "outputId": "0279dfeb-2121-42a7-d355-2ee14a86b27d"
      },
      "source": [
        "\n",
        "for C, marker in zip([0.001, 1, 100], ['o','^','v']):\n",
        "  lr_l1 = LogisticRegression(C=C, penalty=\"l1\").fit(X_train, y_train)\n",
        "  print(\"C={:.3f}인 l1 로지스틱 회귀의 훈련 정확도: {:.2f}\".format(\n",
        "      C, lr_l1.score(X_train, y_train)))\n",
        "  print(\"C={:.3f}인 l1 로지스틱 회귀의 테스트 정확도: {:.2f}\".format(\n",
        "      C, lr_l1.score(X_test, y_test)))\n",
        "  plt.plot(lr_l1.coef_.T, marker, label=\"C={:.3f}\".format(C))\n",
        "  \n",
        "plt.xticks(range(cancer.data.shape[1]), cancer.feature_names, rotation=90)\n",
        "xlims = plt.xlim()\n",
        "plt.hlines(0, xlims[0], xlims[1])\n",
        "plt.xlim(xlims)\n",
        "plt.xlabel(\"특성\")\n",
        "plt.ylabel(\"계수 크기\")\n",
        "\n",
        "plt.ylim(-5, 5)\n",
        "plt.legend(loc=3)"
      ],
      "execution_count": 79,
      "outputs": [
        {
          "output_type": "stream",
          "text": [
            "/usr/local/lib/python3.6/dist-packages/sklearn/linear_model/logistic.py:432: FutureWarning: Default solver will be changed to 'lbfgs' in 0.22. Specify a solver to silence this warning.\n",
            "  FutureWarning)\n",
            "/usr/local/lib/python3.6/dist-packages/sklearn/linear_model/logistic.py:432: FutureWarning: Default solver will be changed to 'lbfgs' in 0.22. Specify a solver to silence this warning.\n",
            "  FutureWarning)\n"
          ],
          "name": "stderr"
        },
        {
          "output_type": "stream",
          "text": [
            "C=0.001인 l1 로지스틱 회귀의 훈련 정확도: 0.91\n",
            "C=0.001인 l1 로지스틱 회귀의 테스트 정확도: 0.92\n"
          ],
          "name": "stdout"
        },
        {
          "output_type": "stream",
          "text": [
            "/usr/local/lib/python3.6/dist-packages/sklearn/svm/base.py:929: ConvergenceWarning: Liblinear failed to converge, increase the number of iterations.\n",
            "  \"the number of iterations.\", ConvergenceWarning)\n",
            "/usr/local/lib/python3.6/dist-packages/sklearn/linear_model/logistic.py:432: FutureWarning: Default solver will be changed to 'lbfgs' in 0.22. Specify a solver to silence this warning.\n",
            "  FutureWarning)\n"
          ],
          "name": "stderr"
        },
        {
          "output_type": "stream",
          "text": [
            "C=1.000인 l1 로지스틱 회귀의 훈련 정확도: 0.96\n",
            "C=1.000인 l1 로지스틱 회귀의 테스트 정확도: 0.96\n",
            "C=100.000인 l1 로지스틱 회귀의 훈련 정확도: 0.99\n",
            "C=100.000인 l1 로지스틱 회귀의 테스트 정확도: 0.98\n"
          ],
          "name": "stdout"
        },
        {
          "output_type": "execute_result",
          "data": {
            "text/plain": [
              "<matplotlib.legend.Legend at 0x7f5d80b974e0>"
            ]
          },
          "metadata": {
            "tags": []
          },
          "execution_count": 79
        },
        {
          "output_type": "display_data",
          "data": {
            "image/png": "[encoded data removed]",
            "text/plain": [
              "<Figure size 432x288 with 1 Axes>"
            ]
          },
          "metadata": {
            "tags": []
          }
        }
      ]
    },
    {
      "cell_type": "code",
      "metadata": {
        "id": "7VQ3PkJuzb4S",
        "colab_type": "code",
        "colab": {}
      },
      "source": [
        "# 이진 분류에서의 선형 모델과 회귀에서의 선형 모델 사이에는 유사점이 많음.\n",
        "# 회귀에서처럼, 모델들의 주요 차이는 규제에서 모든 특성을 이용할지 일부 특성만을 사용할지 결정하는 penalty 매개변수"
      ],
      "execution_count": 0,
      "outputs": []
    },
    {
      "cell_type": "code",
      "metadata": {
        "id": "PdpaFYQ70ttm",
        "colab_type": "code",
        "colab": {}
      },
      "source": [
        ""
      ],
      "execution_count": 0,
      "outputs": []
    }
  ]
}